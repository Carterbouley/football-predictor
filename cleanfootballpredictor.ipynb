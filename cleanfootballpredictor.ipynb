{
 "cells": [
  {
   "cell_type": "code",
   "execution_count": 613,
   "metadata": {},
   "outputs": [],
   "source": [
    "import pandas as pd\n",
    "import numpy as np\n",
    "from sklearn.linear_model import LogisticRegression\n",
    "from sklearn.model_selection import GridSearchCV\n",
    "from sklearn.metrics import classification_report\n",
    "from sklearn.model_selection import GridSearchCV\n",
    "from sklearn.model_selection import cross_val_score\n",
    "from sklearn.tree import DecisionTreeClassifier\n",
    "from sklearn.ensemble import RandomForestClassifier\n",
    "from sklearn import preprocessing\n",
    "from sklearn.metrics import accuracy_score"
   ]
  },
  {
   "cell_type": "code",
   "execution_count": 614,
   "metadata": {},
   "outputs": [],
   "source": [
    "df=pd.read_csv('E0 (1).csv')\n",
    "df2 = pd.read_csv('E0 (2).csv')\n",
    "df3 =pd.read_csv('E0 (3).csv')\n",
    "df4 = pd.read_csv('E0 (4).csv')\n",
    "df5 = pd.read_csv('E0 (5).csv')"
   ]
  },
  {
   "cell_type": "code",
   "execution_count": 615,
   "metadata": {},
   "outputs": [
    {
     "name": "stderr",
     "output_type": "stream",
     "text": [
      "/Users/carterbouley/anaconda3/envs/learn-env/lib/python3.6/site-packages/pandas/core/frame.py:7123: FutureWarning: Sorting because non-concatenation axis is not aligned. A future version\n",
      "of pandas will change to not sort by default.\n",
      "\n",
      "To accept the future behavior, pass 'sort=False'.\n",
      "\n",
      "To retain the current behavior and silence the warning, pass 'sort=True'.\n",
      "\n",
      "  sort=sort,\n"
     ]
    }
   ],
   "source": [
    "new_df = df.append(df2)\n",
    "new_df = new_df.append(df3)\n",
    "new_df = new_df.append(df4)\n",
    "new_df = new_df.append(df5)"
   ]
  },
  {
   "cell_type": "code",
   "execution_count": 616,
   "metadata": {},
   "outputs": [],
   "source": [
    "new_df = new_df[['Div', 'Date', 'HomeTeam', 'AwayTeam', 'FTHG', 'FTAG', 'FTR', 'HTHG',\n",
    "       'HTAG', 'HTR', 'Referee', 'HS', 'AS', 'HST', 'AST', 'HF', 'AF', 'HC',\n",
    "       'AC', 'HY', 'AY', 'HR', 'AR', 'PSH', 'PSD', 'PSA' ]]\n",
    "\n",
    "new_df.drop(columns = 'Div', inplace = True)"
   ]
  },
  {
   "cell_type": "code",
   "execution_count": 617,
   "metadata": {},
   "outputs": [],
   "source": [
    "new_df2 = new_df.copy()\n",
    "\n",
    "new_df['Team'] = new_df.HomeTeam\n",
    "new_df['Opponent'] = new_df.AwayTeam\n",
    "\n",
    "new_df2['Team'] = new_df.AwayTeam\n",
    "new_df2['Opponent'] = new_df.HomeTeam\n",
    "\n",
    "df3 = pd.concat([new_df, new_df2])"
   ]
  },
  {
   "cell_type": "code",
   "execution_count": 618,
   "metadata": {},
   "outputs": [],
   "source": [
    "def home_away_numerical(df):\n",
    "    \"\"\"\n",
    "    Simple function to assign a numerical value to whether a team is home/away. In this case, home=1 away=0. Same methodology\n",
    "    as above, chunk list to pd.concat().\n",
    "    \"\"\"\n",
    "    team_list = df.HomeTeam.unique()\n",
    "    chunks = []\n",
    "    for team in team_list:\n",
    "        all_games = df[df['Team']==team]\n",
    "        all_games['HomeAway'] = 1\n",
    "        all_games.loc[all_games['AwayTeam']==team,'HomeAway'] = 0\n",
    "        chunks.append(all_games)\n",
    "    dataframe = pd.concat(chunks,ignore_index=True)\n",
    "    return dataframe\n"
   ]
  },
  {
   "cell_type": "code",
   "execution_count": 619,
   "metadata": {},
   "outputs": [
    {
     "name": "stderr",
     "output_type": "stream",
     "text": [
      "/Users/carterbouley/anaconda3/envs/learn-env/lib/python3.6/site-packages/ipykernel_launcher.py:10: SettingWithCopyWarning: \n",
      "A value is trying to be set on a copy of a slice from a DataFrame.\n",
      "Try using .loc[row_indexer,col_indexer] = value instead\n",
      "\n",
      "See the caveats in the documentation: http://pandas.pydata.org/pandas-docs/stable/user_guide/indexing.html#returning-a-view-versus-a-copy\n",
      "  # Remove the CWD from sys.path while we load stuff.\n",
      "/Users/carterbouley/anaconda3/envs/learn-env/lib/python3.6/site-packages/pandas/core/indexing.py:494: SettingWithCopyWarning: \n",
      "A value is trying to be set on a copy of a slice from a DataFrame.\n",
      "Try using .loc[row_indexer,col_indexer] = value instead\n",
      "\n",
      "See the caveats in the documentation: http://pandas.pydata.org/pandas-docs/stable/user_guide/indexing.html#returning-a-view-versus-a-copy\n",
      "  self.obj[item] = s\n"
     ]
    }
   ],
   "source": [
    "df3 = home_away_numerical(df3) # generates home dummy variable for home or away"
   ]
  },
  {
   "cell_type": "code",
   "execution_count": 620,
   "metadata": {},
   "outputs": [],
   "source": [
    "df4 = df3[['Team', 'Opponent', 'HomeAway', 'Date',  'FTHG', 'FTAG', 'FTR', 'HTHG',\n",
    "       'HTAG', 'HTR', 'Referee','HST', 'AST', 'HC',\n",
    "       'AC', 'HR', 'AR', 'PSH', 'PSD', 'PSA', ]].copy()"
   ]
  },
  {
   "cell_type": "code",
   "execution_count": 621,
   "metadata": {},
   "outputs": [],
   "source": [
    "team_list = new_df.HomeTeam.unique()\n",
    "team_list = team_list.tolist()\n",
    "\n",
    "list_of_hthg = []\n",
    "for team in team_list:\n",
    "    dfnew = df4.loc[(df4.Team==team) & (df4.HomeAway == 1)]['HTHG'].mean()\n",
    "    list_of_hthg.append(dfnew)\n",
    "    \n",
    "team_list = df4.Team.unique()\n",
    "team_list = team_list.tolist()\n",
    " \n",
    "average_hthg = dict(zip(team_list, list_of_hthg))\n",
    "\n",
    "list_of_htag = []\n",
    "for team in team_list:\n",
    "    dfnew = df4.loc[(df4.Team==team) & (df4.HomeAway == 0)]['HTAG'].mean()\n",
    "    list_of_htag.append(dfnew)\n",
    "    \n",
    "team_list = df4.Team.unique()\n",
    "team_list = team_list.tolist()\n",
    " \n",
    "average_htag = dict(zip(team_list, list_of_htag))\n",
    "\n",
    "list_of_fthg = []\n",
    "for team in team_list:\n",
    "    dfnew = df4.loc[(df4.Team==team) & (df4.HomeAway == 1)]['FTHG'].mean()\n",
    "    list_of_fthg.append(dfnew)\n",
    "    \n",
    "team_list = df4.Team.unique()\n",
    "team_list = team_list.tolist()\n",
    " \n",
    "average_fthg = dict(zip(team_list, list_of_fthg))\n",
    "\n",
    "list_of_ftag = []\n",
    "for team in team_list:\n",
    "    dfnew = df4.loc[(df4.Team==team) & (df4.HomeAway == 0)]['FTAG'].mean()\n",
    "    list_of_ftag.append(dfnew)\n",
    "    \n",
    "team_list = df4.Team.unique()\n",
    "team_list = team_list.tolist()\n",
    " \n",
    "average_ftag = dict(zip(team_list, list_of_ftag))\n",
    "\n",
    "list_of_hst = []\n",
    "for team in team_list:\n",
    "    dfnew = df4.loc[(df4.Team==team) & (df4.HomeAway == 1)]['HST'].mean()\n",
    "    list_of_hst.append(dfnew)\n",
    "    \n",
    "team_list = df4.Team.unique()\n",
    "team_list = team_list.tolist()\n",
    " \n",
    "average_hst = dict(zip(team_list, list_of_hst))\n",
    "\n",
    "list_of_ast = []\n",
    "for team in team_list:\n",
    "    dfnew = df4.loc[(df4.Team==team) & (df4.HomeAway == 0)]['AST'].mean()\n",
    "    list_of_ast.append(dfnew)\n",
    "    \n",
    "team_list = df4.Team.unique()\n",
    "team_list = team_list.tolist()\n",
    " \n",
    "average_ast = dict(zip(team_list, list_of_ast))\n",
    "\n",
    "list_of_hc = []\n",
    "for team in team_list:\n",
    "    dfnew = df4.loc[(df4.Team==team) & (df4.HomeAway == 1)]['HC'].mean()\n",
    "    list_of_hc.append(dfnew)\n",
    "    \n",
    "team_list = df4.Team.unique()\n",
    "team_list = team_list.tolist()\n",
    " \n",
    "average_hc = dict(zip(team_list, list_of_hc))\n",
    "\n",
    "list_of_ac = []\n",
    "for team in team_list:\n",
    "    dfnew = df4.loc[(df4.Team==team) & (df4.HomeAway == 0)]['AC'].mean()\n",
    "    list_of_ac.append(dfnew)\n",
    "    \n",
    "team_list = df4.Team.unique()\n",
    "team_list = team_list.tolist()\n",
    " \n",
    "average_ac = dict(zip(team_list, list_of_ac))\n",
    "\n",
    "list_of_hr = []\n",
    "for team in team_list:\n",
    "    dfnew = df4.loc[(df4.Team==team) & (df4.HomeAway == 1)]['HR'].mean()\n",
    "    list_of_hr.append(dfnew)\n",
    "    \n",
    "team_list = df4.Team.unique()\n",
    "team_list = team_list.tolist()\n",
    " \n",
    "average_hr = dict(zip(team_list, list_of_hr))\n",
    "\n",
    "list_of_ar = []\n",
    "for team in team_list:\n",
    "    dfnew = df4.loc[(df4.Team==team) & (df4.HomeAway == 0)]['AR'].mean()\n",
    "    list_of_ar.append(dfnew)\n",
    "    \n",
    "team_list = df4.Team.unique()\n",
    "team_list = team_list.tolist()\n",
    " \n",
    "average_ar = dict(zip(team_list, list_of_ar))"
   ]
  },
  {
   "cell_type": "code",
   "execution_count": 622,
   "metadata": {},
   "outputs": [],
   "source": [
    "new_df.Date = pd.to_datetime(new_df.Date, infer_datetime_format=True)\n",
    "df_final =  new_df.sort_values(by='Date', ascending = True) "
   ]
  },
  {
   "cell_type": "code",
   "execution_count": 623,
   "metadata": {},
   "outputs": [
    {
     "data": {
      "text/plain": [
       "(1670, 27)"
      ]
     },
     "execution_count": 623,
     "metadata": {},
     "output_type": "execute_result"
    }
   ],
   "source": [
    "df_final.shape"
   ]
  },
  {
   "cell_type": "code",
   "execution_count": 624,
   "metadata": {},
   "outputs": [],
   "source": [
    "df_final['average_halftimehomegoals'] = df_final['HomeTeam'].map(average_hthg)\n",
    "df_final['average_halftimeawaygoals'] = df_final['AwayTeam'].map(average_htag)\n",
    "df_final['average_fulltimehomegoals'] = df_final['HomeTeam'].map(average_fthg)\n",
    "df_final['average_fulltimeawaygoals'] = df_final['AwayTeam'].map(average_ftag)\n",
    "df_final['average_hometeamshotsontarget'] = df_final['HomeTeam'].map(average_hst)\n",
    "df_final['average_awayteamshotsontarget'] = df_final['AwayTeam'].map(average_ast)\n",
    "df_final['average_homecorners'] = df_final['HomeTeam'].map(average_hc)\n",
    "df_final['average_awaycorners'] = df_final['AwayTeam'].map(average_ac)\n",
    "df_final['average_homereds'] = df_final['HomeTeam'].map(average_hr)\n",
    "df_final['average_awayreds'] = df_final['AwayTeam'].map(average_ar)"
   ]
  },
  {
   "cell_type": "code",
   "execution_count": 625,
   "metadata": {},
   "outputs": [
    {
     "data": {
      "text/plain": [
       "Index(['Date', 'HomeTeam', 'AwayTeam', 'FTHG', 'FTAG', 'FTR', 'HTHG', 'HTAG',\n",
       "       'HTR', 'Referee', 'HS', 'AS', 'HST', 'AST', 'HF', 'AF', 'HC', 'AC',\n",
       "       'HY', 'AY', 'HR', 'AR', 'PSH', 'PSD', 'PSA', 'Team', 'Opponent',\n",
       "       'average_halftimehomegoals', 'average_halftimeawaygoals',\n",
       "       'average_fulltimehomegoals', 'average_fulltimeawaygoals',\n",
       "       'average_hometeamshotsontarget', 'average_awayteamshotsontarget',\n",
       "       'average_homecorners', 'average_awaycorners', 'average_homereds',\n",
       "       'average_awayreds'],\n",
       "      dtype='object')"
      ]
     },
     "execution_count": 625,
     "metadata": {},
     "output_type": "execute_result"
    }
   ],
   "source": [
    "df_final.columns"
   ]
  },
  {
   "cell_type": "code",
   "execution_count": 626,
   "metadata": {},
   "outputs": [],
   "source": [
    "df_final['avg_half_timegoals_homevsawayratio'] = df_final['average_halftimehomegoals']/df_final['average_halftimeawaygoals'] \n",
    "\n",
    "\n",
    "df_final['avg_full_timegoals_homevsawayratio'] = df_final['average_fulltimehomegoals']/df_final['average_fulltimeawaygoals'] \n",
    "\n",
    "df_final['avg_full_timeshotsontarget_homevsawayratio'] = df_final['average_hometeamshotsontarget']/df_final['average_awayteamshotsontarget']\n",
    "df_final['avg_corners_homevsawayratio'] = df_final['average_homecorners']/df_final['average_awaycorners'] \n",
    "df_final['avg_reds_homevsawayratio'] = df_final['average_homereds']/df_final['average_awayreds'] \n"
   ]
  },
  {
   "cell_type": "code",
   "execution_count": 627,
   "metadata": {},
   "outputs": [],
   "source": [
    "df_final.set_index('Date', inplace = True)"
   ]
  },
  {
   "cell_type": "code",
   "execution_count": 628,
   "metadata": {},
   "outputs": [
    {
     "data": {
      "text/html": [
       "<div>\n",
       "<style scoped>\n",
       "    .dataframe tbody tr th:only-of-type {\n",
       "        vertical-align: middle;\n",
       "    }\n",
       "\n",
       "    .dataframe tbody tr th {\n",
       "        vertical-align: top;\n",
       "    }\n",
       "\n",
       "    .dataframe thead th {\n",
       "        text-align: right;\n",
       "    }\n",
       "</style>\n",
       "<table border=\"1\" class=\"dataframe\">\n",
       "  <thead>\n",
       "    <tr style=\"text-align: right;\">\n",
       "      <th></th>\n",
       "      <th>Date</th>\n",
       "      <th>HomeTeam</th>\n",
       "      <th>AwayTeam</th>\n",
       "      <th>FTHG</th>\n",
       "      <th>FTAG</th>\n",
       "      <th>FTR</th>\n",
       "      <th>HTHG</th>\n",
       "      <th>HTAG</th>\n",
       "      <th>HTR</th>\n",
       "      <th>Referee</th>\n",
       "      <th>...</th>\n",
       "      <th>average_awayteamshotsontarget</th>\n",
       "      <th>average_homecorners</th>\n",
       "      <th>average_awaycorners</th>\n",
       "      <th>average_homereds</th>\n",
       "      <th>average_awayreds</th>\n",
       "      <th>avg_half_timegoals_homevsawayratio</th>\n",
       "      <th>avg_full_timegoals_homevsawayratio</th>\n",
       "      <th>avg_full_timeshotsontarget_homevsawayratio</th>\n",
       "      <th>avg_corners_homevsawayratio</th>\n",
       "      <th>avg_reds_homevsawayratio</th>\n",
       "    </tr>\n",
       "  </thead>\n",
       "  <tbody>\n",
       "    <tr>\n",
       "      <td>0</td>\n",
       "      <td>2015-01-11</td>\n",
       "      <td>Everton</td>\n",
       "      <td>Sunderland</td>\n",
       "      <td>6</td>\n",
       "      <td>2</td>\n",
       "      <td>H</td>\n",
       "      <td>2</td>\n",
       "      <td>1</td>\n",
       "      <td>H</td>\n",
       "      <td>A Marriner</td>\n",
       "      <td>...</td>\n",
       "      <td>3.315789</td>\n",
       "      <td>5.963855</td>\n",
       "      <td>3.552632</td>\n",
       "      <td>0.036145</td>\n",
       "      <td>0.078947</td>\n",
       "      <td>1.962134</td>\n",
       "      <td>1.722892</td>\n",
       "      <td>1.417097</td>\n",
       "      <td>1.678715</td>\n",
       "      <td>0.457831</td>\n",
       "    </tr>\n",
       "    <tr>\n",
       "      <td>1</td>\n",
       "      <td>2015-01-11</td>\n",
       "      <td>Southampton</td>\n",
       "      <td>Bournemouth</td>\n",
       "      <td>2</td>\n",
       "      <td>0</td>\n",
       "      <td>H</td>\n",
       "      <td>2</td>\n",
       "      <td>0</td>\n",
       "      <td>H</td>\n",
       "      <td>C Pawson</td>\n",
       "      <td>...</td>\n",
       "      <td>3.750000</td>\n",
       "      <td>5.726190</td>\n",
       "      <td>5.166667</td>\n",
       "      <td>0.107143</td>\n",
       "      <td>0.035714</td>\n",
       "      <td>1.020000</td>\n",
       "      <td>1.166667</td>\n",
       "      <td>1.215873</td>\n",
       "      <td>1.108295</td>\n",
       "      <td>3.000000</td>\n",
       "    </tr>\n",
       "    <tr>\n",
       "      <td>2</td>\n",
       "      <td>2015-02-11</td>\n",
       "      <td>Tottenham</td>\n",
       "      <td>Aston Villa</td>\n",
       "      <td>3</td>\n",
       "      <td>1</td>\n",
       "      <td>H</td>\n",
       "      <td>2</td>\n",
       "      <td>0</td>\n",
       "      <td>H</td>\n",
       "      <td>M Dean</td>\n",
       "      <td>...</td>\n",
       "      <td>3.370370</td>\n",
       "      <td>7.036145</td>\n",
       "      <td>4.037037</td>\n",
       "      <td>0.012048</td>\n",
       "      <td>0.111111</td>\n",
       "      <td>2.602410</td>\n",
       "      <td>2.212048</td>\n",
       "      <td>1.955382</td>\n",
       "      <td>1.742898</td>\n",
       "      <td>0.108434</td>\n",
       "    </tr>\n",
       "    <tr>\n",
       "      <td>3</td>\n",
       "      <td>2015-03-10</td>\n",
       "      <td>Crystal Palace</td>\n",
       "      <td>West Brom</td>\n",
       "      <td>2</td>\n",
       "      <td>0</td>\n",
       "      <td>H</td>\n",
       "      <td>0</td>\n",
       "      <td>0</td>\n",
       "      <td>D</td>\n",
       "      <td>J Moss</td>\n",
       "      <td>...</td>\n",
       "      <td>2.543860</td>\n",
       "      <td>6.107143</td>\n",
       "      <td>4.105263</td>\n",
       "      <td>0.035714</td>\n",
       "      <td>0.035088</td>\n",
       "      <td>1.583333</td>\n",
       "      <td>1.645536</td>\n",
       "      <td>1.670690</td>\n",
       "      <td>1.487637</td>\n",
       "      <td>1.017857</td>\n",
       "    </tr>\n",
       "    <tr>\n",
       "      <td>4</td>\n",
       "      <td>2015-03-10</td>\n",
       "      <td>Chelsea</td>\n",
       "      <td>Southampton</td>\n",
       "      <td>1</td>\n",
       "      <td>3</td>\n",
       "      <td>A</td>\n",
       "      <td>1</td>\n",
       "      <td>1</td>\n",
       "      <td>D</td>\n",
       "      <td>R Madley</td>\n",
       "      <td>...</td>\n",
       "      <td>4.060241</td>\n",
       "      <td>6.880952</td>\n",
       "      <td>5.192771</td>\n",
       "      <td>0.071429</td>\n",
       "      <td>0.072289</td>\n",
       "      <td>1.924185</td>\n",
       "      <td>1.896689</td>\n",
       "      <td>1.507065</td>\n",
       "      <td>1.325102</td>\n",
       "      <td>0.988095</td>\n",
       "    </tr>\n",
       "    <tr>\n",
       "      <td>...</td>\n",
       "      <td>...</td>\n",
       "      <td>...</td>\n",
       "      <td>...</td>\n",
       "      <td>...</td>\n",
       "      <td>...</td>\n",
       "      <td>...</td>\n",
       "      <td>...</td>\n",
       "      <td>...</td>\n",
       "      <td>...</td>\n",
       "      <td>...</td>\n",
       "      <td>...</td>\n",
       "      <td>...</td>\n",
       "      <td>...</td>\n",
       "      <td>...</td>\n",
       "      <td>...</td>\n",
       "      <td>...</td>\n",
       "      <td>...</td>\n",
       "      <td>...</td>\n",
       "      <td>...</td>\n",
       "      <td>...</td>\n",
       "      <td>...</td>\n",
       "    </tr>\n",
       "    <tr>\n",
       "      <td>1665</td>\n",
       "      <td>2019-12-05</td>\n",
       "      <td>Crystal Palace</td>\n",
       "      <td>Bournemouth</td>\n",
       "      <td>5</td>\n",
       "      <td>3</td>\n",
       "      <td>H</td>\n",
       "      <td>3</td>\n",
       "      <td>1</td>\n",
       "      <td>H</td>\n",
       "      <td>R East</td>\n",
       "      <td>...</td>\n",
       "      <td>3.750000</td>\n",
       "      <td>6.107143</td>\n",
       "      <td>5.166667</td>\n",
       "      <td>0.035714</td>\n",
       "      <td>0.035714</td>\n",
       "      <td>0.840000</td>\n",
       "      <td>1.010417</td>\n",
       "      <td>1.133333</td>\n",
       "      <td>1.182028</td>\n",
       "      <td>1.000000</td>\n",
       "    </tr>\n",
       "    <tr>\n",
       "      <td>1666</td>\n",
       "      <td>2019-12-05</td>\n",
       "      <td>Burnley</td>\n",
       "      <td>Arsenal</td>\n",
       "      <td>1</td>\n",
       "      <td>3</td>\n",
       "      <td>A</td>\n",
       "      <td>0</td>\n",
       "      <td>0</td>\n",
       "      <td>D</td>\n",
       "      <td>M Dean</td>\n",
       "      <td>...</td>\n",
       "      <td>4.421687</td>\n",
       "      <td>4.600000</td>\n",
       "      <td>4.915663</td>\n",
       "      <td>0.000000</td>\n",
       "      <td>0.072289</td>\n",
       "      <td>0.874929</td>\n",
       "      <td>0.766154</td>\n",
       "      <td>0.814169</td>\n",
       "      <td>0.935784</td>\n",
       "      <td>0.000000</td>\n",
       "    </tr>\n",
       "    <tr>\n",
       "      <td>1667</td>\n",
       "      <td>2019-12-05</td>\n",
       "      <td>Brighton</td>\n",
       "      <td>Man City</td>\n",
       "      <td>1</td>\n",
       "      <td>4</td>\n",
       "      <td>A</td>\n",
       "      <td>1</td>\n",
       "      <td>2</td>\n",
       "      <td>A</td>\n",
       "      <td>M Oliver</td>\n",
       "      <td>...</td>\n",
       "      <td>5.714286</td>\n",
       "      <td>4.822222</td>\n",
       "      <td>6.928571</td>\n",
       "      <td>0.088889</td>\n",
       "      <td>0.023810</td>\n",
       "      <td>0.450575</td>\n",
       "      <td>0.575194</td>\n",
       "      <td>0.587222</td>\n",
       "      <td>0.695991</td>\n",
       "      <td>3.733333</td>\n",
       "    </tr>\n",
       "    <tr>\n",
       "      <td>1668</td>\n",
       "      <td>2019-12-05</td>\n",
       "      <td>Man United</td>\n",
       "      <td>Cardiff</td>\n",
       "      <td>0</td>\n",
       "      <td>2</td>\n",
       "      <td>A</td>\n",
       "      <td>0</td>\n",
       "      <td>1</td>\n",
       "      <td>A</td>\n",
       "      <td>J Moss</td>\n",
       "      <td>...</td>\n",
       "      <td>3.052632</td>\n",
       "      <td>6.333333</td>\n",
       "      <td>3.842105</td>\n",
       "      <td>0.023810</td>\n",
       "      <td>0.052632</td>\n",
       "      <td>4.976190</td>\n",
       "      <td>2.418498</td>\n",
       "      <td>1.774425</td>\n",
       "      <td>1.648402</td>\n",
       "      <td>0.452381</td>\n",
       "    </tr>\n",
       "    <tr>\n",
       "      <td>1669</td>\n",
       "      <td>2019-12-05</td>\n",
       "      <td>Watford</td>\n",
       "      <td>West Ham</td>\n",
       "      <td>1</td>\n",
       "      <td>4</td>\n",
       "      <td>A</td>\n",
       "      <td>0</td>\n",
       "      <td>2</td>\n",
       "      <td>A</td>\n",
       "      <td>C Kavanagh</td>\n",
       "      <td>...</td>\n",
       "      <td>3.857143</td>\n",
       "      <td>4.867470</td>\n",
       "      <td>4.464286</td>\n",
       "      <td>0.108434</td>\n",
       "      <td>0.119048</td>\n",
       "      <td>0.737952</td>\n",
       "      <td>0.938445</td>\n",
       "      <td>1.027666</td>\n",
       "      <td>1.090313</td>\n",
       "      <td>0.910843</td>\n",
       "    </tr>\n",
       "  </tbody>\n",
       "</table>\n",
       "<p>1670 rows × 42 columns</p>\n",
       "</div>"
      ],
      "text/plain": [
       "           Date        HomeTeam     AwayTeam  FTHG  FTAG FTR  HTHG  HTAG HTR  \\\n",
       "0    2015-01-11         Everton   Sunderland     6     2   H     2     1   H   \n",
       "1    2015-01-11     Southampton  Bournemouth     2     0   H     2     0   H   \n",
       "2    2015-02-11       Tottenham  Aston Villa     3     1   H     2     0   H   \n",
       "3    2015-03-10  Crystal Palace    West Brom     2     0   H     0     0   D   \n",
       "4    2015-03-10         Chelsea  Southampton     1     3   A     1     1   D   \n",
       "...         ...             ...          ...   ...   ...  ..   ...   ...  ..   \n",
       "1665 2019-12-05  Crystal Palace  Bournemouth     5     3   H     3     1   H   \n",
       "1666 2019-12-05         Burnley      Arsenal     1     3   A     0     0   D   \n",
       "1667 2019-12-05        Brighton     Man City     1     4   A     1     2   A   \n",
       "1668 2019-12-05      Man United      Cardiff     0     2   A     0     1   A   \n",
       "1669 2019-12-05         Watford     West Ham     1     4   A     0     2   A   \n",
       "\n",
       "         Referee  ...  average_awayteamshotsontarget  average_homecorners  \\\n",
       "0     A Marriner  ...                       3.315789             5.963855   \n",
       "1       C Pawson  ...                       3.750000             5.726190   \n",
       "2         M Dean  ...                       3.370370             7.036145   \n",
       "3         J Moss  ...                       2.543860             6.107143   \n",
       "4       R Madley  ...                       4.060241             6.880952   \n",
       "...          ...  ...                            ...                  ...   \n",
       "1665      R East  ...                       3.750000             6.107143   \n",
       "1666      M Dean  ...                       4.421687             4.600000   \n",
       "1667    M Oliver  ...                       5.714286             4.822222   \n",
       "1668      J Moss  ...                       3.052632             6.333333   \n",
       "1669  C Kavanagh  ...                       3.857143             4.867470   \n",
       "\n",
       "      average_awaycorners  average_homereds  average_awayreds  \\\n",
       "0                3.552632          0.036145          0.078947   \n",
       "1                5.166667          0.107143          0.035714   \n",
       "2                4.037037          0.012048          0.111111   \n",
       "3                4.105263          0.035714          0.035088   \n",
       "4                5.192771          0.071429          0.072289   \n",
       "...                   ...               ...               ...   \n",
       "1665             5.166667          0.035714          0.035714   \n",
       "1666             4.915663          0.000000          0.072289   \n",
       "1667             6.928571          0.088889          0.023810   \n",
       "1668             3.842105          0.023810          0.052632   \n",
       "1669             4.464286          0.108434          0.119048   \n",
       "\n",
       "      avg_half_timegoals_homevsawayratio  avg_full_timegoals_homevsawayratio  \\\n",
       "0                               1.962134                            1.722892   \n",
       "1                               1.020000                            1.166667   \n",
       "2                               2.602410                            2.212048   \n",
       "3                               1.583333                            1.645536   \n",
       "4                               1.924185                            1.896689   \n",
       "...                                  ...                                 ...   \n",
       "1665                            0.840000                            1.010417   \n",
       "1666                            0.874929                            0.766154   \n",
       "1667                            0.450575                            0.575194   \n",
       "1668                            4.976190                            2.418498   \n",
       "1669                            0.737952                            0.938445   \n",
       "\n",
       "      avg_full_timeshotsontarget_homevsawayratio  avg_corners_homevsawayratio  \\\n",
       "0                                       1.417097                     1.678715   \n",
       "1                                       1.215873                     1.108295   \n",
       "2                                       1.955382                     1.742898   \n",
       "3                                       1.670690                     1.487637   \n",
       "4                                       1.507065                     1.325102   \n",
       "...                                          ...                          ...   \n",
       "1665                                    1.133333                     1.182028   \n",
       "1666                                    0.814169                     0.935784   \n",
       "1667                                    0.587222                     0.695991   \n",
       "1668                                    1.774425                     1.648402   \n",
       "1669                                    1.027666                     1.090313   \n",
       "\n",
       "      avg_reds_homevsawayratio  \n",
       "0                     0.457831  \n",
       "1                     3.000000  \n",
       "2                     0.108434  \n",
       "3                     1.017857  \n",
       "4                     0.988095  \n",
       "...                        ...  \n",
       "1665                  1.000000  \n",
       "1666                  0.000000  \n",
       "1667                  3.733333  \n",
       "1668                  0.452381  \n",
       "1669                  0.910843  \n",
       "\n",
       "[1670 rows x 42 columns]"
      ]
     },
     "execution_count": 628,
     "metadata": {},
     "output_type": "execute_result"
    }
   ],
   "source": [
    "df_final.reset_index()"
   ]
  },
  {
   "cell_type": "code",
   "execution_count": 629,
   "metadata": {},
   "outputs": [],
   "source": [
    "df_final['hometeampreviousyearleagueposition'] = 0"
   ]
  },
  {
   "cell_type": "code",
   "execution_count": 630,
   "metadata": {},
   "outputs": [],
   "source": [
    "league1415 = pd.read_csv('14:15league-table.csv')\n",
    "league1516 = pd.read_csv('15:16league-table.csv')\n",
    "league1617 = pd.read_csv('16:17league-table.csv')\n",
    "league1718 = pd.read_csv('17:18league-table.csv')\n",
    "league1819 = pd.read_csv('18:19league-table.csv')"
   ]
  },
  {
   "cell_type": "code",
   "execution_count": 631,
   "metadata": {},
   "outputs": [],
   "source": [
    "list_of_leagues = [league1415,\n",
    "league1516,\n",
    "league1617,\n",
    "league1718,\n",
    "league1819]"
   ]
  },
  {
   "cell_type": "code",
   "execution_count": 632,
   "metadata": {},
   "outputs": [],
   "source": [
    "def convert_to_dict(standings):\n",
    "    league = standings[['Position', 'Team']]\n",
    "    league = dict(zip(leage.Team, leage.Position))\n",
    "    return league"
   ]
  },
  {
   "cell_type": "code",
   "execution_count": 633,
   "metadata": {},
   "outputs": [
    {
     "data": {
      "text/plain": [
       "{'Liverpool': 1,\n",
       " 'Manchester City': 2,\n",
       " 'Leicester City': 3,\n",
       " 'Chelsea': 4,\n",
       " 'Manchester United': 5,\n",
       " 'Wolverhampton Wanderers': 6,\n",
       " 'Sheffield United': 7,\n",
       " 'Tottenham Hotspur': 8,\n",
       " 'Arsenal': 9,\n",
       " 'Burnley': 10,\n",
       " 'Crystal Palace': 11,\n",
       " 'Everton': 12,\n",
       " 'Newcastle United': 13,\n",
       " 'Southampton': 14,\n",
       " 'Brighton & Hove Albion': 15,\n",
       " 'West Ham United': 16,\n",
       " 'Watford': 17,\n",
       " 'AFC Bournemouth': 18,\n",
       " 'Aston Villa': 19,\n",
       " 'Norwich City': 20}"
      ]
     },
     "execution_count": 633,
     "metadata": {},
     "output_type": "execute_result"
    }
   ],
   "source": [
    "convert_to_dict(league1415)"
   ]
  },
  {
   "cell_type": "code",
   "execution_count": 634,
   "metadata": {},
   "outputs": [],
   "source": [
    "\n",
    "for league in list_of_leages:\n",
    "    league = leage[['Position', 'Team']]\n",
    "    league = dict(zip(leage.Team, leage.Position))"
   ]
  },
  {
   "cell_type": "code",
   "execution_count": 635,
   "metadata": {},
   "outputs": [],
   "source": [
    "df_final = df_final.reset_index()"
   ]
  },
  {
   "cell_type": "code",
   "execution_count": 636,
   "metadata": {},
   "outputs": [],
   "source": [
    "df_final = df_final.sort_values(by='Date')"
   ]
  },
  {
   "cell_type": "code",
   "execution_count": 637,
   "metadata": {},
   "outputs": [],
   "source": [
    "df_final.loc[(df_final['Date'] >= '2015-08-08') & (df_final['Date'] <= '2016-05-17'),\n",
    "             'hometeampreviousyearleagueposition'] = df_final['HomeTeam'].map(convert_to_dict(league1415))\n",
    "df_final.loc[(df_final['Date'] >= '2016-08-12') & (df_final['Date'] <= '2017-05-22'),\n",
    "             'hometeampreviousyearleagueposition'] = df_final['HomeTeam'].map(convert_to_dict(league1516))\n",
    "df_final.loc[(df_final['Date'] >= '2017-08-11') & (df_final['Date'] <= '2018-05-13'),\n",
    "             'hometeampreviousyearleagueposition'] = df_final['HomeTeam'].map(convert_to_dict(league1617))\n",
    "df_final.loc[(df_final['Date'] >= '2018-08-10') & (df_final['Date'] <= '2019-05-12'),\n",
    "             'hometeampreviousyearleagueposition'] = df_final['HomeTeam'].map(convert_to_dict(league1718))\n",
    "df_final.loc[(df_final['Date'] >= '2019-08-09') & (df_final['Date'] <= '2019-12-12'),\n",
    "             'hometeampreviousyearleagueposition'] = df_final['HomeTeam'].map(convert_to_dict(league1819))"
   ]
  },
  {
   "cell_type": "code",
   "execution_count": 638,
   "metadata": {},
   "outputs": [],
   "source": [
    "df_final.loc[(df_final['Date'] >= '2015-08-08') & (df_final['Date'] <= '2016-05-17'),\n",
    "             'awayteampreviousyearleagueposition'] = df_final['AwayTeam'].map(convert_to_dict(league1415))\n",
    "df_final.loc[(df_final['Date'] >= '2016-08-12') & (df_final['Date'] <= '2017-05-22'),\n",
    "             'awayteampreviousyearleagueposition'] = df_final['AwayTeam'].map(convert_to_dict(league1516))\n",
    "df_final.loc[(df_final['Date'] >= '2017-08-11') & (df_final['Date'] <= '2018-05-13'),\n",
    "             'awayteampreviousyearleagueposition'] = df_final['AwayTeam'].map(convert_to_dict(league1617))\n",
    "df_final.loc[(df_final['Date'] >= '2018-08-10') & (df_final['Date'] <= '2019-05-12'),\n",
    "             'awayteampreviousyearleagueposition'] = df_final['AwayTeam'].map(convert_to_dict(league1718))\n",
    "df_final.loc[(df_final['Date'] >= '2019-08-09') & (df_final['Date'] <= '2019-12-12'),\n",
    "             'awayteampreviousyearleagueposition'] = df_final['AwayTeam'].map(convert_to_dict(league1819))"
   ]
  },
  {
   "cell_type": "code",
   "execution_count": 639,
   "metadata": {},
   "outputs": [],
   "source": [
    "df_final.hometeampreviousyearleagueposition.fillna(22, inplace = True)\n",
    "df_final.awayteampreviousyearleagueposition.fillna(22, inplace = True)\n",
    "df_final.dropna(inplace = True)"
   ]
  },
  {
   "cell_type": "code",
   "execution_count": 640,
   "metadata": {},
   "outputs": [],
   "source": [
    "df_final['homevsaway_standingsratio'] = df_final['hometeampreviousyearleagueposition']/df_final['awayteampreviousyearleagueposition']"
   ]
  },
  {
   "cell_type": "code",
   "execution_count": 641,
   "metadata": {},
   "outputs": [
    {
     "data": {
      "text/plain": [
       "Index(['Date', 'HomeTeam', 'AwayTeam', 'FTHG', 'FTAG', 'FTR', 'HTHG', 'HTAG',\n",
       "       'HTR', 'Referee', 'HS', 'AS', 'HST', 'AST', 'HF', 'AF', 'HC', 'AC',\n",
       "       'HY', 'AY', 'HR', 'AR', 'PSH', 'PSD', 'PSA', 'Team', 'Opponent',\n",
       "       'average_halftimehomegoals', 'average_halftimeawaygoals',\n",
       "       'average_fulltimehomegoals', 'average_fulltimeawaygoals',\n",
       "       'average_hometeamshotsontarget', 'average_awayteamshotsontarget',\n",
       "       'average_homecorners', 'average_awaycorners', 'average_homereds',\n",
       "       'average_awayreds', 'avg_half_timegoals_homevsawayratio',\n",
       "       'avg_full_timegoals_homevsawayratio',\n",
       "       'avg_full_timeshotsontarget_homevsawayratio',\n",
       "       'avg_corners_homevsawayratio', 'avg_reds_homevsawayratio',\n",
       "       'hometeampreviousyearleagueposition',\n",
       "       'awayteampreviousyearleagueposition', 'homevsaway_standingsratio'],\n",
       "      dtype='object')"
      ]
     },
     "execution_count": 641,
     "metadata": {},
     "output_type": "execute_result"
    }
   ],
   "source": [
    "df_final.columns"
   ]
  },
  {
   "cell_type": "code",
   "execution_count": 642,
   "metadata": {},
   "outputs": [],
   "source": [
    "df_odds = df_final[['PSH', 'PSD', 'PSA']]"
   ]
  },
  {
   "cell_type": "code",
   "execution_count": 643,
   "metadata": {},
   "outputs": [],
   "source": [
    "df_ftr = df_final[['FTR']]"
   ]
  },
  {
   "cell_type": "code",
   "execution_count": 644,
   "metadata": {},
   "outputs": [],
   "source": [
    "df_dates = df_final[['Date']]"
   ]
  },
  {
   "cell_type": "code",
   "execution_count": 645,
   "metadata": {},
   "outputs": [],
   "source": [
    "df_teams = df_final[['HomeTeam', 'AwayTeam']]"
   ]
  },
  {
   "cell_type": "code",
   "execution_count": 646,
   "metadata": {},
   "outputs": [],
   "source": [
    "df_final = df_final[['average_halftimehomegoals', 'average_halftimeawaygoals',\n",
    "       'average_fulltimehomegoals', 'average_fulltimeawaygoals',\n",
    "       'average_hometeamshotsontarget', 'average_awayteamshotsontarget',\n",
    "       'average_homecorners', 'average_awaycorners', 'average_homereds',\n",
    "       'average_awayreds', 'avg_half_timegoals_homevsawayratio',\n",
    "       'avg_full_timegoals_homevsawayratio',\n",
    "       'avg_full_timeshotsontarget_homevsawayratio',\n",
    "       'avg_corners_homevsawayratio', 'avg_reds_homevsawayratio',\n",
    "       'hometeampreviousyearleagueposition',\n",
    "       'awayteampreviousyearleagueposition', 'homevsaway_standingsratio']]"
   ]
  },
  {
   "cell_type": "code",
   "execution_count": 647,
   "metadata": {},
   "outputs": [
    {
     "data": {
      "text/plain": [
       "1669"
      ]
     },
     "execution_count": 647,
     "metadata": {},
     "output_type": "execute_result"
    }
   ],
   "source": [
    "len(df_final)"
   ]
  },
  {
   "cell_type": "code",
   "execution_count": 648,
   "metadata": {},
   "outputs": [],
   "source": [
    "x_train = df_final[:1289]\n",
    "x_test = df_final[1289:]\n",
    "y_train = df_ftr[:1289]\n",
    "y_test = df_ftr[1289:]"
   ]
  },
  {
   "cell_type": "code",
   "execution_count": 649,
   "metadata": {},
   "outputs": [
    {
     "data": {
      "text/plain": [
       "DecisionTreeClassifier(class_weight=None, criterion='gini', max_depth=None,\n",
       "                       max_features=None, max_leaf_nodes=None,\n",
       "                       min_impurity_decrease=0.0, min_impurity_split=None,\n",
       "                       min_samples_leaf=1, min_samples_split=2,\n",
       "                       min_weight_fraction_leaf=0.0, presort=False,\n",
       "                       random_state=None, splitter='best')"
      ]
     },
     "execution_count": 649,
     "metadata": {},
     "output_type": "execute_result"
    }
   ],
   "source": [
    "tree = DecisionTreeClassifier()\n",
    "\n",
    "tree.fit(x_train,y_train)"
   ]
  },
  {
   "cell_type": "code",
   "execution_count": 650,
   "metadata": {},
   "outputs": [
    {
     "data": {
      "text/plain": [
       "0.7587276958882855"
      ]
     },
     "execution_count": 650,
     "metadata": {},
     "output_type": "execute_result"
    }
   ],
   "source": [
    "tree.score(x_train, y_train)\n"
   ]
  },
  {
   "cell_type": "code",
   "execution_count": 651,
   "metadata": {},
   "outputs": [
    {
     "name": "stderr",
     "output_type": "stream",
     "text": [
      "/Users/carterbouley/anaconda3/envs/learn-env/lib/python3.6/site-packages/pandas/core/indexing.py:205: SettingWithCopyWarning: \n",
      "A value is trying to be set on a copy of a slice from a DataFrame\n",
      "\n",
      "See the caveats in the documentation: http://pandas.pydata.org/pandas-docs/stable/user_guide/indexing.html#returning-a-view-versus-a-copy\n",
      "  self._setitem_with_indexer(indexer, value)\n",
      "/Users/carterbouley/anaconda3/envs/learn-env/lib/python3.6/site-packages/ipykernel_launcher.py:1: SettingWithCopyWarning: \n",
      "A value is trying to be set on a copy of a slice from a DataFrame\n",
      "\n",
      "See the caveats in the documentation: http://pandas.pydata.org/pandas-docs/stable/user_guide/indexing.html#returning-a-view-versus-a-copy\n",
      "  \"\"\"Entry point for launching an IPython kernel.\n"
     ]
    }
   ],
   "source": [
    "x_test.loc[(x_test == np.inf).any(axis=1), 'avg_reds_homevsawayratio'] = 15"
   ]
  },
  {
   "cell_type": "code",
   "execution_count": 652,
   "metadata": {},
   "outputs": [],
   "source": [
    "df1 = x_test[(x_test == np.inf).any(axis=1)]"
   ]
  },
  {
   "cell_type": "code",
   "execution_count": 653,
   "metadata": {},
   "outputs": [
    {
     "data": {
      "text/html": [
       "<div>\n",
       "<style scoped>\n",
       "    .dataframe tbody tr th:only-of-type {\n",
       "        vertical-align: middle;\n",
       "    }\n",
       "\n",
       "    .dataframe tbody tr th {\n",
       "        vertical-align: top;\n",
       "    }\n",
       "\n",
       "    .dataframe thead th {\n",
       "        text-align: right;\n",
       "    }\n",
       "</style>\n",
       "<table border=\"1\" class=\"dataframe\">\n",
       "  <thead>\n",
       "    <tr style=\"text-align: right;\">\n",
       "      <th></th>\n",
       "      <th>average_halftimehomegoals</th>\n",
       "      <th>average_halftimeawaygoals</th>\n",
       "      <th>average_fulltimehomegoals</th>\n",
       "      <th>average_fulltimeawaygoals</th>\n",
       "      <th>average_hometeamshotsontarget</th>\n",
       "      <th>average_awayteamshotsontarget</th>\n",
       "      <th>average_homecorners</th>\n",
       "      <th>average_awaycorners</th>\n",
       "      <th>average_homereds</th>\n",
       "      <th>average_awayreds</th>\n",
       "      <th>avg_half_timegoals_homevsawayratio</th>\n",
       "      <th>avg_full_timegoals_homevsawayratio</th>\n",
       "      <th>avg_full_timeshotsontarget_homevsawayratio</th>\n",
       "      <th>avg_corners_homevsawayratio</th>\n",
       "      <th>avg_reds_homevsawayratio</th>\n",
       "      <th>hometeampreviousyearleagueposition</th>\n",
       "      <th>awayteampreviousyearleagueposition</th>\n",
       "      <th>homevsaway_standingsratio</th>\n",
       "    </tr>\n",
       "  </thead>\n",
       "  <tbody>\n",
       "  </tbody>\n",
       "</table>\n",
       "</div>"
      ],
      "text/plain": [
       "Empty DataFrame\n",
       "Columns: [average_halftimehomegoals, average_halftimeawaygoals, average_fulltimehomegoals, average_fulltimeawaygoals, average_hometeamshotsontarget, average_awayteamshotsontarget, average_homecorners, average_awaycorners, average_homereds, average_awayreds, avg_half_timegoals_homevsawayratio, avg_full_timegoals_homevsawayratio, avg_full_timeshotsontarget_homevsawayratio, avg_corners_homevsawayratio, avg_reds_homevsawayratio, hometeampreviousyearleagueposition, awayteampreviousyearleagueposition, homevsaway_standingsratio]\n",
       "Index: []"
      ]
     },
     "execution_count": 653,
     "metadata": {},
     "output_type": "execute_result"
    }
   ],
   "source": [
    "df1"
   ]
  },
  {
   "cell_type": "code",
   "execution_count": 654,
   "metadata": {},
   "outputs": [
    {
     "data": {
      "text/plain": [
       "<matplotlib.axes._subplots.AxesSubplot at 0x1a1669be48>"
      ]
     },
     "execution_count": 654,
     "metadata": {},
     "output_type": "execute_result"
    },
    {
     "data": {
      "image/png": "[encoded data removed]",
      "text/plain": [
       "<Figure size 432x288 with 1 Axes>"
      ]
     },
     "metadata": {
      "needs_background": "light"
     },
     "output_type": "display_data"
    }
   ],
   "source": [
    "x_test.avg_reds_homevsawayratio.plot()"
   ]
  },
  {
   "cell_type": "code",
   "execution_count": 655,
   "metadata": {},
   "outputs": [],
   "source": [
    "preds = tree.predict_proba(x_test)"
   ]
  },
  {
   "cell_type": "code",
   "execution_count": 656,
   "metadata": {},
   "outputs": [
    {
     "data": {
      "text/html": [
       "<div>\n",
       "<style scoped>\n",
       "    .dataframe tbody tr th:only-of-type {\n",
       "        vertical-align: middle;\n",
       "    }\n",
       "\n",
       "    .dataframe tbody tr th {\n",
       "        vertical-align: top;\n",
       "    }\n",
       "\n",
       "    .dataframe thead th {\n",
       "        text-align: right;\n",
       "    }\n",
       "</style>\n",
       "<table border=\"1\" class=\"dataframe\">\n",
       "  <thead>\n",
       "    <tr style=\"text-align: right;\">\n",
       "      <th></th>\n",
       "      <th>FTR</th>\n",
       "    </tr>\n",
       "  </thead>\n",
       "  <tbody>\n",
       "    <tr>\n",
       "      <td>1284</td>\n",
       "      <td>H</td>\n",
       "    </tr>\n",
       "    <tr>\n",
       "      <td>1286</td>\n",
       "      <td>A</td>\n",
       "    </tr>\n",
       "    <tr>\n",
       "      <td>1291</td>\n",
       "      <td>A</td>\n",
       "    </tr>\n",
       "    <tr>\n",
       "      <td>1292</td>\n",
       "      <td>A</td>\n",
       "    </tr>\n",
       "    <tr>\n",
       "      <td>1293</td>\n",
       "      <td>A</td>\n",
       "    </tr>\n",
       "    <tr>\n",
       "      <td>...</td>\n",
       "      <td>...</td>\n",
       "    </tr>\n",
       "    <tr>\n",
       "      <td>1664</td>\n",
       "      <td>A</td>\n",
       "    </tr>\n",
       "    <tr>\n",
       "      <td>1665</td>\n",
       "      <td>H</td>\n",
       "    </tr>\n",
       "    <tr>\n",
       "      <td>1666</td>\n",
       "      <td>A</td>\n",
       "    </tr>\n",
       "    <tr>\n",
       "      <td>1667</td>\n",
       "      <td>A</td>\n",
       "    </tr>\n",
       "    <tr>\n",
       "      <td>1669</td>\n",
       "      <td>A</td>\n",
       "    </tr>\n",
       "  </tbody>\n",
       "</table>\n",
       "<p>380 rows × 1 columns</p>\n",
       "</div>"
      ],
      "text/plain": [
       "     FTR\n",
       "1284   H\n",
       "1286   A\n",
       "1291   A\n",
       "1292   A\n",
       "1293   A\n",
       "...   ..\n",
       "1664   A\n",
       "1665   H\n",
       "1666   A\n",
       "1667   A\n",
       "1669   A\n",
       "\n",
       "[380 rows x 1 columns]"
      ]
     },
     "execution_count": 656,
     "metadata": {},
     "output_type": "execute_result"
    }
   ],
   "source": [
    "y_test"
   ]
  },
  {
   "cell_type": "code",
   "execution_count": 657,
   "metadata": {},
   "outputs": [
    {
     "data": {
      "text/plain": [
       "array([[0.        , 0.        , 1.        ],\n",
       "       [0.33333333, 0.33333333, 0.33333333],\n",
       "       [0.        , 0.        , 1.        ],\n",
       "       ...,\n",
       "       [1.        , 0.        , 0.        ],\n",
       "       [1.        , 0.        , 0.        ],\n",
       "       [0.        , 0.33333333, 0.66666667]])"
      ]
     },
     "execution_count": 657,
     "metadata": {},
     "output_type": "execute_result"
    }
   ],
   "source": [
    "preds"
   ]
  },
  {
   "cell_type": "code",
   "execution_count": null,
   "metadata": {},
   "outputs": [],
   "source": []
  },
  {
   "cell_type": "code",
   "execution_count": 658,
   "metadata": {},
   "outputs": [
    {
     "ename": "ValueError",
     "evalue": "Classification metrics can't handle a mix of multiclass and continuous-multioutput targets",
     "output_type": "error",
     "traceback": [
      "\u001b[0;31m---------------------------------------------------------------------------\u001b[0m",
      "\u001b[0;31mValueError\u001b[0m                                Traceback (most recent call last)",
      "\u001b[0;32m<ipython-input-658-03759d8627ff>\u001b[0m in \u001b[0;36m<module>\u001b[0;34m\u001b[0m\n\u001b[0;32m----> 1\u001b[0;31m \u001b[0maccuracy_score\u001b[0m\u001b[0;34m(\u001b[0m\u001b[0my_test\u001b[0m\u001b[0;34m,\u001b[0m \u001b[0mpreds\u001b[0m\u001b[0;34m)\u001b[0m\u001b[0;34m\u001b[0m\u001b[0;34m\u001b[0m\u001b[0m\n\u001b[0m",
      "\u001b[0;32m~/anaconda3/envs/learn-env/lib/python3.6/site-packages/sklearn/metrics/classification.py\u001b[0m in \u001b[0;36maccuracy_score\u001b[0;34m(y_true, y_pred, normalize, sample_weight)\u001b[0m\n\u001b[1;32m    174\u001b[0m \u001b[0;34m\u001b[0m\u001b[0m\n\u001b[1;32m    175\u001b[0m     \u001b[0;31m# Compute accuracy for each possible representation\u001b[0m\u001b[0;34m\u001b[0m\u001b[0;34m\u001b[0m\u001b[0;34m\u001b[0m\u001b[0m\n\u001b[0;32m--> 176\u001b[0;31m     \u001b[0my_type\u001b[0m\u001b[0;34m,\u001b[0m \u001b[0my_true\u001b[0m\u001b[0;34m,\u001b[0m \u001b[0my_pred\u001b[0m \u001b[0;34m=\u001b[0m \u001b[0m_check_targets\u001b[0m\u001b[0;34m(\u001b[0m\u001b[0my_true\u001b[0m\u001b[0;34m,\u001b[0m \u001b[0my_pred\u001b[0m\u001b[0;34m)\u001b[0m\u001b[0;34m\u001b[0m\u001b[0;34m\u001b[0m\u001b[0m\n\u001b[0m\u001b[1;32m    177\u001b[0m     \u001b[0mcheck_consistent_length\u001b[0m\u001b[0;34m(\u001b[0m\u001b[0my_true\u001b[0m\u001b[0;34m,\u001b[0m \u001b[0my_pred\u001b[0m\u001b[0;34m,\u001b[0m \u001b[0msample_weight\u001b[0m\u001b[0;34m)\u001b[0m\u001b[0;34m\u001b[0m\u001b[0;34m\u001b[0m\u001b[0m\n\u001b[1;32m    178\u001b[0m     \u001b[0;32mif\u001b[0m \u001b[0my_type\u001b[0m\u001b[0;34m.\u001b[0m\u001b[0mstartswith\u001b[0m\u001b[0;34m(\u001b[0m\u001b[0;34m'multilabel'\u001b[0m\u001b[0;34m)\u001b[0m\u001b[0;34m:\u001b[0m\u001b[0;34m\u001b[0m\u001b[0;34m\u001b[0m\u001b[0m\n",
      "\u001b[0;32m~/anaconda3/envs/learn-env/lib/python3.6/site-packages/sklearn/metrics/classification.py\u001b[0m in \u001b[0;36m_check_targets\u001b[0;34m(y_true, y_pred)\u001b[0m\n\u001b[1;32m     79\u001b[0m     \u001b[0;32mif\u001b[0m \u001b[0mlen\u001b[0m\u001b[0;34m(\u001b[0m\u001b[0my_type\u001b[0m\u001b[0;34m)\u001b[0m \u001b[0;34m>\u001b[0m \u001b[0;36m1\u001b[0m\u001b[0;34m:\u001b[0m\u001b[0;34m\u001b[0m\u001b[0;34m\u001b[0m\u001b[0m\n\u001b[1;32m     80\u001b[0m         raise ValueError(\"Classification metrics can't handle a mix of {0} \"\n\u001b[0;32m---> 81\u001b[0;31m                          \"and {1} targets\".format(type_true, type_pred))\n\u001b[0m\u001b[1;32m     82\u001b[0m \u001b[0;34m\u001b[0m\u001b[0m\n\u001b[1;32m     83\u001b[0m     \u001b[0;31m# We can't have more than one value on y_type => The set is no more needed\u001b[0m\u001b[0;34m\u001b[0m\u001b[0;34m\u001b[0m\u001b[0;34m\u001b[0m\u001b[0m\n",
      "\u001b[0;31mValueError\u001b[0m: Classification metrics can't handle a mix of multiclass and continuous-multioutput targets"
     ]
    }
   ],
   "source": [
    "accuracy_score(y_test, preds)"
   ]
  },
  {
   "cell_type": "code",
   "execution_count": 660,
   "metadata": {},
   "outputs": [
    {
     "data": {
      "text/plain": [
       "array(['A', 'D', 'H'], dtype=object)"
      ]
     },
     "execution_count": 660,
     "metadata": {},
     "output_type": "execute_result"
    }
   ],
   "source": [
    "tree.classes_\n"
   ]
  },
  {
   "cell_type": "code",
   "execution_count": 661,
   "metadata": {},
   "outputs": [
    {
     "name": "stdout",
     "output_type": "stream",
     "text": [
      "Fitting 3 folds for each of 48 candidates, totalling 144 fits\n"
     ]
    },
    {
     "name": "stderr",
     "output_type": "stream",
     "text": [
      "[Parallel(n_jobs=1)]: Using backend SequentialBackend with 1 concurrent workers.\n",
      "[Parallel(n_jobs=1)]: Done 144 out of 144 | elapsed:    0.9s finished\n"
     ]
    },
    {
     "data": {
      "text/plain": [
       "GridSearchCV(cv=3, error_score='raise-deprecating',\n",
       "             estimator=DecisionTreeClassifier(class_weight=None,\n",
       "                                              criterion='gini', max_depth=None,\n",
       "                                              max_features=None,\n",
       "                                              max_leaf_nodes=None,\n",
       "                                              min_impurity_decrease=0.0,\n",
       "                                              min_impurity_split=None,\n",
       "                                              min_samples_leaf=1,\n",
       "                                              min_samples_split=2,\n",
       "                                              min_weight_fraction_leaf=0.0,\n",
       "                                              presort=False, random_state=42,\n",
       "                                              splitter='best'),\n",
       "             iid='warn', n_jobs=None,\n",
       "             param_grid={'max_depth': [1, 2, 3, None],\n",
       "                         'max_leaf_nodes': [2, 5, 10, None],\n",
       "                         'min_samples_split': [1.0, 5, 10]},\n",
       "             pre_dispatch='2*n_jobs', refit=True, return_train_score=False,\n",
       "             scoring=None, verbose=1)"
      ]
     },
     "execution_count": 661,
     "metadata": {},
     "output_type": "execute_result"
    }
   ],
   "source": [
    "from sklearn.model_selection import GridSearchCV\n",
    "params = {'max_leaf_nodes': [2,5,10, None], \n",
    " 'max_depth': [1, 2, 3, None],\n",
    " 'min_samples_split': [1.0, 5, 10]}\n",
    "\n",
    "grid_search_cv = GridSearchCV(DecisionTreeClassifier(random_state=42), param_grid = params, verbose=1, cv=3)\n",
    "grid_search_cv.fit(x_train, y_train)"
   ]
  },
  {
   "cell_type": "code",
   "execution_count": 662,
   "metadata": {},
   "outputs": [
    {
     "name": "stdout",
     "output_type": "stream",
     "text": [
      "DecisionTreeClassifier(class_weight=None, criterion='gini', max_depth=3,\n",
      "                       max_features=None, max_leaf_nodes=5,\n",
      "                       min_impurity_decrease=0.0, min_impurity_split=None,\n",
      "                       min_samples_leaf=1, min_samples_split=5,\n",
      "                       min_weight_fraction_leaf=0.0, presort=False,\n",
      "                       random_state=42, splitter='best')\n"
     ]
    }
   ],
   "source": [
    "print(grid_search_cv.best_estimator_)"
   ]
  },
  {
   "cell_type": "code",
   "execution_count": 663,
   "metadata": {},
   "outputs": [
    {
     "name": "stdout",
     "output_type": "stream",
     "text": [
      "0.5321955003878976\n"
     ]
    }
   ],
   "source": [
    "print(grid_search_cv.best_score_)"
   ]
  },
  {
   "cell_type": "code",
   "execution_count": 664,
   "metadata": {},
   "outputs": [],
   "source": [
    "predictions = grid_search_cv.predict(x_test)"
   ]
  },
  {
   "cell_type": "code",
   "execution_count": 665,
   "metadata": {},
   "outputs": [
    {
     "data": {
      "text/plain": [
       "0.5684210526315789"
      ]
     },
     "execution_count": 665,
     "metadata": {},
     "output_type": "execute_result"
    }
   ],
   "source": [
    "accuracy_score(predictions, y_test)"
   ]
  },
  {
   "cell_type": "code",
   "execution_count": 666,
   "metadata": {},
   "outputs": [],
   "source": [
    "from sklearn.ensemble import RandomForestClassifier\n",
    "rf = RandomForestClassifier()"
   ]
  },
  {
   "cell_type": "code",
   "execution_count": 667,
   "metadata": {},
   "outputs": [],
   "source": [
    "# Number of trees in random forest\n",
    "n_estimators = [int(x) for x in np.linspace(start = 200, stop = 2000, num = 10)]\n",
    "# Number of features to consider at every split\n",
    "max_features = ['auto', 'sqrt']\n",
    "# Maximum number of levels in tree\n",
    "max_depth = [int(x) for x in np.linspace(10, 110, num = 11)]\n",
    "max_depth.append(None)\n",
    "# Minimum number of samples required to split a node\n",
    "min_samples_split = [2, 5, 10]\n",
    "# Minimum number of samples required at each leaf node\n",
    "min_samples_leaf = [1, 2, 4]\n",
    "# Method of selecting samples for training each tree\n",
    "bootstrap = [True, False]\n",
    "# Create the random grid\n",
    "random_grid = {'n_estimators': n_estimators,\n",
    "               'max_features': max_features,\n",
    "               'max_depth': max_depth,\n",
    "               'min_samples_split': min_samples_split,\n",
    "               'min_samples_leaf': min_samples_leaf,\n",
    "               'bootstrap': bootstrap}"
   ]
  },
  {
   "cell_type": "code",
   "execution_count": 668,
   "metadata": {},
   "outputs": [],
   "source": [
    "from sklearn.model_selection import RandomizedSearchCV\n"
   ]
  },
  {
   "cell_type": "code",
   "execution_count": 669,
   "metadata": {},
   "outputs": [],
   "source": [
    "rf_random = RandomizedSearchCV(estimator = rf, param_distributions = random_grid, n_iter = 100, cv = 3, verbose=2, random_state=42, n_jobs = -1)"
   ]
  },
  {
   "cell_type": "code",
   "execution_count": 673,
   "metadata": {},
   "outputs": [
    {
     "name": "stdout",
     "output_type": "stream",
     "text": [
      "Fitting 3 folds for each of 100 candidates, totalling 300 fits\n"
     ]
    },
    {
     "name": "stderr",
     "output_type": "stream",
     "text": [
      "[Parallel(n_jobs=-1)]: Using backend LokyBackend with 4 concurrent workers.\n"
     ]
    },
    {
     "ename": "KeyboardInterrupt",
     "evalue": "",
     "output_type": "error",
     "traceback": [
      "\u001b[0;31m---------------------------------------------------------------------------\u001b[0m",
      "\u001b[0;31mKeyboardInterrupt\u001b[0m                         Traceback (most recent call last)",
      "\u001b[0;32m<ipython-input-673-cea488bef9ac>\u001b[0m in \u001b[0;36m<module>\u001b[0;34m\u001b[0m\n\u001b[0;32m----> 1\u001b[0;31m \u001b[0mrf_random\u001b[0m\u001b[0;34m.\u001b[0m\u001b[0mfit\u001b[0m\u001b[0;34m(\u001b[0m\u001b[0mx_train\u001b[0m\u001b[0;34m,\u001b[0m \u001b[0my_train\u001b[0m\u001b[0;34m)\u001b[0m\u001b[0;34m\u001b[0m\u001b[0;34m\u001b[0m\u001b[0m\n\u001b[0m",
      "\u001b[0;32m~/anaconda3/envs/learn-env/lib/python3.6/site-packages/sklearn/model_selection/_search.py\u001b[0m in \u001b[0;36mfit\u001b[0;34m(self, X, y, groups, **fit_params)\u001b[0m\n\u001b[1;32m    685\u001b[0m                 \u001b[0;32mreturn\u001b[0m \u001b[0mresults\u001b[0m\u001b[0;34m\u001b[0m\u001b[0;34m\u001b[0m\u001b[0m\n\u001b[1;32m    686\u001b[0m \u001b[0;34m\u001b[0m\u001b[0m\n\u001b[0;32m--> 687\u001b[0;31m             \u001b[0mself\u001b[0m\u001b[0;34m.\u001b[0m\u001b[0m_run_search\u001b[0m\u001b[0;34m(\u001b[0m\u001b[0mevaluate_candidates\u001b[0m\u001b[0;34m)\u001b[0m\u001b[0;34m\u001b[0m\u001b[0;34m\u001b[0m\u001b[0m\n\u001b[0m\u001b[1;32m    688\u001b[0m \u001b[0;34m\u001b[0m\u001b[0m\n\u001b[1;32m    689\u001b[0m         \u001b[0;31m# For multi-metric evaluation, store the best_index_, best_params_ and\u001b[0m\u001b[0;34m\u001b[0m\u001b[0;34m\u001b[0m\u001b[0;34m\u001b[0m\u001b[0m\n",
      "\u001b[0;32m~/anaconda3/envs/learn-env/lib/python3.6/site-packages/sklearn/model_selection/_search.py\u001b[0m in \u001b[0;36m_run_search\u001b[0;34m(self, evaluate_candidates)\u001b[0m\n\u001b[1;32m   1466\u001b[0m         evaluate_candidates(ParameterSampler(\n\u001b[1;32m   1467\u001b[0m             \u001b[0mself\u001b[0m\u001b[0;34m.\u001b[0m\u001b[0mparam_distributions\u001b[0m\u001b[0;34m,\u001b[0m \u001b[0mself\u001b[0m\u001b[0;34m.\u001b[0m\u001b[0mn_iter\u001b[0m\u001b[0;34m,\u001b[0m\u001b[0;34m\u001b[0m\u001b[0;34m\u001b[0m\u001b[0m\n\u001b[0;32m-> 1468\u001b[0;31m             random_state=self.random_state))\n\u001b[0m",
      "\u001b[0;32m~/anaconda3/envs/learn-env/lib/python3.6/site-packages/sklearn/model_selection/_search.py\u001b[0m in \u001b[0;36mevaluate_candidates\u001b[0;34m(candidate_params)\u001b[0m\n\u001b[1;32m    664\u001b[0m                                \u001b[0;32mfor\u001b[0m \u001b[0mparameters\u001b[0m\u001b[0;34m,\u001b[0m \u001b[0;34m(\u001b[0m\u001b[0mtrain\u001b[0m\u001b[0;34m,\u001b[0m \u001b[0mtest\u001b[0m\u001b[0;34m)\u001b[0m\u001b[0;34m\u001b[0m\u001b[0;34m\u001b[0m\u001b[0m\n\u001b[1;32m    665\u001b[0m                                in product(candidate_params,\n\u001b[0;32m--> 666\u001b[0;31m                                           cv.split(X, y, groups)))\n\u001b[0m\u001b[1;32m    667\u001b[0m \u001b[0;34m\u001b[0m\u001b[0m\n\u001b[1;32m    668\u001b[0m                 \u001b[0;32mif\u001b[0m \u001b[0mlen\u001b[0m\u001b[0;34m(\u001b[0m\u001b[0mout\u001b[0m\u001b[0;34m)\u001b[0m \u001b[0;34m<\u001b[0m \u001b[0;36m1\u001b[0m\u001b[0;34m:\u001b[0m\u001b[0;34m\u001b[0m\u001b[0;34m\u001b[0m\u001b[0m\n",
      "\u001b[0;32m~/anaconda3/envs/learn-env/lib/python3.6/site-packages/joblib/parallel.py\u001b[0m in \u001b[0;36m__call__\u001b[0;34m(self, iterable)\u001b[0m\n\u001b[1;32m    932\u001b[0m \u001b[0;34m\u001b[0m\u001b[0m\n\u001b[1;32m    933\u001b[0m             \u001b[0;32mwith\u001b[0m \u001b[0mself\u001b[0m\u001b[0;34m.\u001b[0m\u001b[0m_backend\u001b[0m\u001b[0;34m.\u001b[0m\u001b[0mretrieval_context\u001b[0m\u001b[0;34m(\u001b[0m\u001b[0;34m)\u001b[0m\u001b[0;34m:\u001b[0m\u001b[0;34m\u001b[0m\u001b[0;34m\u001b[0m\u001b[0m\n\u001b[0;32m--> 934\u001b[0;31m                 \u001b[0mself\u001b[0m\u001b[0;34m.\u001b[0m\u001b[0mretrieve\u001b[0m\u001b[0;34m(\u001b[0m\u001b[0;34m)\u001b[0m\u001b[0;34m\u001b[0m\u001b[0;34m\u001b[0m\u001b[0m\n\u001b[0m\u001b[1;32m    935\u001b[0m             \u001b[0;31m# Make sure that we get a last message telling us we are done\u001b[0m\u001b[0;34m\u001b[0m\u001b[0;34m\u001b[0m\u001b[0;34m\u001b[0m\u001b[0m\n\u001b[1;32m    936\u001b[0m             \u001b[0melapsed_time\u001b[0m \u001b[0;34m=\u001b[0m \u001b[0mtime\u001b[0m\u001b[0;34m.\u001b[0m\u001b[0mtime\u001b[0m\u001b[0;34m(\u001b[0m\u001b[0;34m)\u001b[0m \u001b[0;34m-\u001b[0m \u001b[0mself\u001b[0m\u001b[0;34m.\u001b[0m\u001b[0m_start_time\u001b[0m\u001b[0;34m\u001b[0m\u001b[0;34m\u001b[0m\u001b[0m\n",
      "\u001b[0;32m~/anaconda3/envs/learn-env/lib/python3.6/site-packages/joblib/parallel.py\u001b[0m in \u001b[0;36mretrieve\u001b[0;34m(self)\u001b[0m\n\u001b[1;32m    831\u001b[0m             \u001b[0;32mtry\u001b[0m\u001b[0;34m:\u001b[0m\u001b[0;34m\u001b[0m\u001b[0;34m\u001b[0m\u001b[0m\n\u001b[1;32m    832\u001b[0m                 \u001b[0;32mif\u001b[0m \u001b[0mgetattr\u001b[0m\u001b[0;34m(\u001b[0m\u001b[0mself\u001b[0m\u001b[0;34m.\u001b[0m\u001b[0m_backend\u001b[0m\u001b[0;34m,\u001b[0m \u001b[0;34m'supports_timeout'\u001b[0m\u001b[0;34m,\u001b[0m \u001b[0;32mFalse\u001b[0m\u001b[0;34m)\u001b[0m\u001b[0;34m:\u001b[0m\u001b[0;34m\u001b[0m\u001b[0;34m\u001b[0m\u001b[0m\n\u001b[0;32m--> 833\u001b[0;31m                     \u001b[0mself\u001b[0m\u001b[0;34m.\u001b[0m\u001b[0m_output\u001b[0m\u001b[0;34m.\u001b[0m\u001b[0mextend\u001b[0m\u001b[0;34m(\u001b[0m\u001b[0mjob\u001b[0m\u001b[0;34m.\u001b[0m\u001b[0mget\u001b[0m\u001b[0;34m(\u001b[0m\u001b[0mtimeout\u001b[0m\u001b[0;34m=\u001b[0m\u001b[0mself\u001b[0m\u001b[0;34m.\u001b[0m\u001b[0mtimeout\u001b[0m\u001b[0;34m)\u001b[0m\u001b[0;34m)\u001b[0m\u001b[0;34m\u001b[0m\u001b[0;34m\u001b[0m\u001b[0m\n\u001b[0m\u001b[1;32m    834\u001b[0m                 \u001b[0;32melse\u001b[0m\u001b[0;34m:\u001b[0m\u001b[0;34m\u001b[0m\u001b[0;34m\u001b[0m\u001b[0m\n\u001b[1;32m    835\u001b[0m                     \u001b[0mself\u001b[0m\u001b[0;34m.\u001b[0m\u001b[0m_output\u001b[0m\u001b[0;34m.\u001b[0m\u001b[0mextend\u001b[0m\u001b[0;34m(\u001b[0m\u001b[0mjob\u001b[0m\u001b[0;34m.\u001b[0m\u001b[0mget\u001b[0m\u001b[0;34m(\u001b[0m\u001b[0;34m)\u001b[0m\u001b[0;34m)\u001b[0m\u001b[0;34m\u001b[0m\u001b[0;34m\u001b[0m\u001b[0m\n",
      "\u001b[0;32m~/anaconda3/envs/learn-env/lib/python3.6/site-packages/joblib/_parallel_backends.py\u001b[0m in \u001b[0;36mwrap_future_result\u001b[0;34m(future, timeout)\u001b[0m\n\u001b[1;32m    519\u001b[0m         AsyncResults.get from multiprocessing.\"\"\"\n\u001b[1;32m    520\u001b[0m         \u001b[0;32mtry\u001b[0m\u001b[0;34m:\u001b[0m\u001b[0;34m\u001b[0m\u001b[0;34m\u001b[0m\u001b[0m\n\u001b[0;32m--> 521\u001b[0;31m             \u001b[0;32mreturn\u001b[0m \u001b[0mfuture\u001b[0m\u001b[0;34m.\u001b[0m\u001b[0mresult\u001b[0m\u001b[0;34m(\u001b[0m\u001b[0mtimeout\u001b[0m\u001b[0;34m=\u001b[0m\u001b[0mtimeout\u001b[0m\u001b[0;34m)\u001b[0m\u001b[0;34m\u001b[0m\u001b[0;34m\u001b[0m\u001b[0m\n\u001b[0m\u001b[1;32m    522\u001b[0m         \u001b[0;32mexcept\u001b[0m \u001b[0mLokyTimeoutError\u001b[0m\u001b[0;34m:\u001b[0m\u001b[0;34m\u001b[0m\u001b[0;34m\u001b[0m\u001b[0m\n\u001b[1;32m    523\u001b[0m             \u001b[0;32mraise\u001b[0m \u001b[0mTimeoutError\u001b[0m\u001b[0;34m(\u001b[0m\u001b[0;34m)\u001b[0m\u001b[0;34m\u001b[0m\u001b[0;34m\u001b[0m\u001b[0m\n",
      "\u001b[0;32m~/anaconda3/envs/learn-env/lib/python3.6/concurrent/futures/_base.py\u001b[0m in \u001b[0;36mresult\u001b[0;34m(self, timeout)\u001b[0m\n\u001b[1;32m    425\u001b[0m                 \u001b[0;32mreturn\u001b[0m \u001b[0mself\u001b[0m\u001b[0;34m.\u001b[0m\u001b[0m__get_result\u001b[0m\u001b[0;34m(\u001b[0m\u001b[0;34m)\u001b[0m\u001b[0;34m\u001b[0m\u001b[0;34m\u001b[0m\u001b[0m\n\u001b[1;32m    426\u001b[0m \u001b[0;34m\u001b[0m\u001b[0m\n\u001b[0;32m--> 427\u001b[0;31m             \u001b[0mself\u001b[0m\u001b[0;34m.\u001b[0m\u001b[0m_condition\u001b[0m\u001b[0;34m.\u001b[0m\u001b[0mwait\u001b[0m\u001b[0;34m(\u001b[0m\u001b[0mtimeout\u001b[0m\u001b[0;34m)\u001b[0m\u001b[0;34m\u001b[0m\u001b[0;34m\u001b[0m\u001b[0m\n\u001b[0m\u001b[1;32m    428\u001b[0m \u001b[0;34m\u001b[0m\u001b[0m\n\u001b[1;32m    429\u001b[0m             \u001b[0;32mif\u001b[0m \u001b[0mself\u001b[0m\u001b[0;34m.\u001b[0m\u001b[0m_state\u001b[0m \u001b[0;32min\u001b[0m \u001b[0;34m[\u001b[0m\u001b[0mCANCELLED\u001b[0m\u001b[0;34m,\u001b[0m \u001b[0mCANCELLED_AND_NOTIFIED\u001b[0m\u001b[0;34m]\u001b[0m\u001b[0;34m:\u001b[0m\u001b[0;34m\u001b[0m\u001b[0;34m\u001b[0m\u001b[0m\n",
      "\u001b[0;32m~/anaconda3/envs/learn-env/lib/python3.6/threading.py\u001b[0m in \u001b[0;36mwait\u001b[0;34m(self, timeout)\u001b[0m\n\u001b[1;32m    293\u001b[0m         \u001b[0;32mtry\u001b[0m\u001b[0;34m:\u001b[0m    \u001b[0;31m# restore state no matter what (e.g., KeyboardInterrupt)\u001b[0m\u001b[0;34m\u001b[0m\u001b[0;34m\u001b[0m\u001b[0m\n\u001b[1;32m    294\u001b[0m             \u001b[0;32mif\u001b[0m \u001b[0mtimeout\u001b[0m \u001b[0;32mis\u001b[0m \u001b[0;32mNone\u001b[0m\u001b[0;34m:\u001b[0m\u001b[0;34m\u001b[0m\u001b[0;34m\u001b[0m\u001b[0m\n\u001b[0;32m--> 295\u001b[0;31m                 \u001b[0mwaiter\u001b[0m\u001b[0;34m.\u001b[0m\u001b[0macquire\u001b[0m\u001b[0;34m(\u001b[0m\u001b[0;34m)\u001b[0m\u001b[0;34m\u001b[0m\u001b[0;34m\u001b[0m\u001b[0m\n\u001b[0m\u001b[1;32m    296\u001b[0m                 \u001b[0mgotit\u001b[0m \u001b[0;34m=\u001b[0m \u001b[0;32mTrue\u001b[0m\u001b[0;34m\u001b[0m\u001b[0;34m\u001b[0m\u001b[0m\n\u001b[1;32m    297\u001b[0m             \u001b[0;32melse\u001b[0m\u001b[0;34m:\u001b[0m\u001b[0;34m\u001b[0m\u001b[0;34m\u001b[0m\u001b[0m\n",
      "\u001b[0;31mKeyboardInterrupt\u001b[0m: "
     ]
    }
   ],
   "source": [
    "rf_random.fit(x_train, y_train)"
   ]
  },
  {
   "cell_type": "code",
   "execution_count": null,
   "metadata": {},
   "outputs": [],
   "source": [
    "rf_random.best_params_\n"
   ]
  },
  {
   "cell_type": "code",
   "execution_count": null,
   "metadata": {},
   "outputs": [],
   "source": [
    "rf_random.best_score_"
   ]
  },
  {
   "cell_type": "code",
   "execution_count": null,
   "metadata": {},
   "outputs": [],
   "source": [
    "random_f_predictions = rf_random.predict(x_test)"
   ]
  },
  {
   "cell_type": "code",
   "execution_count": null,
   "metadata": {},
   "outputs": [],
   "source": [
    "accuracy_score(random_f_predictions, y_test)"
   ]
  },
  {
   "cell_type": "code",
   "execution_count": null,
   "metadata": {},
   "outputs": [],
   "source": [
    "param_grid = {\n",
    "    'bootstrap': [True],\n",
    "    'max_depth': [5, 10, 15],\n",
    "    'max_features': [2, 3, 'sqrt'],\n",
    "    'min_samples_leaf': [3, 4, 5],\n",
    "    'min_samples_split': [2, 3, 4],\n",
    "    'n_estimators': [1000, 1500, 2000]}"
   ]
  },
  {
   "cell_type": "code",
   "execution_count": null,
   "metadata": {},
   "outputs": [],
   "source": [
    "grid_search = GridSearchCV(estimator = rf, param_grid = param_grid, \n",
    "                          cv = 3, n_jobs = -1, verbose = 2)"
   ]
  },
  {
   "cell_type": "code",
   "execution_count": null,
   "metadata": {},
   "outputs": [],
   "source": [
    "grid_search.fit(x_train, y_train)\n"
   ]
  },
  {
   "cell_type": "code",
   "execution_count": null,
   "metadata": {},
   "outputs": [],
   "source": [
    "grid_search.best_params_"
   ]
  },
  {
   "cell_type": "code",
   "execution_count": null,
   "metadata": {},
   "outputs": [],
   "source": [
    "rfgridprediction = grid_search.predict(x_test)"
   ]
  },
  {
   "cell_type": "code",
   "execution_count": null,
   "metadata": {},
   "outputs": [],
   "source": [
    "accuracy_score(rfgridprediction, y_test)"
   ]
  },
  {
   "cell_type": "code",
   "execution_count": null,
   "metadata": {},
   "outputs": [],
   "source": [
    "param_grid = {\n",
    "    'bootstrap': [True],\n",
    "    'max_depth': [2, 3, 5],\n",
    "    'max_features': [1, 2, 3,],\n",
    "    'min_samples_leaf': [2, 3],\n",
    "    'min_samples_split': [2, 3,],\n",
    "    'n_estimators': [1500]}"
   ]
  },
  {
   "cell_type": "code",
   "execution_count": null,
   "metadata": {},
   "outputs": [],
   "source": [
    "grid_search = GridSearchCV(estimator = rf, param_grid = param_grid, \n",
    "                          cv = 3, n_jobs = -1, verbose = 2)\n",
    "grid_search.fit(x_train, y_train)\n"
   ]
  },
  {
   "cell_type": "code",
   "execution_count": null,
   "metadata": {},
   "outputs": [],
   "source": [
    "grid_search.best_params_\n",
    "\n",
    "# {'bootstrap': True,\n",
    "#  'max_depth': 2,\n",
    "#  'max_features': 2,\n",
    "#  'min_samples_leaf': 2,\n",
    "#  'min_samples_split': 3,\n",
    "#  'n_estimators': 1500}"
   ]
  },
  {
   "cell_type": "code",
   "execution_count": null,
   "metadata": {},
   "outputs": [],
   "source": [
    "bestrfpredictor = grid_search.predict(x_test)"
   ]
  },
  {
   "cell_type": "code",
   "execution_count": null,
   "metadata": {},
   "outputs": [],
   "source": [
    "accuracy_score(bestrfpredictor, y_test)"
   ]
  },
  {
   "cell_type": "code",
   "execution_count": null,
   "metadata": {},
   "outputs": [],
   "source": [
    "from xgboost import XGBClassifier"
   ]
  },
  {
   "cell_type": "code",
   "execution_count": null,
   "metadata": {},
   "outputs": [],
   "source": [
    "model = XGBClassifier()\n",
    "model.fit(x_train, y_train)"
   ]
  },
  {
   "cell_type": "code",
   "execution_count": null,
   "metadata": {},
   "outputs": [],
   "source": [
    "basexgbprediction = model.predict(x_test)"
   ]
  },
  {
   "cell_type": "code",
   "execution_count": null,
   "metadata": {},
   "outputs": [],
   "source": [
    "accuracy_score(basexgbprediction, y_test)"
   ]
  },
  {
   "cell_type": "code",
   "execution_count": null,
   "metadata": {},
   "outputs": [],
   "source": [
    "params = {\n",
    "        'min_child_weight': [1, 5, 10],\n",
    "        'gamma': [0.5, 1, 1.5, 2, 5],\n",
    "        'subsample': [0.6, 0.8, 1.0],\n",
    "        'colsample_bytree': [0.6, 0.8, 1.0],\n",
    "        'max_depth': [3, 4, 5]\n",
    "        }"
   ]
  },
  {
   "cell_type": "code",
   "execution_count": null,
   "metadata": {},
   "outputs": [],
   "source": []
  },
  {
   "cell_type": "code",
   "execution_count": null,
   "metadata": {},
   "outputs": [],
   "source": [
    "xgb_random = RandomizedSearchCV(estimator = model, param_distributions = random_grid, n_iter = 100, cv = 3, verbose=2, random_state=42, n_jobs = -1)"
   ]
  },
  {
   "cell_type": "code",
   "execution_count": null,
   "metadata": {},
   "outputs": [],
   "source": [
    "grid_search = GridSearchCV(estimator = model, param_grid = params, \n",
    "                          cv = 3, n_jobs = -1, verbose = 2)"
   ]
  },
  {
   "cell_type": "code",
   "execution_count": null,
   "metadata": {},
   "outputs": [],
   "source": [
    "grid_search.fit(x_train, y_train)"
   ]
  },
  {
   "cell_type": "code",
   "execution_count": null,
   "metadata": {},
   "outputs": [],
   "source": [
    "grid_search.best_params_\n"
   ]
  },
  {
   "cell_type": "code",
   "execution_count": null,
   "metadata": {},
   "outputs": [],
   "source": [
    "xgb1stiter = grid_search.predict(x_test)"
   ]
  },
  {
   "cell_type": "code",
   "execution_count": null,
   "metadata": {},
   "outputs": [],
   "source": [
    "accuracy_score(xgb1stiter, y_test)"
   ]
  },
  {
   "cell_type": "code",
   "execution_count": null,
   "metadata": {},
   "outputs": [],
   "source": [
    "params = {\n",
    "        'min_child_weight': [10, 20, 30],\n",
    "        'gamma': [5, 10],\n",
    "        'subsample': [1.0],\n",
    "        'colsample_bytree': [0.2, 0.4, 0.6],\n",
    "        'max_depth': [5, 8, 10]\n",
    "        }"
   ]
  },
  {
   "cell_type": "code",
   "execution_count": null,
   "metadata": {},
   "outputs": [],
   "source": [
    "grid_search_2 = GridSearchCV(estimator = model, param_grid = params, \n",
    "                          cv = 3, n_jobs = -1, verbose = 2)"
   ]
  },
  {
   "cell_type": "code",
   "execution_count": null,
   "metadata": {},
   "outputs": [],
   "source": [
    "grid_search_2.fit(x_train, y_train)"
   ]
  },
  {
   "cell_type": "code",
   "execution_count": null,
   "metadata": {},
   "outputs": [],
   "source": [
    "grid_search_2.best_params_"
   ]
  },
  {
   "cell_type": "code",
   "execution_count": null,
   "metadata": {},
   "outputs": [],
   "source": [
    "secondxgb = grid_search_2.predict(x_test)"
   ]
  },
  {
   "cell_type": "code",
   "execution_count": null,
   "metadata": {},
   "outputs": [],
   "source": [
    "accuracy_score(secondxgb, y_test)"
   ]
  },
  {
   "cell_type": "code",
   "execution_count": null,
   "metadata": {},
   "outputs": [],
   "source": [
    "grid_search_2.score(x_train, y_train)"
   ]
  },
  {
   "cell_type": "code",
   "execution_count": null,
   "metadata": {},
   "outputs": [],
   "source": [
    "#So far best model is gridsearched random forest. Current params:\n",
    "\n",
    "# {'bootstrap': True,\n",
    "#  'max_depth': 2,\n",
    "#  'max_features': 2,\n",
    "#  'min_samples_leaf': 2,\n",
    "#  'min_samples_split': 3,\n",
    "#  'n_estimators': 1500}"
   ]
  },
  {
   "cell_type": "code",
   "execution_count": null,
   "metadata": {},
   "outputs": [],
   "source": [
    "param_grid = {\n",
    "    'bootstrap': [True],\n",
    "    'max_depth': [1, 2],\n",
    "    'max_features': [1, 2],\n",
    "    'min_samples_leaf': [2, 3],\n",
    "    'min_samples_split': [2, 3, 4],\n",
    "    'n_estimators': [1300, 1500, 1700]}"
   ]
  },
  {
   "cell_type": "code",
   "execution_count": null,
   "metadata": {},
   "outputs": [],
   "source": [
    "grid_search = GridSearchCV(estimator = rf, param_grid = param_grid, \n",
    "                          cv = 3, n_jobs = -1, verbose = 2)\n",
    "grid_search.fit(x_train, y_train)\n"
   ]
  },
  {
   "cell_type": "code",
   "execution_count": null,
   "metadata": {},
   "outputs": [],
   "source": [
    "grid_search.best_params_"
   ]
  },
  {
   "cell_type": "code",
   "execution_count": null,
   "metadata": {},
   "outputs": [],
   "source": [
    "rf_gs = grid_search.predict(x_test)"
   ]
  },
  {
   "cell_type": "code",
   "execution_count": null,
   "metadata": {},
   "outputs": [],
   "source": [
    "accuracy_score(rf_gs, y_test)"
   ]
  },
  {
   "cell_type": "code",
   "execution_count": null,
   "metadata": {},
   "outputs": [],
   "source": [
    "param_grid = {\n",
    "    'bootstrap': [True],\n",
    "    'max_depth': [2],\n",
    "    'max_features': [2],\n",
    "    'min_samples_leaf': [3, 5, 10],\n",
    "    'min_samples_split': [5],\n",
    "    'n_estimators': [1350,1400, 1450]}"
   ]
  },
  {
   "cell_type": "code",
   "execution_count": null,
   "metadata": {},
   "outputs": [],
   "source": [
    "grid_search = GridSearchCV(estimator = rf, param_grid = param_grid, \n",
    "                          cv = 3, n_jobs = -1, verbose = 2)\n",
    "grid_search.fit(x_train, y_train)"
   ]
  },
  {
   "cell_type": "code",
   "execution_count": null,
   "metadata": {},
   "outputs": [],
   "source": []
  },
  {
   "cell_type": "code",
   "execution_count": null,
   "metadata": {},
   "outputs": [],
   "source": [
    "grid_search.best_params_\n",
    "\n",
    "# {'bootstrap': True,\n",
    "#  'max_depth': 2,\n",
    "#  'max_features': 2,\n",
    "#  'min_samples_leaf': 5,\n",
    "#  'min_samples_split': 5,\n",
    "#  'n_estimators': 1350}\n"
   ]
  },
  {
   "cell_type": "code",
   "execution_count": 674,
   "metadata": {},
   "outputs": [],
   "source": [
    "param_grid = {\n",
    "    'bootstrap': [True],\n",
    "    'max_depth': [2],\n",
    "    'max_features': [2],\n",
    "    'min_samples_leaf': [5],\n",
    "    'min_samples_split': [5],\n",
    "    'n_estimators': [1350]}"
   ]
  },
  {
   "cell_type": "code",
   "execution_count": 675,
   "metadata": {},
   "outputs": [
    {
     "name": "stdout",
     "output_type": "stream",
     "text": [
      "Fitting 3 folds for each of 1 candidates, totalling 3 fits\n"
     ]
    },
    {
     "name": "stderr",
     "output_type": "stream",
     "text": [
      "[Parallel(n_jobs=-1)]: Using backend LokyBackend with 4 concurrent workers.\n",
      "[Parallel(n_jobs=-1)]: Done   3 out of   3 | elapsed:    4.4s finished\n",
      "/Users/carterbouley/anaconda3/envs/learn-env/lib/python3.6/site-packages/sklearn/model_selection/_search.py:714: DataConversionWarning: A column-vector y was passed when a 1d array was expected. Please change the shape of y to (n_samples,), for example using ravel().\n",
      "  self.best_estimator_.fit(X, y, **fit_params)\n"
     ]
    },
    {
     "data": {
      "text/plain": [
       "GridSearchCV(cv=3, error_score='raise-deprecating',\n",
       "             estimator=RandomForestClassifier(bootstrap=True, class_weight=None,\n",
       "                                              criterion='gini', max_depth=None,\n",
       "                                              max_features='auto',\n",
       "                                              max_leaf_nodes=None,\n",
       "                                              min_impurity_decrease=0.0,\n",
       "                                              min_impurity_split=None,\n",
       "                                              min_samples_leaf=1,\n",
       "                                              min_samples_split=2,\n",
       "                                              min_weight_fraction_leaf=0.0,\n",
       "                                              n_estimators='warn', n_jobs=None,\n",
       "                                              oob_score=False,\n",
       "                                              random_state=None, verbose=0,\n",
       "                                              warm_start=False),\n",
       "             iid='warn', n_jobs=-1,\n",
       "             param_grid={'bootstrap': [True], 'max_depth': [2],\n",
       "                         'max_features': [2], 'min_samples_leaf': [5],\n",
       "                         'min_samples_split': [5], 'n_estimators': [1350]},\n",
       "             pre_dispatch='2*n_jobs', refit=True, return_train_score=False,\n",
       "             scoring=None, verbose=2)"
      ]
     },
     "execution_count": 675,
     "metadata": {},
     "output_type": "execute_result"
    }
   ],
   "source": [
    "grid_search = GridSearchCV(estimator = rf, param_grid = param_grid, \n",
    "                          cv = 3, n_jobs = -1, verbose = 2)\n",
    "grid_search.fit(x_train, y_train)"
   ]
  },
  {
   "cell_type": "code",
   "execution_count": 676,
   "metadata": {},
   "outputs": [],
   "source": [
    "predict = grid_search.predict(x_test)"
   ]
  },
  {
   "cell_type": "code",
   "execution_count": 677,
   "metadata": {},
   "outputs": [
    {
     "data": {
      "text/plain": [
       "0.5657894736842105"
      ]
     },
     "execution_count": 677,
     "metadata": {},
     "output_type": "execute_result"
    }
   ],
   "source": [
    "accuracy_score(predict, y_test)"
   ]
  },
  {
   "cell_type": "code",
   "execution_count": 678,
   "metadata": {},
   "outputs": [
    {
     "data": {
      "text/plain": [
       "array([[0.1478341 , 0.23451735, 0.61764855],\n",
       "       [0.57031931, 0.2055205 , 0.22416019],\n",
       "       [0.21420624, 0.2624423 , 0.52335146],\n",
       "       ...,\n",
       "       [0.50699672, 0.22887906, 0.26412422],\n",
       "       [0.5584444 , 0.21267283, 0.22888277],\n",
       "       [0.35177907, 0.27758644, 0.37063449]])"
      ]
     },
     "execution_count": 678,
     "metadata": {},
     "output_type": "execute_result"
    }
   ],
   "source": [
    "grid_search.predict_proba(x_test)"
   ]
  },
  {
   "cell_type": "code",
   "execution_count": 679,
   "metadata": {},
   "outputs": [
    {
     "data": {
      "text/plain": [
       "array(['A', 'D', 'H'], dtype=object)"
      ]
     },
     "execution_count": 679,
     "metadata": {},
     "output_type": "execute_result"
    }
   ],
   "source": [
    "grid_search.classes_"
   ]
  },
  {
   "cell_type": "code",
   "execution_count": 680,
   "metadata": {},
   "outputs": [],
   "source": [
    "predictions = pd.DataFrame(grid_search.predict_proba(x_test), columns=grid_search.classes_)\n"
   ]
  },
  {
   "cell_type": "code",
   "execution_count": null,
   "metadata": {},
   "outputs": [],
   "source": [
    "predictions.to_csv('randomforestpredictions.csv')"
   ]
  },
  {
   "cell_type": "code",
   "execution_count": 681,
   "metadata": {},
   "outputs": [
    {
     "data": {
      "text/html": [
       "<div>\n",
       "<style scoped>\n",
       "    .dataframe tbody tr th:only-of-type {\n",
       "        vertical-align: middle;\n",
       "    }\n",
       "\n",
       "    .dataframe tbody tr th {\n",
       "        vertical-align: top;\n",
       "    }\n",
       "\n",
       "    .dataframe thead th {\n",
       "        text-align: right;\n",
       "    }\n",
       "</style>\n",
       "<table border=\"1\" class=\"dataframe\">\n",
       "  <thead>\n",
       "    <tr style=\"text-align: right;\">\n",
       "      <th></th>\n",
       "      <th>average_halftimehomegoals</th>\n",
       "      <th>average_halftimeawaygoals</th>\n",
       "      <th>average_fulltimehomegoals</th>\n",
       "      <th>average_fulltimeawaygoals</th>\n",
       "      <th>average_hometeamshotsontarget</th>\n",
       "      <th>average_awayteamshotsontarget</th>\n",
       "      <th>average_homecorners</th>\n",
       "      <th>average_awaycorners</th>\n",
       "      <th>average_homereds</th>\n",
       "      <th>average_awayreds</th>\n",
       "      <th>avg_half_timegoals_homevsawayratio</th>\n",
       "      <th>avg_full_timegoals_homevsawayratio</th>\n",
       "      <th>avg_full_timeshotsontarget_homevsawayratio</th>\n",
       "      <th>avg_corners_homevsawayratio</th>\n",
       "      <th>avg_reds_homevsawayratio</th>\n",
       "      <th>hometeampreviousyearleagueposition</th>\n",
       "      <th>awayteampreviousyearleagueposition</th>\n",
       "      <th>homevsaway_standingsratio</th>\n",
       "    </tr>\n",
       "  </thead>\n",
       "  <tbody>\n",
       "    <tr>\n",
       "      <td>1284</td>\n",
       "      <td>0.722892</td>\n",
       "      <td>0.157895</td>\n",
       "      <td>1.722892</td>\n",
       "      <td>0.684211</td>\n",
       "      <td>4.698795</td>\n",
       "      <td>3.052632</td>\n",
       "      <td>5.963855</td>\n",
       "      <td>3.842105</td>\n",
       "      <td>0.036145</td>\n",
       "      <td>0.052632</td>\n",
       "      <td>4.578313</td>\n",
       "      <td>2.518072</td>\n",
       "      <td>1.539260</td>\n",
       "      <td>1.552236</td>\n",
       "      <td>0.686747</td>\n",
       "      <td>12.0</td>\n",
       "      <td>22.0</td>\n",
       "      <td>0.545455</td>\n",
       "    </tr>\n",
       "    <tr>\n",
       "      <td>1286</td>\n",
       "      <td>0.421687</td>\n",
       "      <td>0.771084</td>\n",
       "      <td>1.228916</td>\n",
       "      <td>1.795181</td>\n",
       "      <td>3.963855</td>\n",
       "      <td>5.253012</td>\n",
       "      <td>4.867470</td>\n",
       "      <td>6.132530</td>\n",
       "      <td>0.108434</td>\n",
       "      <td>0.048193</td>\n",
       "      <td>0.546875</td>\n",
       "      <td>0.684564</td>\n",
       "      <td>0.754587</td>\n",
       "      <td>0.793713</td>\n",
       "      <td>2.250000</td>\n",
       "      <td>17.0</td>\n",
       "      <td>1.0</td>\n",
       "      <td>17.000000</td>\n",
       "    </tr>\n",
       "    <tr>\n",
       "      <td>1291</td>\n",
       "      <td>0.481481</td>\n",
       "      <td>0.315789</td>\n",
       "      <td>1.481481</td>\n",
       "      <td>0.631579</td>\n",
       "      <td>4.111111</td>\n",
       "      <td>3.078947</td>\n",
       "      <td>5.333333</td>\n",
       "      <td>3.684211</td>\n",
       "      <td>0.000000</td>\n",
       "      <td>0.052632</td>\n",
       "      <td>1.524691</td>\n",
       "      <td>2.345679</td>\n",
       "      <td>1.335233</td>\n",
       "      <td>1.447619</td>\n",
       "      <td>0.000000</td>\n",
       "      <td>22.0</td>\n",
       "      <td>22.0</td>\n",
       "      <td>1.000000</td>\n",
       "    </tr>\n",
       "    <tr>\n",
       "      <td>1292</td>\n",
       "      <td>0.638554</td>\n",
       "      <td>0.650602</td>\n",
       "      <td>1.481928</td>\n",
       "      <td>1.566265</td>\n",
       "      <td>4.445783</td>\n",
       "      <td>4.421687</td>\n",
       "      <td>5.698795</td>\n",
       "      <td>4.915663</td>\n",
       "      <td>0.048193</td>\n",
       "      <td>0.072289</td>\n",
       "      <td>0.981481</td>\n",
       "      <td>0.946154</td>\n",
       "      <td>1.005450</td>\n",
       "      <td>1.159314</td>\n",
       "      <td>0.666667</td>\n",
       "      <td>22.0</td>\n",
       "      <td>9.0</td>\n",
       "      <td>2.444444</td>\n",
       "    </tr>\n",
       "    <tr>\n",
       "      <td>1293</td>\n",
       "      <td>0.569231</td>\n",
       "      <td>0.446154</td>\n",
       "      <td>1.200000</td>\n",
       "      <td>0.861538</td>\n",
       "      <td>3.600000</td>\n",
       "      <td>3.492308</td>\n",
       "      <td>4.600000</td>\n",
       "      <td>3.938462</td>\n",
       "      <td>0.000000</td>\n",
       "      <td>0.076923</td>\n",
       "      <td>1.275862</td>\n",
       "      <td>1.392857</td>\n",
       "      <td>1.030837</td>\n",
       "      <td>1.167969</td>\n",
       "      <td>0.000000</td>\n",
       "      <td>10.0</td>\n",
       "      <td>22.0</td>\n",
       "      <td>0.454545</td>\n",
       "    </tr>\n",
       "    <tr>\n",
       "      <td>...</td>\n",
       "      <td>...</td>\n",
       "      <td>...</td>\n",
       "      <td>...</td>\n",
       "      <td>...</td>\n",
       "      <td>...</td>\n",
       "      <td>...</td>\n",
       "      <td>...</td>\n",
       "      <td>...</td>\n",
       "      <td>...</td>\n",
       "      <td>...</td>\n",
       "      <td>...</td>\n",
       "      <td>...</td>\n",
       "      <td>...</td>\n",
       "      <td>...</td>\n",
       "      <td>...</td>\n",
       "      <td>...</td>\n",
       "      <td>...</td>\n",
       "      <td>...</td>\n",
       "    </tr>\n",
       "    <tr>\n",
       "      <td>1664</td>\n",
       "      <td>0.473684</td>\n",
       "      <td>0.446154</td>\n",
       "      <td>1.157895</td>\n",
       "      <td>0.861538</td>\n",
       "      <td>4.526316</td>\n",
       "      <td>3.492308</td>\n",
       "      <td>5.368421</td>\n",
       "      <td>3.938462</td>\n",
       "      <td>0.052632</td>\n",
       "      <td>0.076923</td>\n",
       "      <td>1.061706</td>\n",
       "      <td>1.343985</td>\n",
       "      <td>1.296082</td>\n",
       "      <td>1.363076</td>\n",
       "      <td>0.684211</td>\n",
       "      <td>22.0</td>\n",
       "      <td>22.0</td>\n",
       "      <td>1.000000</td>\n",
       "    </tr>\n",
       "    <tr>\n",
       "      <td>1665</td>\n",
       "      <td>0.500000</td>\n",
       "      <td>0.595238</td>\n",
       "      <td>1.154762</td>\n",
       "      <td>1.142857</td>\n",
       "      <td>4.250000</td>\n",
       "      <td>3.750000</td>\n",
       "      <td>6.107143</td>\n",
       "      <td>5.166667</td>\n",
       "      <td>0.035714</td>\n",
       "      <td>0.035714</td>\n",
       "      <td>0.840000</td>\n",
       "      <td>1.010417</td>\n",
       "      <td>1.133333</td>\n",
       "      <td>1.182028</td>\n",
       "      <td>1.000000</td>\n",
       "      <td>11.0</td>\n",
       "      <td>22.0</td>\n",
       "      <td>0.500000</td>\n",
       "    </tr>\n",
       "    <tr>\n",
       "      <td>1666</td>\n",
       "      <td>0.569231</td>\n",
       "      <td>0.650602</td>\n",
       "      <td>1.200000</td>\n",
       "      <td>1.566265</td>\n",
       "      <td>3.600000</td>\n",
       "      <td>4.421687</td>\n",
       "      <td>4.600000</td>\n",
       "      <td>4.915663</td>\n",
       "      <td>0.000000</td>\n",
       "      <td>0.072289</td>\n",
       "      <td>0.874929</td>\n",
       "      <td>0.766154</td>\n",
       "      <td>0.814169</td>\n",
       "      <td>0.935784</td>\n",
       "      <td>0.000000</td>\n",
       "      <td>10.0</td>\n",
       "      <td>9.0</td>\n",
       "      <td>1.111111</td>\n",
       "    </tr>\n",
       "    <tr>\n",
       "      <td>1667</td>\n",
       "      <td>0.466667</td>\n",
       "      <td>1.035714</td>\n",
       "      <td>1.177778</td>\n",
       "      <td>2.047619</td>\n",
       "      <td>3.355556</td>\n",
       "      <td>5.714286</td>\n",
       "      <td>4.822222</td>\n",
       "      <td>6.928571</td>\n",
       "      <td>0.088889</td>\n",
       "      <td>0.023810</td>\n",
       "      <td>0.450575</td>\n",
       "      <td>0.575194</td>\n",
       "      <td>0.587222</td>\n",
       "      <td>0.695991</td>\n",
       "      <td>3.733333</td>\n",
       "      <td>22.0</td>\n",
       "      <td>22.0</td>\n",
       "      <td>1.000000</td>\n",
       "    </tr>\n",
       "    <tr>\n",
       "      <td>1669</td>\n",
       "      <td>0.421687</td>\n",
       "      <td>0.571429</td>\n",
       "      <td>1.228916</td>\n",
       "      <td>1.309524</td>\n",
       "      <td>3.963855</td>\n",
       "      <td>3.857143</td>\n",
       "      <td>4.867470</td>\n",
       "      <td>4.464286</td>\n",
       "      <td>0.108434</td>\n",
       "      <td>0.119048</td>\n",
       "      <td>0.737952</td>\n",
       "      <td>0.938445</td>\n",
       "      <td>1.027666</td>\n",
       "      <td>1.090313</td>\n",
       "      <td>0.910843</td>\n",
       "      <td>17.0</td>\n",
       "      <td>22.0</td>\n",
       "      <td>0.772727</td>\n",
       "    </tr>\n",
       "  </tbody>\n",
       "</table>\n",
       "<p>380 rows × 18 columns</p>\n",
       "</div>"
      ],
      "text/plain": [
       "      average_halftimehomegoals  average_halftimeawaygoals  \\\n",
       "1284                   0.722892                   0.157895   \n",
       "1286                   0.421687                   0.771084   \n",
       "1291                   0.481481                   0.315789   \n",
       "1292                   0.638554                   0.650602   \n",
       "1293                   0.569231                   0.446154   \n",
       "...                         ...                        ...   \n",
       "1664                   0.473684                   0.446154   \n",
       "1665                   0.500000                   0.595238   \n",
       "1666                   0.569231                   0.650602   \n",
       "1667                   0.466667                   1.035714   \n",
       "1669                   0.421687                   0.571429   \n",
       "\n",
       "      average_fulltimehomegoals  average_fulltimeawaygoals  \\\n",
       "1284                   1.722892                   0.684211   \n",
       "1286                   1.228916                   1.795181   \n",
       "1291                   1.481481                   0.631579   \n",
       "1292                   1.481928                   1.566265   \n",
       "1293                   1.200000                   0.861538   \n",
       "...                         ...                        ...   \n",
       "1664                   1.157895                   0.861538   \n",
       "1665                   1.154762                   1.142857   \n",
       "1666                   1.200000                   1.566265   \n",
       "1667                   1.177778                   2.047619   \n",
       "1669                   1.228916                   1.309524   \n",
       "\n",
       "      average_hometeamshotsontarget  average_awayteamshotsontarget  \\\n",
       "1284                       4.698795                       3.052632   \n",
       "1286                       3.963855                       5.253012   \n",
       "1291                       4.111111                       3.078947   \n",
       "1292                       4.445783                       4.421687   \n",
       "1293                       3.600000                       3.492308   \n",
       "...                             ...                            ...   \n",
       "1664                       4.526316                       3.492308   \n",
       "1665                       4.250000                       3.750000   \n",
       "1666                       3.600000                       4.421687   \n",
       "1667                       3.355556                       5.714286   \n",
       "1669                       3.963855                       3.857143   \n",
       "\n",
       "      average_homecorners  average_awaycorners  average_homereds  \\\n",
       "1284             5.963855             3.842105          0.036145   \n",
       "1286             4.867470             6.132530          0.108434   \n",
       "1291             5.333333             3.684211          0.000000   \n",
       "1292             5.698795             4.915663          0.048193   \n",
       "1293             4.600000             3.938462          0.000000   \n",
       "...                   ...                  ...               ...   \n",
       "1664             5.368421             3.938462          0.052632   \n",
       "1665             6.107143             5.166667          0.035714   \n",
       "1666             4.600000             4.915663          0.000000   \n",
       "1667             4.822222             6.928571          0.088889   \n",
       "1669             4.867470             4.464286          0.108434   \n",
       "\n",
       "      average_awayreds  avg_half_timegoals_homevsawayratio  \\\n",
       "1284          0.052632                            4.578313   \n",
       "1286          0.048193                            0.546875   \n",
       "1291          0.052632                            1.524691   \n",
       "1292          0.072289                            0.981481   \n",
       "1293          0.076923                            1.275862   \n",
       "...                ...                                 ...   \n",
       "1664          0.076923                            1.061706   \n",
       "1665          0.035714                            0.840000   \n",
       "1666          0.072289                            0.874929   \n",
       "1667          0.023810                            0.450575   \n",
       "1669          0.119048                            0.737952   \n",
       "\n",
       "      avg_full_timegoals_homevsawayratio  \\\n",
       "1284                            2.518072   \n",
       "1286                            0.684564   \n",
       "1291                            2.345679   \n",
       "1292                            0.946154   \n",
       "1293                            1.392857   \n",
       "...                                  ...   \n",
       "1664                            1.343985   \n",
       "1665                            1.010417   \n",
       "1666                            0.766154   \n",
       "1667                            0.575194   \n",
       "1669                            0.938445   \n",
       "\n",
       "      avg_full_timeshotsontarget_homevsawayratio  avg_corners_homevsawayratio  \\\n",
       "1284                                    1.539260                     1.552236   \n",
       "1286                                    0.754587                     0.793713   \n",
       "1291                                    1.335233                     1.447619   \n",
       "1292                                    1.005450                     1.159314   \n",
       "1293                                    1.030837                     1.167969   \n",
       "...                                          ...                          ...   \n",
       "1664                                    1.296082                     1.363076   \n",
       "1665                                    1.133333                     1.182028   \n",
       "1666                                    0.814169                     0.935784   \n",
       "1667                                    0.587222                     0.695991   \n",
       "1669                                    1.027666                     1.090313   \n",
       "\n",
       "      avg_reds_homevsawayratio  hometeampreviousyearleagueposition  \\\n",
       "1284                  0.686747                                12.0   \n",
       "1286                  2.250000                                17.0   \n",
       "1291                  0.000000                                22.0   \n",
       "1292                  0.666667                                22.0   \n",
       "1293                  0.000000                                10.0   \n",
       "...                        ...                                 ...   \n",
       "1664                  0.684211                                22.0   \n",
       "1665                  1.000000                                11.0   \n",
       "1666                  0.000000                                10.0   \n",
       "1667                  3.733333                                22.0   \n",
       "1669                  0.910843                                17.0   \n",
       "\n",
       "      awayteampreviousyearleagueposition  homevsaway_standingsratio  \n",
       "1284                                22.0                   0.545455  \n",
       "1286                                 1.0                  17.000000  \n",
       "1291                                22.0                   1.000000  \n",
       "1292                                 9.0                   2.444444  \n",
       "1293                                22.0                   0.454545  \n",
       "...                                  ...                        ...  \n",
       "1664                                22.0                   1.000000  \n",
       "1665                                22.0                   0.500000  \n",
       "1666                                 9.0                   1.111111  \n",
       "1667                                22.0                   1.000000  \n",
       "1669                                22.0                   0.772727  \n",
       "\n",
       "[380 rows x 18 columns]"
      ]
     },
     "execution_count": 681,
     "metadata": {},
     "output_type": "execute_result"
    }
   ],
   "source": [
    "x_test"
   ]
  },
  {
   "cell_type": "code",
   "execution_count": 682,
   "metadata": {},
   "outputs": [
    {
     "data": {
      "text/html": [
       "<div>\n",
       "<style scoped>\n",
       "    .dataframe tbody tr th:only-of-type {\n",
       "        vertical-align: middle;\n",
       "    }\n",
       "\n",
       "    .dataframe tbody tr th {\n",
       "        vertical-align: top;\n",
       "    }\n",
       "\n",
       "    .dataframe thead th {\n",
       "        text-align: right;\n",
       "    }\n",
       "</style>\n",
       "<table border=\"1\" class=\"dataframe\">\n",
       "  <thead>\n",
       "    <tr style=\"text-align: right;\">\n",
       "      <th></th>\n",
       "      <th>A</th>\n",
       "      <th>D</th>\n",
       "      <th>H</th>\n",
       "    </tr>\n",
       "  </thead>\n",
       "  <tbody>\n",
       "    <tr>\n",
       "      <td>0</td>\n",
       "      <td>0.147834</td>\n",
       "      <td>0.234517</td>\n",
       "      <td>0.617649</td>\n",
       "    </tr>\n",
       "    <tr>\n",
       "      <td>1</td>\n",
       "      <td>0.570319</td>\n",
       "      <td>0.205520</td>\n",
       "      <td>0.224160</td>\n",
       "    </tr>\n",
       "    <tr>\n",
       "      <td>2</td>\n",
       "      <td>0.214206</td>\n",
       "      <td>0.262442</td>\n",
       "      <td>0.523351</td>\n",
       "    </tr>\n",
       "    <tr>\n",
       "      <td>3</td>\n",
       "      <td>0.443573</td>\n",
       "      <td>0.251244</td>\n",
       "      <td>0.305183</td>\n",
       "    </tr>\n",
       "    <tr>\n",
       "      <td>4</td>\n",
       "      <td>0.256727</td>\n",
       "      <td>0.275154</td>\n",
       "      <td>0.468119</td>\n",
       "    </tr>\n",
       "    <tr>\n",
       "      <td>...</td>\n",
       "      <td>...</td>\n",
       "      <td>...</td>\n",
       "      <td>...</td>\n",
       "    </tr>\n",
       "    <tr>\n",
       "      <td>375</td>\n",
       "      <td>0.255647</td>\n",
       "      <td>0.277547</td>\n",
       "      <td>0.466806</td>\n",
       "    </tr>\n",
       "    <tr>\n",
       "      <td>376</td>\n",
       "      <td>0.351653</td>\n",
       "      <td>0.272024</td>\n",
       "      <td>0.376323</td>\n",
       "    </tr>\n",
       "    <tr>\n",
       "      <td>377</td>\n",
       "      <td>0.506997</td>\n",
       "      <td>0.228879</td>\n",
       "      <td>0.264124</td>\n",
       "    </tr>\n",
       "    <tr>\n",
       "      <td>378</td>\n",
       "      <td>0.558444</td>\n",
       "      <td>0.212673</td>\n",
       "      <td>0.228883</td>\n",
       "    </tr>\n",
       "    <tr>\n",
       "      <td>379</td>\n",
       "      <td>0.351779</td>\n",
       "      <td>0.277586</td>\n",
       "      <td>0.370634</td>\n",
       "    </tr>\n",
       "  </tbody>\n",
       "</table>\n",
       "<p>380 rows × 3 columns</p>\n",
       "</div>"
      ],
      "text/plain": [
       "            A         D         H\n",
       "0    0.147834  0.234517  0.617649\n",
       "1    0.570319  0.205520  0.224160\n",
       "2    0.214206  0.262442  0.523351\n",
       "3    0.443573  0.251244  0.305183\n",
       "4    0.256727  0.275154  0.468119\n",
       "..        ...       ...       ...\n",
       "375  0.255647  0.277547  0.466806\n",
       "376  0.351653  0.272024  0.376323\n",
       "377  0.506997  0.228879  0.264124\n",
       "378  0.558444  0.212673  0.228883\n",
       "379  0.351779  0.277586  0.370634\n",
       "\n",
       "[380 rows x 3 columns]"
      ]
     },
     "execution_count": 682,
     "metadata": {},
     "output_type": "execute_result"
    }
   ],
   "source": [
    "predictions"
   ]
  },
  {
   "cell_type": "code",
   "execution_count": 683,
   "metadata": {},
   "outputs": [
    {
     "data": {
      "text/plain": [
       "380"
      ]
     },
     "execution_count": 683,
     "metadata": {},
     "output_type": "execute_result"
    }
   ],
   "source": [
    "len(x_test)"
   ]
  },
  {
   "cell_type": "code",
   "execution_count": 684,
   "metadata": {},
   "outputs": [
    {
     "data": {
      "text/plain": [
       "380"
      ]
     },
     "execution_count": 684,
     "metadata": {},
     "output_type": "execute_result"
    }
   ],
   "source": [
    "len(df_odds[1289:])"
   ]
  },
  {
   "cell_type": "code",
   "execution_count": 685,
   "metadata": {},
   "outputs": [
    {
     "data": {
      "text/html": [
       "<div>\n",
       "<style scoped>\n",
       "    .dataframe tbody tr th:only-of-type {\n",
       "        vertical-align: middle;\n",
       "    }\n",
       "\n",
       "    .dataframe tbody tr th {\n",
       "        vertical-align: top;\n",
       "    }\n",
       "\n",
       "    .dataframe thead th {\n",
       "        text-align: right;\n",
       "    }\n",
       "</style>\n",
       "<table border=\"1\" class=\"dataframe\">\n",
       "  <thead>\n",
       "    <tr style=\"text-align: right;\">\n",
       "      <th></th>\n",
       "      <th>HomeTeam</th>\n",
       "      <th>AwayTeam</th>\n",
       "    </tr>\n",
       "  </thead>\n",
       "  <tbody>\n",
       "    <tr>\n",
       "      <td>1284</td>\n",
       "      <td>Everton</td>\n",
       "      <td>Cardiff</td>\n",
       "    </tr>\n",
       "    <tr>\n",
       "      <td>1286</td>\n",
       "      <td>Watford</td>\n",
       "      <td>Liverpool</td>\n",
       "    </tr>\n",
       "    <tr>\n",
       "      <td>1291</td>\n",
       "      <td>Wolves</td>\n",
       "      <td>Huddersfield</td>\n",
       "    </tr>\n",
       "    <tr>\n",
       "      <td>1292</td>\n",
       "      <td>Bournemouth</td>\n",
       "      <td>Arsenal</td>\n",
       "    </tr>\n",
       "    <tr>\n",
       "      <td>1293</td>\n",
       "      <td>Burnley</td>\n",
       "      <td>Newcastle</td>\n",
       "    </tr>\n",
       "    <tr>\n",
       "      <td>...</td>\n",
       "      <td>...</td>\n",
       "      <td>...</td>\n",
       "    </tr>\n",
       "    <tr>\n",
       "      <td>1664</td>\n",
       "      <td>Fulham</td>\n",
       "      <td>Newcastle</td>\n",
       "    </tr>\n",
       "    <tr>\n",
       "      <td>1665</td>\n",
       "      <td>Crystal Palace</td>\n",
       "      <td>Bournemouth</td>\n",
       "    </tr>\n",
       "    <tr>\n",
       "      <td>1666</td>\n",
       "      <td>Burnley</td>\n",
       "      <td>Arsenal</td>\n",
       "    </tr>\n",
       "    <tr>\n",
       "      <td>1667</td>\n",
       "      <td>Brighton</td>\n",
       "      <td>Man City</td>\n",
       "    </tr>\n",
       "    <tr>\n",
       "      <td>1669</td>\n",
       "      <td>Watford</td>\n",
       "      <td>West Ham</td>\n",
       "    </tr>\n",
       "  </tbody>\n",
       "</table>\n",
       "<p>380 rows × 2 columns</p>\n",
       "</div>"
      ],
      "text/plain": [
       "            HomeTeam      AwayTeam\n",
       "1284         Everton       Cardiff\n",
       "1286         Watford     Liverpool\n",
       "1291          Wolves  Huddersfield\n",
       "1292     Bournemouth       Arsenal\n",
       "1293         Burnley     Newcastle\n",
       "...              ...           ...\n",
       "1664          Fulham     Newcastle\n",
       "1665  Crystal Palace   Bournemouth\n",
       "1666         Burnley       Arsenal\n",
       "1667        Brighton      Man City\n",
       "1669         Watford      West Ham\n",
       "\n",
       "[380 rows x 2 columns]"
      ]
     },
     "execution_count": 685,
     "metadata": {},
     "output_type": "execute_result"
    }
   ],
   "source": [
    "df_teams[1289:]"
   ]
  },
  {
   "cell_type": "code",
   "execution_count": 704,
   "metadata": {},
   "outputs": [],
   "source": [
    "# analysis_df = pd.concat([df_teams[1289:],df_odds[1289:], y_test, predictions], axis = 1, sort = False)"
   ]
  },
  {
   "cell_type": "code",
   "execution_count": 723,
   "metadata": {},
   "outputs": [],
   "source": [
    "analysis_df = pd.concat([df_teams[1289:],df_odds[1289:]], axis = 1)"
   ]
  },
  {
   "cell_type": "code",
   "execution_count": 724,
   "metadata": {},
   "outputs": [],
   "source": [
    "analysis_df = pd.concat([analysis_df, y_test], axis = 1)"
   ]
  },
  {
   "cell_type": "code",
   "execution_count": 725,
   "metadata": {},
   "outputs": [],
   "source": [
    "# analysis_df = pd.concat([analysis_df, predictions], axis = 1)"
   ]
  },
  {
   "cell_type": "code",
   "execution_count": 726,
   "metadata": {},
   "outputs": [],
   "source": [
    "analysis_df['impliedhomechance'] = list(predictions['H'])\n",
    "analysis_df['impliedawaychance'] = list(predictions['A'])\n",
    "analysis_df['implieddrawchance'] = list(predictions['D'])"
   ]
  },
  {
   "cell_type": "code",
   "execution_count": 727,
   "metadata": {},
   "outputs": [],
   "source": [
    "analysis_df = pd.concat([analysis_df, df_dates[1289:]], axis = 1)"
   ]
  },
  {
   "cell_type": "code",
   "execution_count": null,
   "metadata": {},
   "outputs": [],
   "source": [
    "# analysis_df.drop(['impliedhomeodds','impliedawayodds','implieddrawodds', 'Date'], axis = 1, inplace = True)"
   ]
  },
  {
   "cell_type": "code",
   "execution_count": 728,
   "metadata": {},
   "outputs": [],
   "source": [
    "analysis_df['resultprediction'] = predict"
   ]
  },
  {
   "cell_type": "code",
   "execution_count": 729,
   "metadata": {},
   "outputs": [],
   "source": [
    "analysis_df['Date'] = df_dates[1289:]"
   ]
  },
  {
   "cell_type": "code",
   "execution_count": 732,
   "metadata": {},
   "outputs": [],
   "source": [
    "analysis_df.to_csv('fullanalysis.csv')"
   ]
  },
  {
   "cell_type": "code",
   "execution_count": 737,
   "metadata": {},
   "outputs": [],
   "source": [
    "starting_bankroll = 10000"
   ]
  },
  {
   "cell_type": "code",
   "execution_count": 770,
   "metadata": {},
   "outputs": [],
   "source": [
    "analysis_df.loc[(analysis_df['FTR'] == analysis_df['resultprediction']), 'win?'] = 1\n",
    "analysis_df.loc[~ (analysis_df['FTR'] == analysis_df['resultprediction']), 'win?'] = 0"
   ]
  },
  {
   "cell_type": "code",
   "execution_count": 782,
   "metadata": {},
   "outputs": [],
   "source": [
    "analysis_df.to_csv('final_analysis.csv')"
   ]
  },
  {
   "cell_type": "code",
   "execution_count": 821,
   "metadata": {},
   "outputs": [],
   "source": [
    "analysis_df['odds_taken'] = 0"
   ]
  },
  {
   "cell_type": "code",
   "execution_count": 823,
   "metadata": {},
   "outputs": [],
   "source": [
    "analysis_df.loc[analysis_df['FTR'] == 'H', 'odds_taken'] = analysis_df['PSH']\n",
    "analysis_df.loc[analysis_df['FTR'] == 'D', 'odds_taken'] = analysis_df['PSD']\n",
    "analysis_df.loc[analysis_df['FTR'] == 'A', 'odds_taken'] = analysis_df['PSA']"
   ]
  },
  {
   "cell_type": "code",
   "execution_count": 838,
   "metadata": {},
   "outputs": [],
   "source": [
    "analysis_df['return'] = (analysis_df['win?'] * analysis_df['odds_taken'] * 100) - 100"
   ]
  },
  {
   "cell_type": "code",
   "execution_count": 835,
   "metadata": {},
   "outputs": [],
   "source": [
    "analysis_df['return'].replace(0, -100, inplace = True)"
   ]
  },
  {
   "cell_type": "code",
   "execution_count": 840,
   "metadata": {},
   "outputs": [
    {
     "data": {
      "text/html": [
       "<div>\n",
       "<style scoped>\n",
       "    .dataframe tbody tr th:only-of-type {\n",
       "        vertical-align: middle;\n",
       "    }\n",
       "\n",
       "    .dataframe tbody tr th {\n",
       "        vertical-align: top;\n",
       "    }\n",
       "\n",
       "    .dataframe thead th {\n",
       "        text-align: right;\n",
       "    }\n",
       "</style>\n",
       "<table border=\"1\" class=\"dataframe\">\n",
       "  <thead>\n",
       "    <tr style=\"text-align: right;\">\n",
       "      <th></th>\n",
       "      <th>HomeTeam</th>\n",
       "      <th>AwayTeam</th>\n",
       "      <th>PSH</th>\n",
       "      <th>PSD</th>\n",
       "      <th>PSA</th>\n",
       "      <th>FTR</th>\n",
       "      <th>impliedhomechance</th>\n",
       "      <th>impliedawaychance</th>\n",
       "      <th>implieddrawchance</th>\n",
       "      <th>Date</th>\n",
       "      <th>resultprediction</th>\n",
       "      <th>win?</th>\n",
       "      <th>profit/loss</th>\n",
       "      <th>return</th>\n",
       "      <th>odds_taken</th>\n",
       "    </tr>\n",
       "  </thead>\n",
       "  <tbody>\n",
       "    <tr>\n",
       "      <td>1284</td>\n",
       "      <td>Everton</td>\n",
       "      <td>Cardiff</td>\n",
       "      <td>1.43</td>\n",
       "      <td>4.78</td>\n",
       "      <td>8.61</td>\n",
       "      <td>H</td>\n",
       "      <td>0.617649</td>\n",
       "      <td>0.147834</td>\n",
       "      <td>0.234517</td>\n",
       "      <td>2018-11-24</td>\n",
       "      <td>H</td>\n",
       "      <td>1</td>\n",
       "      <td>0</td>\n",
       "      <td>43.0</td>\n",
       "      <td>1.43</td>\n",
       "    </tr>\n",
       "    <tr>\n",
       "      <td>1286</td>\n",
       "      <td>Watford</td>\n",
       "      <td>Liverpool</td>\n",
       "      <td>6.31</td>\n",
       "      <td>4.28</td>\n",
       "      <td>1.59</td>\n",
       "      <td>A</td>\n",
       "      <td>0.224160</td>\n",
       "      <td>0.570319</td>\n",
       "      <td>0.205520</td>\n",
       "      <td>2018-11-24</td>\n",
       "      <td>A</td>\n",
       "      <td>1</td>\n",
       "      <td>0</td>\n",
       "      <td>59.0</td>\n",
       "      <td>1.59</td>\n",
       "    </tr>\n",
       "    <tr>\n",
       "      <td>1291</td>\n",
       "      <td>Wolves</td>\n",
       "      <td>Huddersfield</td>\n",
       "      <td>1.51</td>\n",
       "      <td>4.16</td>\n",
       "      <td>8.20</td>\n",
       "      <td>A</td>\n",
       "      <td>0.523351</td>\n",
       "      <td>0.214206</td>\n",
       "      <td>0.262442</td>\n",
       "      <td>2018-11-25</td>\n",
       "      <td>H</td>\n",
       "      <td>0</td>\n",
       "      <td>0</td>\n",
       "      <td>-100.0</td>\n",
       "      <td>8.20</td>\n",
       "    </tr>\n",
       "    <tr>\n",
       "      <td>1292</td>\n",
       "      <td>Bournemouth</td>\n",
       "      <td>Arsenal</td>\n",
       "      <td>3.53</td>\n",
       "      <td>3.84</td>\n",
       "      <td>2.10</td>\n",
       "      <td>A</td>\n",
       "      <td>0.305183</td>\n",
       "      <td>0.443573</td>\n",
       "      <td>0.251244</td>\n",
       "      <td>2018-11-25</td>\n",
       "      <td>A</td>\n",
       "      <td>1</td>\n",
       "      <td>0</td>\n",
       "      <td>110.0</td>\n",
       "      <td>2.10</td>\n",
       "    </tr>\n",
       "    <tr>\n",
       "      <td>1293</td>\n",
       "      <td>Burnley</td>\n",
       "      <td>Newcastle</td>\n",
       "      <td>2.93</td>\n",
       "      <td>3.16</td>\n",
       "      <td>2.77</td>\n",
       "      <td>A</td>\n",
       "      <td>0.468119</td>\n",
       "      <td>0.256727</td>\n",
       "      <td>0.275154</td>\n",
       "      <td>2018-11-26</td>\n",
       "      <td>H</td>\n",
       "      <td>0</td>\n",
       "      <td>0</td>\n",
       "      <td>-100.0</td>\n",
       "      <td>2.77</td>\n",
       "    </tr>\n",
       "    <tr>\n",
       "      <td>...</td>\n",
       "      <td>...</td>\n",
       "      <td>...</td>\n",
       "      <td>...</td>\n",
       "      <td>...</td>\n",
       "      <td>...</td>\n",
       "      <td>...</td>\n",
       "      <td>...</td>\n",
       "      <td>...</td>\n",
       "      <td>...</td>\n",
       "      <td>...</td>\n",
       "      <td>...</td>\n",
       "      <td>...</td>\n",
       "      <td>...</td>\n",
       "      <td>...</td>\n",
       "      <td>...</td>\n",
       "    </tr>\n",
       "    <tr>\n",
       "      <td>1664</td>\n",
       "      <td>Fulham</td>\n",
       "      <td>Newcastle</td>\n",
       "      <td>2.55</td>\n",
       "      <td>3.57</td>\n",
       "      <td>2.83</td>\n",
       "      <td>A</td>\n",
       "      <td>0.466806</td>\n",
       "      <td>0.255647</td>\n",
       "      <td>0.277547</td>\n",
       "      <td>2019-12-05</td>\n",
       "      <td>H</td>\n",
       "      <td>0</td>\n",
       "      <td>0</td>\n",
       "      <td>-100.0</td>\n",
       "      <td>2.83</td>\n",
       "    </tr>\n",
       "    <tr>\n",
       "      <td>1665</td>\n",
       "      <td>Crystal Palace</td>\n",
       "      <td>Bournemouth</td>\n",
       "      <td>1.88</td>\n",
       "      <td>4.14</td>\n",
       "      <td>3.95</td>\n",
       "      <td>H</td>\n",
       "      <td>0.376323</td>\n",
       "      <td>0.351653</td>\n",
       "      <td>0.272024</td>\n",
       "      <td>2019-12-05</td>\n",
       "      <td>H</td>\n",
       "      <td>1</td>\n",
       "      <td>0</td>\n",
       "      <td>88.0</td>\n",
       "      <td>1.88</td>\n",
       "    </tr>\n",
       "    <tr>\n",
       "      <td>1666</td>\n",
       "      <td>Burnley</td>\n",
       "      <td>Arsenal</td>\n",
       "      <td>3.15</td>\n",
       "      <td>3.80</td>\n",
       "      <td>2.25</td>\n",
       "      <td>A</td>\n",
       "      <td>0.264124</td>\n",
       "      <td>0.506997</td>\n",
       "      <td>0.228879</td>\n",
       "      <td>2019-12-05</td>\n",
       "      <td>A</td>\n",
       "      <td>1</td>\n",
       "      <td>0</td>\n",
       "      <td>125.0</td>\n",
       "      <td>2.25</td>\n",
       "    </tr>\n",
       "    <tr>\n",
       "      <td>1667</td>\n",
       "      <td>Brighton</td>\n",
       "      <td>Man City</td>\n",
       "      <td>15.63</td>\n",
       "      <td>8.17</td>\n",
       "      <td>1.18</td>\n",
       "      <td>A</td>\n",
       "      <td>0.228883</td>\n",
       "      <td>0.558444</td>\n",
       "      <td>0.212673</td>\n",
       "      <td>2019-12-05</td>\n",
       "      <td>A</td>\n",
       "      <td>1</td>\n",
       "      <td>0</td>\n",
       "      <td>18.0</td>\n",
       "      <td>1.18</td>\n",
       "    </tr>\n",
       "    <tr>\n",
       "      <td>1669</td>\n",
       "      <td>Watford</td>\n",
       "      <td>West Ham</td>\n",
       "      <td>2.20</td>\n",
       "      <td>3.85</td>\n",
       "      <td>3.21</td>\n",
       "      <td>A</td>\n",
       "      <td>0.370634</td>\n",
       "      <td>0.351779</td>\n",
       "      <td>0.277586</td>\n",
       "      <td>2019-12-05</td>\n",
       "      <td>H</td>\n",
       "      <td>0</td>\n",
       "      <td>0</td>\n",
       "      <td>-100.0</td>\n",
       "      <td>3.21</td>\n",
       "    </tr>\n",
       "  </tbody>\n",
       "</table>\n",
       "<p>380 rows × 15 columns</p>\n",
       "</div>"
      ],
      "text/plain": [
       "            HomeTeam      AwayTeam    PSH   PSD   PSA FTR  impliedhomechance  \\\n",
       "1284         Everton       Cardiff   1.43  4.78  8.61   H           0.617649   \n",
       "1286         Watford     Liverpool   6.31  4.28  1.59   A           0.224160   \n",
       "1291          Wolves  Huddersfield   1.51  4.16  8.20   A           0.523351   \n",
       "1292     Bournemouth       Arsenal   3.53  3.84  2.10   A           0.305183   \n",
       "1293         Burnley     Newcastle   2.93  3.16  2.77   A           0.468119   \n",
       "...              ...           ...    ...   ...   ...  ..                ...   \n",
       "1664          Fulham     Newcastle   2.55  3.57  2.83   A           0.466806   \n",
       "1665  Crystal Palace   Bournemouth   1.88  4.14  3.95   H           0.376323   \n",
       "1666         Burnley       Arsenal   3.15  3.80  2.25   A           0.264124   \n",
       "1667        Brighton      Man City  15.63  8.17  1.18   A           0.228883   \n",
       "1669         Watford      West Ham   2.20  3.85  3.21   A           0.370634   \n",
       "\n",
       "      impliedawaychance  implieddrawchance       Date resultprediction  win?  \\\n",
       "1284           0.147834           0.234517 2018-11-24                H     1   \n",
       "1286           0.570319           0.205520 2018-11-24                A     1   \n",
       "1291           0.214206           0.262442 2018-11-25                H     0   \n",
       "1292           0.443573           0.251244 2018-11-25                A     1   \n",
       "1293           0.256727           0.275154 2018-11-26                H     0   \n",
       "...                 ...                ...        ...              ...   ...   \n",
       "1664           0.255647           0.277547 2019-12-05                H     0   \n",
       "1665           0.351653           0.272024 2019-12-05                H     1   \n",
       "1666           0.506997           0.228879 2019-12-05                A     1   \n",
       "1667           0.558444           0.212673 2019-12-05                A     1   \n",
       "1669           0.351779           0.277586 2019-12-05                H     0   \n",
       "\n",
       "      profit/loss  return  odds_taken  \n",
       "1284            0    43.0        1.43  \n",
       "1286            0    59.0        1.59  \n",
       "1291            0  -100.0        8.20  \n",
       "1292            0   110.0        2.10  \n",
       "1293            0  -100.0        2.77  \n",
       "...           ...     ...         ...  \n",
       "1664            0  -100.0        2.83  \n",
       "1665            0    88.0        1.88  \n",
       "1666            0   125.0        2.25  \n",
       "1667            0    18.0        1.18  \n",
       "1669            0  -100.0        3.21  \n",
       "\n",
       "[380 rows x 15 columns]"
      ]
     },
     "execution_count": 840,
     "metadata": {},
     "output_type": "execute_result"
    }
   ],
   "source": [
    "analysis_df"
   ]
  },
  {
   "cell_type": "code",
   "execution_count": 841,
   "metadata": {},
   "outputs": [
    {
     "data": {
      "text/plain": [
       "353.0"
      ]
     },
     "execution_count": 841,
     "metadata": {},
     "output_type": "execute_result"
    }
   ],
   "source": [
    "sum(analysis_df['return'])"
   ]
  },
  {
   "cell_type": "code",
   "execution_count": 829,
   "metadata": {},
   "outputs": [],
   "source": [
    "s = pd.Series([0, 1, 2, 3, 4])\n",
    "s.replace(0, 5)"
   ]
  },
  {
   "cell_type": "code",
   "execution_count": 831,
   "metadata": {},
   "outputs": [
    {
     "name": "stderr",
     "output_type": "stream",
     "text": [
      "/Users/carterbouley/anaconda3/envs/learn-env/lib/python3.6/site-packages/pandas/core/ops/__init__.py:1115: FutureWarning: elementwise comparison failed; returning scalar instead, but in the future will perform elementwise comparison\n",
      "  result = method(y)\n"
     ]
    }
   ],
   "source": [
    "analysis_df.loc[analysis_df['return'] == '0', 'return'] = -100"
   ]
  },
  {
   "cell_type": "code",
   "execution_count": 832,
   "metadata": {},
   "outputs": [
    {
     "data": {
      "text/html": [
       "<div>\n",
       "<style scoped>\n",
       "    .dataframe tbody tr th:only-of-type {\n",
       "        vertical-align: middle;\n",
       "    }\n",
       "\n",
       "    .dataframe tbody tr th {\n",
       "        vertical-align: top;\n",
       "    }\n",
       "\n",
       "    .dataframe thead th {\n",
       "        text-align: right;\n",
       "    }\n",
       "</style>\n",
       "<table border=\"1\" class=\"dataframe\">\n",
       "  <thead>\n",
       "    <tr style=\"text-align: right;\">\n",
       "      <th></th>\n",
       "      <th>HomeTeam</th>\n",
       "      <th>AwayTeam</th>\n",
       "      <th>PSH</th>\n",
       "      <th>PSD</th>\n",
       "      <th>PSA</th>\n",
       "      <th>FTR</th>\n",
       "      <th>impliedhomechance</th>\n",
       "      <th>impliedawaychance</th>\n",
       "      <th>implieddrawchance</th>\n",
       "      <th>Date</th>\n",
       "      <th>resultprediction</th>\n",
       "      <th>win?</th>\n",
       "      <th>profit/loss</th>\n",
       "      <th>return</th>\n",
       "      <th>odds_taken</th>\n",
       "    </tr>\n",
       "  </thead>\n",
       "  <tbody>\n",
       "    <tr>\n",
       "      <td>1284</td>\n",
       "      <td>Everton</td>\n",
       "      <td>Cardiff</td>\n",
       "      <td>1.43</td>\n",
       "      <td>4.78</td>\n",
       "      <td>8.61</td>\n",
       "      <td>H</td>\n",
       "      <td>0.617649</td>\n",
       "      <td>0.147834</td>\n",
       "      <td>0.234517</td>\n",
       "      <td>2018-11-24</td>\n",
       "      <td>H</td>\n",
       "      <td>1</td>\n",
       "      <td>0</td>\n",
       "      <td>143.0</td>\n",
       "      <td>1.43</td>\n",
       "    </tr>\n",
       "    <tr>\n",
       "      <td>1286</td>\n",
       "      <td>Watford</td>\n",
       "      <td>Liverpool</td>\n",
       "      <td>6.31</td>\n",
       "      <td>4.28</td>\n",
       "      <td>1.59</td>\n",
       "      <td>A</td>\n",
       "      <td>0.224160</td>\n",
       "      <td>0.570319</td>\n",
       "      <td>0.205520</td>\n",
       "      <td>2018-11-24</td>\n",
       "      <td>A</td>\n",
       "      <td>1</td>\n",
       "      <td>0</td>\n",
       "      <td>159.0</td>\n",
       "      <td>1.59</td>\n",
       "    </tr>\n",
       "    <tr>\n",
       "      <td>1291</td>\n",
       "      <td>Wolves</td>\n",
       "      <td>Huddersfield</td>\n",
       "      <td>1.51</td>\n",
       "      <td>4.16</td>\n",
       "      <td>8.20</td>\n",
       "      <td>A</td>\n",
       "      <td>0.523351</td>\n",
       "      <td>0.214206</td>\n",
       "      <td>0.262442</td>\n",
       "      <td>2018-11-25</td>\n",
       "      <td>H</td>\n",
       "      <td>0</td>\n",
       "      <td>0</td>\n",
       "      <td>0.0</td>\n",
       "      <td>8.20</td>\n",
       "    </tr>\n",
       "    <tr>\n",
       "      <td>1292</td>\n",
       "      <td>Bournemouth</td>\n",
       "      <td>Arsenal</td>\n",
       "      <td>3.53</td>\n",
       "      <td>3.84</td>\n",
       "      <td>2.10</td>\n",
       "      <td>A</td>\n",
       "      <td>0.305183</td>\n",
       "      <td>0.443573</td>\n",
       "      <td>0.251244</td>\n",
       "      <td>2018-11-25</td>\n",
       "      <td>A</td>\n",
       "      <td>1</td>\n",
       "      <td>0</td>\n",
       "      <td>210.0</td>\n",
       "      <td>2.10</td>\n",
       "    </tr>\n",
       "    <tr>\n",
       "      <td>1293</td>\n",
       "      <td>Burnley</td>\n",
       "      <td>Newcastle</td>\n",
       "      <td>2.93</td>\n",
       "      <td>3.16</td>\n",
       "      <td>2.77</td>\n",
       "      <td>A</td>\n",
       "      <td>0.468119</td>\n",
       "      <td>0.256727</td>\n",
       "      <td>0.275154</td>\n",
       "      <td>2018-11-26</td>\n",
       "      <td>H</td>\n",
       "      <td>0</td>\n",
       "      <td>0</td>\n",
       "      <td>0.0</td>\n",
       "      <td>2.77</td>\n",
       "    </tr>\n",
       "    <tr>\n",
       "      <td>...</td>\n",
       "      <td>...</td>\n",
       "      <td>...</td>\n",
       "      <td>...</td>\n",
       "      <td>...</td>\n",
       "      <td>...</td>\n",
       "      <td>...</td>\n",
       "      <td>...</td>\n",
       "      <td>...</td>\n",
       "      <td>...</td>\n",
       "      <td>...</td>\n",
       "      <td>...</td>\n",
       "      <td>...</td>\n",
       "      <td>...</td>\n",
       "      <td>...</td>\n",
       "      <td>...</td>\n",
       "    </tr>\n",
       "    <tr>\n",
       "      <td>1664</td>\n",
       "      <td>Fulham</td>\n",
       "      <td>Newcastle</td>\n",
       "      <td>2.55</td>\n",
       "      <td>3.57</td>\n",
       "      <td>2.83</td>\n",
       "      <td>A</td>\n",
       "      <td>0.466806</td>\n",
       "      <td>0.255647</td>\n",
       "      <td>0.277547</td>\n",
       "      <td>2019-12-05</td>\n",
       "      <td>H</td>\n",
       "      <td>0</td>\n",
       "      <td>0</td>\n",
       "      <td>0.0</td>\n",
       "      <td>2.83</td>\n",
       "    </tr>\n",
       "    <tr>\n",
       "      <td>1665</td>\n",
       "      <td>Crystal Palace</td>\n",
       "      <td>Bournemouth</td>\n",
       "      <td>1.88</td>\n",
       "      <td>4.14</td>\n",
       "      <td>3.95</td>\n",
       "      <td>H</td>\n",
       "      <td>0.376323</td>\n",
       "      <td>0.351653</td>\n",
       "      <td>0.272024</td>\n",
       "      <td>2019-12-05</td>\n",
       "      <td>H</td>\n",
       "      <td>1</td>\n",
       "      <td>0</td>\n",
       "      <td>188.0</td>\n",
       "      <td>1.88</td>\n",
       "    </tr>\n",
       "    <tr>\n",
       "      <td>1666</td>\n",
       "      <td>Burnley</td>\n",
       "      <td>Arsenal</td>\n",
       "      <td>3.15</td>\n",
       "      <td>3.80</td>\n",
       "      <td>2.25</td>\n",
       "      <td>A</td>\n",
       "      <td>0.264124</td>\n",
       "      <td>0.506997</td>\n",
       "      <td>0.228879</td>\n",
       "      <td>2019-12-05</td>\n",
       "      <td>A</td>\n",
       "      <td>1</td>\n",
       "      <td>0</td>\n",
       "      <td>225.0</td>\n",
       "      <td>2.25</td>\n",
       "    </tr>\n",
       "    <tr>\n",
       "      <td>1667</td>\n",
       "      <td>Brighton</td>\n",
       "      <td>Man City</td>\n",
       "      <td>15.63</td>\n",
       "      <td>8.17</td>\n",
       "      <td>1.18</td>\n",
       "      <td>A</td>\n",
       "      <td>0.228883</td>\n",
       "      <td>0.558444</td>\n",
       "      <td>0.212673</td>\n",
       "      <td>2019-12-05</td>\n",
       "      <td>A</td>\n",
       "      <td>1</td>\n",
       "      <td>0</td>\n",
       "      <td>118.0</td>\n",
       "      <td>1.18</td>\n",
       "    </tr>\n",
       "    <tr>\n",
       "      <td>1669</td>\n",
       "      <td>Watford</td>\n",
       "      <td>West Ham</td>\n",
       "      <td>2.20</td>\n",
       "      <td>3.85</td>\n",
       "      <td>3.21</td>\n",
       "      <td>A</td>\n",
       "      <td>0.370634</td>\n",
       "      <td>0.351779</td>\n",
       "      <td>0.277586</td>\n",
       "      <td>2019-12-05</td>\n",
       "      <td>H</td>\n",
       "      <td>0</td>\n",
       "      <td>0</td>\n",
       "      <td>0.0</td>\n",
       "      <td>3.21</td>\n",
       "    </tr>\n",
       "  </tbody>\n",
       "</table>\n",
       "<p>380 rows × 15 columns</p>\n",
       "</div>"
      ],
      "text/plain": [
       "            HomeTeam      AwayTeam    PSH   PSD   PSA FTR  impliedhomechance  \\\n",
       "1284         Everton       Cardiff   1.43  4.78  8.61   H           0.617649   \n",
       "1286         Watford     Liverpool   6.31  4.28  1.59   A           0.224160   \n",
       "1291          Wolves  Huddersfield   1.51  4.16  8.20   A           0.523351   \n",
       "1292     Bournemouth       Arsenal   3.53  3.84  2.10   A           0.305183   \n",
       "1293         Burnley     Newcastle   2.93  3.16  2.77   A           0.468119   \n",
       "...              ...           ...    ...   ...   ...  ..                ...   \n",
       "1664          Fulham     Newcastle   2.55  3.57  2.83   A           0.466806   \n",
       "1665  Crystal Palace   Bournemouth   1.88  4.14  3.95   H           0.376323   \n",
       "1666         Burnley       Arsenal   3.15  3.80  2.25   A           0.264124   \n",
       "1667        Brighton      Man City  15.63  8.17  1.18   A           0.228883   \n",
       "1669         Watford      West Ham   2.20  3.85  3.21   A           0.370634   \n",
       "\n",
       "      impliedawaychance  implieddrawchance       Date resultprediction  win?  \\\n",
       "1284           0.147834           0.234517 2018-11-24                H     1   \n",
       "1286           0.570319           0.205520 2018-11-24                A     1   \n",
       "1291           0.214206           0.262442 2018-11-25                H     0   \n",
       "1292           0.443573           0.251244 2018-11-25                A     1   \n",
       "1293           0.256727           0.275154 2018-11-26                H     0   \n",
       "...                 ...                ...        ...              ...   ...   \n",
       "1664           0.255647           0.277547 2019-12-05                H     0   \n",
       "1665           0.351653           0.272024 2019-12-05                H     1   \n",
       "1666           0.506997           0.228879 2019-12-05                A     1   \n",
       "1667           0.558444           0.212673 2019-12-05                A     1   \n",
       "1669           0.351779           0.277586 2019-12-05                H     0   \n",
       "\n",
       "      profit/loss  return  odds_taken  \n",
       "1284            0   143.0        1.43  \n",
       "1286            0   159.0        1.59  \n",
       "1291            0     0.0        8.20  \n",
       "1292            0   210.0        2.10  \n",
       "1293            0     0.0        2.77  \n",
       "...           ...     ...         ...  \n",
       "1664            0     0.0        2.83  \n",
       "1665            0   188.0        1.88  \n",
       "1666            0   225.0        2.25  \n",
       "1667            0   118.0        1.18  \n",
       "1669            0     0.0        3.21  \n",
       "\n",
       "[380 rows x 15 columns]"
      ]
     },
     "execution_count": 832,
     "metadata": {},
     "output_type": "execute_result"
    }
   ],
   "source": [
    "analysis_df"
   ]
  },
  {
   "cell_type": "code",
   "execution_count": 795,
   "metadata": {},
   "outputs": [],
   "source": [
    "analysis_df['return'] = 0"
   ]
  },
  {
   "cell_type": "code",
   "execution_count": null,
   "metadata": {},
   "outputs": [],
   "source": [
    "analysis_df['return'] = [analysis_df['PSH'] if x == 'Z' else 'green' for x in df['win?']]\n"
   ]
  },
  {
   "cell_type": "code",
   "execution_count": null,
   "metadata": {},
   "outputs": [],
   "source": [
    "conditions = [\n",
    "    (analysis_df['win?'] == '1') & (analysis_df['FTR'] == 'H'),\n",
    "    (analysis_df['win?'] == '1') & (analysis_df['FTR'] == 'D'),\n",
    "    (analysis_df['win?'] == '1') & (analysis_df['FTR'] == 'A')]"
   ]
  },
  {
   "cell_type": "code",
   "execution_count": 797,
   "metadata": {},
   "outputs": [],
   "source": [
    "for row in analysis_df['return']:\n",
    "    \n",
    "    if row == 0:\n",
    "        \n",
    "        row = -100\n",
    "        \n",
    "    else:\n",
    "        if analysis_df['FTR'] == 'H':\n",
    "            row = analysis_df['PSH']*100\n",
    "        if analysis_df['FTR'] == 'A':\n",
    "            row = analysis_df['PSA']*100\n",
    "        if analysis_df['FTR'] == 'D':\n",
    "            row = analysis_df['PSD']*100"
   ]
  },
  {
   "cell_type": "code",
   "execution_count": 789,
   "metadata": {},
   "outputs": [],
   "source": [
    "def simple_bettor_strategy(df):\n",
    "    starting_bankroll = 10000\n",
    "    total_spend = 0\n",
    "    \n",
    "    if df['win?'] == 1:\n",
    "        \n",
    "        if df['FTR'] == 'H':\n",
    "            odds_taken = df['PSH']\n",
    "        if df['FTR'] == 'A':\n",
    "            odds_taken = df['PSA']\n",
    "        if df['FTR'] == 'D':\n",
    "            odds_taken = df['PSD']\n",
    "    else:\n",
    "        pass\n",
    "    \n",
    "    return odds_taken\n",
    "        \n",
    "    "
   ]
  },
  {
   "cell_type": "code",
   "execution_count": null,
   "metadata": {},
   "outputs": [],
   "source": [
    "result = [f(x) for x in df['col']]\n"
   ]
  },
  {
   "cell_type": "code",
   "execution_count": 790,
   "metadata": {},
   "outputs": [
    {
     "ename": "ValueError",
     "evalue": "The truth value of a Series is ambiguous. Use a.empty, a.bool(), a.item(), a.any() or a.all().",
     "output_type": "error",
     "traceback": [
      "\u001b[0;31m---------------------------------------------------------------------------\u001b[0m",
      "\u001b[0;31mValueError\u001b[0m                                Traceback (most recent call last)",
      "\u001b[0;32m<ipython-input-790-d8e7bdf83485>\u001b[0m in \u001b[0;36m<module>\u001b[0;34m\u001b[0m\n\u001b[0;32m----> 1\u001b[0;31m \u001b[0msimple_bettor_strategy\u001b[0m\u001b[0;34m(\u001b[0m\u001b[0manalysis_df\u001b[0m\u001b[0;34m)\u001b[0m\u001b[0;34m\u001b[0m\u001b[0;34m\u001b[0m\u001b[0m\n\u001b[0m",
      "\u001b[0;32m<ipython-input-789-7f57f9551401>\u001b[0m in \u001b[0;36msimple_bettor_strategy\u001b[0;34m(df)\u001b[0m\n\u001b[1;32m      3\u001b[0m     \u001b[0mtotal_spend\u001b[0m \u001b[0;34m=\u001b[0m \u001b[0;36m0\u001b[0m\u001b[0;34m\u001b[0m\u001b[0;34m\u001b[0m\u001b[0m\n\u001b[1;32m      4\u001b[0m \u001b[0;34m\u001b[0m\u001b[0m\n\u001b[0;32m----> 5\u001b[0;31m     \u001b[0;32mif\u001b[0m \u001b[0mdf\u001b[0m\u001b[0;34m[\u001b[0m\u001b[0;34m'win?'\u001b[0m\u001b[0;34m]\u001b[0m \u001b[0;34m==\u001b[0m \u001b[0;36m1\u001b[0m\u001b[0;34m:\u001b[0m\u001b[0;34m\u001b[0m\u001b[0;34m\u001b[0m\u001b[0m\n\u001b[0m\u001b[1;32m      6\u001b[0m \u001b[0;34m\u001b[0m\u001b[0m\n\u001b[1;32m      7\u001b[0m         \u001b[0;32mif\u001b[0m \u001b[0mdf\u001b[0m\u001b[0;34m[\u001b[0m\u001b[0;34m'FTR'\u001b[0m\u001b[0;34m]\u001b[0m \u001b[0;34m==\u001b[0m \u001b[0;34m'H'\u001b[0m\u001b[0;34m:\u001b[0m\u001b[0;34m\u001b[0m\u001b[0;34m\u001b[0m\u001b[0m\n",
      "\u001b[0;32m~/anaconda3/envs/learn-env/lib/python3.6/site-packages/pandas/core/generic.py\u001b[0m in \u001b[0;36m__nonzero__\u001b[0;34m(self)\u001b[0m\n\u001b[1;32m   1553\u001b[0m             \u001b[0;34m\"The truth value of a {0} is ambiguous. \"\u001b[0m\u001b[0;34m\u001b[0m\u001b[0;34m\u001b[0m\u001b[0m\n\u001b[1;32m   1554\u001b[0m             \"Use a.empty, a.bool(), a.item(), a.any() or a.all().\".format(\n\u001b[0;32m-> 1555\u001b[0;31m                 \u001b[0mself\u001b[0m\u001b[0;34m.\u001b[0m\u001b[0m__class__\u001b[0m\u001b[0;34m.\u001b[0m\u001b[0m__name__\u001b[0m\u001b[0;34m\u001b[0m\u001b[0;34m\u001b[0m\u001b[0m\n\u001b[0m\u001b[1;32m   1556\u001b[0m             )\n\u001b[1;32m   1557\u001b[0m         )\n",
      "\u001b[0;31mValueError\u001b[0m: The truth value of a Series is ambiguous. Use a.empty, a.bool(), a.item(), a.any() or a.all()."
     ]
    }
   ],
   "source": [
    "simple_bettor_strategy(analysis_df)"
   ]
  },
  {
   "cell_type": "code",
   "execution_count": 774,
   "metadata": {},
   "outputs": [
    {
     "data": {
      "text/plain": [
       "380"
      ]
     },
     "execution_count": 774,
     "metadata": {},
     "output_type": "execute_result"
    }
   ],
   "source": [
    "len(analysis_df)"
   ]
  },
  {
   "cell_type": "code",
   "execution_count": 780,
   "metadata": {},
   "outputs": [
    {
     "ename": "KeyError",
     "evalue": "0",
     "output_type": "error",
     "traceback": [
      "\u001b[0;31m---------------------------------------------------------------------------\u001b[0m",
      "\u001b[0;31mKeyError\u001b[0m                                  Traceback (most recent call last)",
      "\u001b[0;32m~/anaconda3/envs/learn-env/lib/python3.6/site-packages/pandas/core/indexes/base.py\u001b[0m in \u001b[0;36mget_loc\u001b[0;34m(self, key, method, tolerance)\u001b[0m\n\u001b[1;32m   2896\u001b[0m             \u001b[0;32mtry\u001b[0m\u001b[0;34m:\u001b[0m\u001b[0;34m\u001b[0m\u001b[0;34m\u001b[0m\u001b[0m\n\u001b[0;32m-> 2897\u001b[0;31m                 \u001b[0;32mreturn\u001b[0m \u001b[0mself\u001b[0m\u001b[0;34m.\u001b[0m\u001b[0m_engine\u001b[0m\u001b[0;34m.\u001b[0m\u001b[0mget_loc\u001b[0m\u001b[0;34m(\u001b[0m\u001b[0mkey\u001b[0m\u001b[0;34m)\u001b[0m\u001b[0;34m\u001b[0m\u001b[0;34m\u001b[0m\u001b[0m\n\u001b[0m\u001b[1;32m   2898\u001b[0m             \u001b[0;32mexcept\u001b[0m \u001b[0mKeyError\u001b[0m\u001b[0;34m:\u001b[0m\u001b[0;34m\u001b[0m\u001b[0;34m\u001b[0m\u001b[0m\n",
      "\u001b[0;32mpandas/_libs/index.pyx\u001b[0m in \u001b[0;36mpandas._libs.index.IndexEngine.get_loc\u001b[0;34m()\u001b[0m\n",
      "\u001b[0;32mpandas/_libs/index.pyx\u001b[0m in \u001b[0;36mpandas._libs.index.IndexEngine.get_loc\u001b[0;34m()\u001b[0m\n",
      "\u001b[0;32mpandas/_libs/hashtable_class_helper.pxi\u001b[0m in \u001b[0;36mpandas._libs.hashtable.PyObjectHashTable.get_item\u001b[0;34m()\u001b[0m\n",
      "\u001b[0;32mpandas/_libs/hashtable_class_helper.pxi\u001b[0m in \u001b[0;36mpandas._libs.hashtable.PyObjectHashTable.get_item\u001b[0;34m()\u001b[0m\n",
      "\u001b[0;31mKeyError\u001b[0m: 0",
      "\nDuring handling of the above exception, another exception occurred:\n",
      "\u001b[0;31mKeyError\u001b[0m                                  Traceback (most recent call last)",
      "\u001b[0;32m<ipython-input-780-8d4912f61a2c>\u001b[0m in \u001b[0;36m<module>\u001b[0;34m\u001b[0m\n\u001b[0;32m----> 1\u001b[0;31m \u001b[0;32mif\u001b[0m \u001b[0manalysis_df\u001b[0m\u001b[0;34m[\u001b[0m\u001b[0;36m0\u001b[0m\u001b[0;34m]\u001b[0m\u001b[0;34m[\u001b[0m\u001b[0;34m'win?'\u001b[0m\u001b[0;34m]\u001b[0m \u001b[0;34m==\u001b[0m \u001b[0;36m1\u001b[0m\u001b[0;34m:\u001b[0m\u001b[0;34m\u001b[0m\u001b[0;34m\u001b[0m\u001b[0m\n\u001b[0m\u001b[1;32m      2\u001b[0m         \u001b[0;32mif\u001b[0m \u001b[0manalysis_df\u001b[0m\u001b[0;34m[\u001b[0m\u001b[0;36m0\u001b[0m\u001b[0;34m]\u001b[0m\u001b[0;34m[\u001b[0m\u001b[0;34m'FTR'\u001b[0m\u001b[0;34m]\u001b[0m \u001b[0;34m==\u001b[0m \u001b[0;34m'H'\u001b[0m\u001b[0;34m:\u001b[0m\u001b[0;34m\u001b[0m\u001b[0;34m\u001b[0m\u001b[0m\n\u001b[1;32m      3\u001b[0m             \u001b[0modds_taken\u001b[0m \u001b[0;34m=\u001b[0m \u001b[0manalysis_df\u001b[0m\u001b[0;34m[\u001b[0m\u001b[0;36m0\u001b[0m\u001b[0;34m]\u001b[0m\u001b[0;34m[\u001b[0m\u001b[0;34m'PSH'\u001b[0m\u001b[0;34m]\u001b[0m\u001b[0;34m\u001b[0m\u001b[0;34m\u001b[0m\u001b[0m\n",
      "\u001b[0;32m~/anaconda3/envs/learn-env/lib/python3.6/site-packages/pandas/core/frame.py\u001b[0m in \u001b[0;36m__getitem__\u001b[0;34m(self, key)\u001b[0m\n\u001b[1;32m   2978\u001b[0m             \u001b[0;32mif\u001b[0m \u001b[0mself\u001b[0m\u001b[0;34m.\u001b[0m\u001b[0mcolumns\u001b[0m\u001b[0;34m.\u001b[0m\u001b[0mnlevels\u001b[0m \u001b[0;34m>\u001b[0m \u001b[0;36m1\u001b[0m\u001b[0;34m:\u001b[0m\u001b[0;34m\u001b[0m\u001b[0;34m\u001b[0m\u001b[0m\n\u001b[1;32m   2979\u001b[0m                 \u001b[0;32mreturn\u001b[0m \u001b[0mself\u001b[0m\u001b[0;34m.\u001b[0m\u001b[0m_getitem_multilevel\u001b[0m\u001b[0;34m(\u001b[0m\u001b[0mkey\u001b[0m\u001b[0;34m)\u001b[0m\u001b[0;34m\u001b[0m\u001b[0;34m\u001b[0m\u001b[0m\n\u001b[0;32m-> 2980\u001b[0;31m             \u001b[0mindexer\u001b[0m \u001b[0;34m=\u001b[0m \u001b[0mself\u001b[0m\u001b[0;34m.\u001b[0m\u001b[0mcolumns\u001b[0m\u001b[0;34m.\u001b[0m\u001b[0mget_loc\u001b[0m\u001b[0;34m(\u001b[0m\u001b[0mkey\u001b[0m\u001b[0;34m)\u001b[0m\u001b[0;34m\u001b[0m\u001b[0;34m\u001b[0m\u001b[0m\n\u001b[0m\u001b[1;32m   2981\u001b[0m             \u001b[0;32mif\u001b[0m \u001b[0mis_integer\u001b[0m\u001b[0;34m(\u001b[0m\u001b[0mindexer\u001b[0m\u001b[0;34m)\u001b[0m\u001b[0;34m:\u001b[0m\u001b[0;34m\u001b[0m\u001b[0;34m\u001b[0m\u001b[0m\n\u001b[1;32m   2982\u001b[0m                 \u001b[0mindexer\u001b[0m \u001b[0;34m=\u001b[0m \u001b[0;34m[\u001b[0m\u001b[0mindexer\u001b[0m\u001b[0;34m]\u001b[0m\u001b[0;34m\u001b[0m\u001b[0;34m\u001b[0m\u001b[0m\n",
      "\u001b[0;32m~/anaconda3/envs/learn-env/lib/python3.6/site-packages/pandas/core/indexes/base.py\u001b[0m in \u001b[0;36mget_loc\u001b[0;34m(self, key, method, tolerance)\u001b[0m\n\u001b[1;32m   2897\u001b[0m                 \u001b[0;32mreturn\u001b[0m \u001b[0mself\u001b[0m\u001b[0;34m.\u001b[0m\u001b[0m_engine\u001b[0m\u001b[0;34m.\u001b[0m\u001b[0mget_loc\u001b[0m\u001b[0;34m(\u001b[0m\u001b[0mkey\u001b[0m\u001b[0;34m)\u001b[0m\u001b[0;34m\u001b[0m\u001b[0;34m\u001b[0m\u001b[0m\n\u001b[1;32m   2898\u001b[0m             \u001b[0;32mexcept\u001b[0m \u001b[0mKeyError\u001b[0m\u001b[0;34m:\u001b[0m\u001b[0;34m\u001b[0m\u001b[0;34m\u001b[0m\u001b[0m\n\u001b[0;32m-> 2899\u001b[0;31m                 \u001b[0;32mreturn\u001b[0m \u001b[0mself\u001b[0m\u001b[0;34m.\u001b[0m\u001b[0m_engine\u001b[0m\u001b[0;34m.\u001b[0m\u001b[0mget_loc\u001b[0m\u001b[0;34m(\u001b[0m\u001b[0mself\u001b[0m\u001b[0;34m.\u001b[0m\u001b[0m_maybe_cast_indexer\u001b[0m\u001b[0;34m(\u001b[0m\u001b[0mkey\u001b[0m\u001b[0;34m)\u001b[0m\u001b[0;34m)\u001b[0m\u001b[0;34m\u001b[0m\u001b[0;34m\u001b[0m\u001b[0m\n\u001b[0m\u001b[1;32m   2900\u001b[0m         \u001b[0mindexer\u001b[0m \u001b[0;34m=\u001b[0m \u001b[0mself\u001b[0m\u001b[0;34m.\u001b[0m\u001b[0mget_indexer\u001b[0m\u001b[0;34m(\u001b[0m\u001b[0;34m[\u001b[0m\u001b[0mkey\u001b[0m\u001b[0;34m]\u001b[0m\u001b[0;34m,\u001b[0m \u001b[0mmethod\u001b[0m\u001b[0;34m=\u001b[0m\u001b[0mmethod\u001b[0m\u001b[0;34m,\u001b[0m \u001b[0mtolerance\u001b[0m\u001b[0;34m=\u001b[0m\u001b[0mtolerance\u001b[0m\u001b[0;34m)\u001b[0m\u001b[0;34m\u001b[0m\u001b[0;34m\u001b[0m\u001b[0m\n\u001b[1;32m   2901\u001b[0m         \u001b[0;32mif\u001b[0m \u001b[0mindexer\u001b[0m\u001b[0;34m.\u001b[0m\u001b[0mndim\u001b[0m \u001b[0;34m>\u001b[0m \u001b[0;36m1\u001b[0m \u001b[0;32mor\u001b[0m \u001b[0mindexer\u001b[0m\u001b[0;34m.\u001b[0m\u001b[0msize\u001b[0m \u001b[0;34m>\u001b[0m \u001b[0;36m1\u001b[0m\u001b[0;34m:\u001b[0m\u001b[0;34m\u001b[0m\u001b[0;34m\u001b[0m\u001b[0m\n",
      "\u001b[0;32mpandas/_libs/index.pyx\u001b[0m in \u001b[0;36mpandas._libs.index.IndexEngine.get_loc\u001b[0;34m()\u001b[0m\n",
      "\u001b[0;32mpandas/_libs/index.pyx\u001b[0m in \u001b[0;36mpandas._libs.index.IndexEngine.get_loc\u001b[0;34m()\u001b[0m\n",
      "\u001b[0;32mpandas/_libs/hashtable_class_helper.pxi\u001b[0m in \u001b[0;36mpandas._libs.hashtable.PyObjectHashTable.get_item\u001b[0;34m()\u001b[0m\n",
      "\u001b[0;32mpandas/_libs/hashtable_class_helper.pxi\u001b[0m in \u001b[0;36mpandas._libs.hashtable.PyObjectHashTable.get_item\u001b[0;34m()\u001b[0m\n",
      "\u001b[0;31mKeyError\u001b[0m: 0"
     ]
    }
   ],
   "source": [
    "if analysis_df[0]['win?'] == 1:\n",
    "        if analysis_df[0]['FTR'] == 'H':\n",
    "            odds_taken = analysis_df[0]['PSH']"
   ]
  },
  {
   "cell_type": "code",
   "execution_count": null,
   "metadata": {},
   "outputs": [],
   "source": []
  }
 ],
 "metadata": {
  "kernelspec": {
   "display_name": "learn-env",
   "language": "python",
   "name": "learn-env"
  },
  "language_info": {
   "codemirror_mode": {
    "name": "ipython",
    "version": 3
   },
   "file_extension": ".py",
   "mimetype": "text/x-python",
   "name": "python",
   "nbconvert_exporter": "python",
   "pygments_lexer": "ipython3",
   "version": "3.6.9"
  }
 },
 "nbformat": 4,
 "nbformat_minor": 2
}
