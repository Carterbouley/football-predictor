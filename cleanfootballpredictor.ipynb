{
 "cells": [
  {
   "cell_type": "code",
   "execution_count": 245,
   "metadata": {},
   "outputs": [],
   "source": [
    "import pandas as pd\n",
    "import numpy as np\n",
    "from sklearn.linear_model import LogisticRegression\n",
    "from sklearn.model_selection import GridSearchCV\n",
    "from sklearn.metrics import classification_report\n",
    "from sklearn.model_selection import GridSearchCV\n",
    "from sklearn.model_selection import cross_val_score\n",
    "from sklearn.tree import DecisionTreeClassifier\n",
    "from sklearn.ensemble import RandomForestClassifier\n",
    "from sklearn import preprocessing\n",
    "from sklearn.metrics import accuracy_score"
   ]
  },
  {
   "cell_type": "code",
   "execution_count": 246,
   "metadata": {},
   "outputs": [],
   "source": [
    "df=pd.read_csv('E0 (1).csv')\n",
    "df2 = pd.read_csv('E0 (2).csv')\n",
    "df3 =pd.read_csv('E0 (3).csv')\n",
    "df4 = pd.read_csv('E0 (4).csv')\n",
    "df5 = pd.read_csv('E0 (5).csv')"
   ]
  },
  {
   "cell_type": "code",
   "execution_count": 247,
   "metadata": {},
   "outputs": [
    {
     "name": "stderr",
     "output_type": "stream",
     "text": [
      "/Users/carterbouley/anaconda3/envs/learn-env/lib/python3.6/site-packages/pandas/core/frame.py:7123: FutureWarning: Sorting because non-concatenation axis is not aligned. A future version\n",
      "of pandas will change to not sort by default.\n",
      "\n",
      "To accept the future behavior, pass 'sort=False'.\n",
      "\n",
      "To retain the current behavior and silence the warning, pass 'sort=True'.\n",
      "\n",
      "  sort=sort,\n"
     ]
    }
   ],
   "source": [
    "new_df = df.append(df2)\n",
    "new_df = new_df.append(df3)\n",
    "new_df = new_df.append(df4)\n",
    "new_df = new_df.append(df5)"
   ]
  },
  {
   "cell_type": "code",
   "execution_count": 249,
   "metadata": {},
   "outputs": [],
   "source": [
    "new_df = new_df[['Div', 'Date', 'HomeTeam', 'AwayTeam', 'FTHG', 'FTAG', 'FTR', 'HTHG',\n",
    "       'HTAG', 'HTR', 'Referee', 'HS', 'AS', 'HST', 'AST', 'HF', 'AF', 'HC',\n",
    "       'AC', 'HY', 'AY', 'HR', 'AR', 'PSH', 'PSD', 'PSA' ]]\n",
    "\n",
    "new_df.drop(columns = 'Div', inplace = True)"
   ]
  },
  {
   "cell_type": "code",
   "execution_count": 250,
   "metadata": {},
   "outputs": [],
   "source": [
    "new_df2 = new_df.copy()\n",
    "\n",
    "new_df['Team'] = new_df.HomeTeam\n",
    "new_df['Opponent'] = new_df.AwayTeam\n",
    "\n",
    "new_df2['Team'] = new_df.AwayTeam\n",
    "new_df2['Opponent'] = new_df.HomeTeam\n",
    "\n",
    "df3 = pd.concat([new_df, new_df2])"
   ]
  },
  {
   "cell_type": "code",
   "execution_count": 251,
   "metadata": {},
   "outputs": [],
   "source": [
    "def home_away_numerical(df):\n",
    "    \"\"\"\n",
    "    Simple function to assign a numerical value to whether a team is home/away. In this case, home=1 away=0. Same methodology\n",
    "    as above, chunk list to pd.concat().\n",
    "    \"\"\"\n",
    "    team_list = df.HomeTeam.unique()\n",
    "    chunks = []\n",
    "    for team in team_list:\n",
    "        all_games = df[df['Team']==team]\n",
    "        all_games['HomeAway'] = 1\n",
    "        all_games.loc[all_games['AwayTeam']==team,'HomeAway'] = 0\n",
    "        chunks.append(all_games)\n",
    "    dataframe = pd.concat(chunks,ignore_index=True)\n",
    "    return dataframe\n"
   ]
  },
  {
   "cell_type": "code",
   "execution_count": 252,
   "metadata": {},
   "outputs": [
    {
     "name": "stderr",
     "output_type": "stream",
     "text": [
      "/Users/carterbouley/anaconda3/envs/learn-env/lib/python3.6/site-packages/ipykernel_launcher.py:10: SettingWithCopyWarning: \n",
      "A value is trying to be set on a copy of a slice from a DataFrame.\n",
      "Try using .loc[row_indexer,col_indexer] = value instead\n",
      "\n",
      "See the caveats in the documentation: http://pandas.pydata.org/pandas-docs/stable/user_guide/indexing.html#returning-a-view-versus-a-copy\n",
      "  # Remove the CWD from sys.path while we load stuff.\n",
      "/Users/carterbouley/anaconda3/envs/learn-env/lib/python3.6/site-packages/pandas/core/indexing.py:494: SettingWithCopyWarning: \n",
      "A value is trying to be set on a copy of a slice from a DataFrame.\n",
      "Try using .loc[row_indexer,col_indexer] = value instead\n",
      "\n",
      "See the caveats in the documentation: http://pandas.pydata.org/pandas-docs/stable/user_guide/indexing.html#returning-a-view-versus-a-copy\n",
      "  self.obj[item] = s\n"
     ]
    }
   ],
   "source": [
    "df3 = home_away_numerical(df3) # generates home dummy variable for home or away"
   ]
  },
  {
   "cell_type": "code",
   "execution_count": 254,
   "metadata": {},
   "outputs": [],
   "source": [
    "df4 = df3[['Team', 'Opponent', 'HomeAway', 'Date',  'FTHG', 'FTAG', 'FTR', 'HTHG',\n",
    "       'HTAG', 'HTR', 'Referee','HST', 'AST', 'HC',\n",
    "       'AC', 'HR', 'AR', 'PSH', 'PSD', 'PSA', ]].copy()"
   ]
  },
  {
   "cell_type": "code",
   "execution_count": 255,
   "metadata": {},
   "outputs": [],
   "source": [
    "team_list = new_df.HomeTeam.unique()\n",
    "team_list = team_list.tolist()\n",
    "\n",
    "list_of_hthg = []\n",
    "for team in team_list:\n",
    "    dfnew = df4.loc[(df4.Team==team) & (df4.HomeAway == 1)]['HTHG'].mean()\n",
    "    list_of_hthg.append(dfnew)\n",
    "    \n",
    "team_list = df4.Team.unique()\n",
    "team_list = team_list.tolist()\n",
    " \n",
    "average_hthg = dict(zip(team_list, list_of_hthg))\n",
    "\n",
    "list_of_htag = []\n",
    "for team in team_list:\n",
    "    dfnew = df4.loc[(df4.Team==team) & (df4.HomeAway == 0)]['HTAG'].mean()\n",
    "    list_of_htag.append(dfnew)\n",
    "    \n",
    "team_list = df4.Team.unique()\n",
    "team_list = team_list.tolist()\n",
    " \n",
    "average_htag = dict(zip(team_list, list_of_htag))\n",
    "\n",
    "list_of_fthg = []\n",
    "for team in team_list:\n",
    "    dfnew = df4.loc[(df4.Team==team) & (df4.HomeAway == 1)]['FTHG'].mean()\n",
    "    list_of_fthg.append(dfnew)\n",
    "    \n",
    "team_list = df4.Team.unique()\n",
    "team_list = team_list.tolist()\n",
    " \n",
    "average_fthg = dict(zip(team_list, list_of_fthg))\n",
    "\n",
    "list_of_ftag = []\n",
    "for team in team_list:\n",
    "    dfnew = df4.loc[(df4.Team==team) & (df4.HomeAway == 0)]['FTAG'].mean()\n",
    "    list_of_ftag.append(dfnew)\n",
    "    \n",
    "team_list = df4.Team.unique()\n",
    "team_list = team_list.tolist()\n",
    " \n",
    "average_ftag = dict(zip(team_list, list_of_ftag))\n",
    "\n",
    "list_of_hst = []\n",
    "for team in team_list:\n",
    "    dfnew = df4.loc[(df4.Team==team) & (df4.HomeAway == 1)]['HST'].mean()\n",
    "    list_of_hst.append(dfnew)\n",
    "    \n",
    "team_list = df4.Team.unique()\n",
    "team_list = team_list.tolist()\n",
    " \n",
    "average_hst = dict(zip(team_list, list_of_hst))\n",
    "\n",
    "list_of_ast = []\n",
    "for team in team_list:\n",
    "    dfnew = df4.loc[(df4.Team==team) & (df4.HomeAway == 0)]['AST'].mean()\n",
    "    list_of_ast.append(dfnew)\n",
    "    \n",
    "team_list = df4.Team.unique()\n",
    "team_list = team_list.tolist()\n",
    " \n",
    "average_ast = dict(zip(team_list, list_of_ast))\n",
    "\n",
    "list_of_hc = []\n",
    "for team in team_list:\n",
    "    dfnew = df4.loc[(df4.Team==team) & (df4.HomeAway == 1)]['HC'].mean()\n",
    "    list_of_hc.append(dfnew)\n",
    "    \n",
    "team_list = df4.Team.unique()\n",
    "team_list = team_list.tolist()\n",
    " \n",
    "average_hc = dict(zip(team_list, list_of_hc))\n",
    "\n",
    "list_of_ac = []\n",
    "for team in team_list:\n",
    "    dfnew = df4.loc[(df4.Team==team) & (df4.HomeAway == 0)]['AC'].mean()\n",
    "    list_of_ac.append(dfnew)\n",
    "    \n",
    "team_list = df4.Team.unique()\n",
    "team_list = team_list.tolist()\n",
    " \n",
    "average_ac = dict(zip(team_list, list_of_ac))\n",
    "\n",
    "list_of_hr = []\n",
    "for team in team_list:\n",
    "    dfnew = df4.loc[(df4.Team==team) & (df4.HomeAway == 1)]['HR'].mean()\n",
    "    list_of_hr.append(dfnew)\n",
    "    \n",
    "team_list = df4.Team.unique()\n",
    "team_list = team_list.tolist()\n",
    " \n",
    "average_hr = dict(zip(team_list, list_of_hr))\n",
    "\n",
    "list_of_ar = []\n",
    "for team in team_list:\n",
    "    dfnew = df4.loc[(df4.Team==team) & (df4.HomeAway == 0)]['AR'].mean()\n",
    "    list_of_ar.append(dfnew)\n",
    "    \n",
    "team_list = df4.Team.unique()\n",
    "team_list = team_list.tolist()\n",
    " \n",
    "average_ar = dict(zip(team_list, list_of_ar))"
   ]
  },
  {
   "cell_type": "code",
   "execution_count": 277,
   "metadata": {},
   "outputs": [],
   "source": [
    "new_df.Date = pd.to_datetime(new_df.Date, infer_datetime_format=True)\n",
    "df_final =  new_df.sort_values(by='Date', ascending = True) "
   ]
  },
  {
   "cell_type": "code",
   "execution_count": 278,
   "metadata": {},
   "outputs": [
    {
     "data": {
      "text/plain": [
       "(1670, 28)"
      ]
     },
     "execution_count": 278,
     "metadata": {},
     "output_type": "execute_result"
    }
   ],
   "source": [
    "df_final.shape"
   ]
  },
  {
   "cell_type": "code",
   "execution_count": 280,
   "metadata": {},
   "outputs": [],
   "source": [
    "df_final['average_halftimehomegoals'] = df_final['HomeTeam'].map(average_hthg)\n",
    "df_final['average_halftimeawaygoals'] = df_final['AwayTeam'].map(average_htag)\n",
    "df_final['average_fulltimehomegoals'] = df_final['HomeTeam'].map(average_fthg)\n",
    "df_final['average_fulltimeawaygoals'] = df_final['AwayTeam'].map(average_ftag)\n",
    "df_final['average_hometeamshotsontarget'] = df_final['HomeTeam'].map(average_hst)\n",
    "df_final['average_awayteamshotsontarget'] = df_final['AwayTeam'].map(average_ast)\n",
    "df_final['average_homecorners'] = df_final['HomeTeam'].map(average_hc)\n",
    "df_final['average_awaycorners'] = df_final['AwayTeam'].map(average_ac)\n",
    "df_final['average_homereds'] = df_final['HomeTeam'].map(average_hr)\n",
    "df_final['average_awayreds'] = df_final['AwayTeam'].map(average_ar)"
   ]
  },
  {
   "cell_type": "code",
   "execution_count": 281,
   "metadata": {},
   "outputs": [
    {
     "data": {
      "text/plain": [
       "Index(['Date', 'HomeTeam', 'AwayTeam', 'FTHG', 'FTAG', 'FTR', 'HTHG', 'HTAG',\n",
       "       'HTR', 'Referee', 'HS', 'AS', 'HST', 'AST', 'HF', 'AF', 'HC', 'AC',\n",
       "       'HY', 'AY', 'HR', 'AR', 'PSH', 'PSD', 'PSA', 'Team', 'Opponent',\n",
       "       'Date1', 'average_halftimehomegoals', 'average_halftimeawaygoals',\n",
       "       'average_fulltimehomegoals', 'average_fulltimeawaygoals',\n",
       "       'average_hometeamshotsontarget', 'average_awayteamshotsontarget',\n",
       "       'average_homecorners', 'average_awaycorners', 'average_homereds',\n",
       "       'average_awayreds'],\n",
       "      dtype='object')"
      ]
     },
     "execution_count": 281,
     "metadata": {},
     "output_type": "execute_result"
    }
   ],
   "source": [
    "df_final.columns"
   ]
  },
  {
   "cell_type": "code",
   "execution_count": 282,
   "metadata": {},
   "outputs": [],
   "source": [
    "df_final['avg_half_timegoals_homevsawayratio'] = df_final['average_halftimehomegoals']/df_final['average_halftimeawaygoals'] \n",
    "\n",
    "\n",
    "df_final['avg_full_timegoals_homevsawayratio'] = df_final['average_fulltimehomegoals']/df_final['average_fulltimeawaygoals'] \n",
    "\n",
    "df_final['avg_full_timeshotsontarget_homevsawayratio'] = df_final['average_hometeamshotsontarget']/df_final['average_awayteamshotsontarget']\n",
    "df_final['avg_corners_homevsawayratio'] = df_final['average_homecorners']/df_final['average_awaycorners'] \n",
    "df_final['avg_reds_homevsawayratio'] = df_final['average_homereds']/df_final['average_awayreds'] \n"
   ]
  },
  {
   "cell_type": "code",
   "execution_count": 283,
   "metadata": {},
   "outputs": [],
   "source": [
    "df_final.set_index('Date', inplace = True)"
   ]
  },
  {
   "cell_type": "code",
   "execution_count": 284,
   "metadata": {},
   "outputs": [
    {
     "data": {
      "text/html": [
       "<div>\n",
       "<style scoped>\n",
       "    .dataframe tbody tr th:only-of-type {\n",
       "        vertical-align: middle;\n",
       "    }\n",
       "\n",
       "    .dataframe tbody tr th {\n",
       "        vertical-align: top;\n",
       "    }\n",
       "\n",
       "    .dataframe thead th {\n",
       "        text-align: right;\n",
       "    }\n",
       "</style>\n",
       "<table border=\"1\" class=\"dataframe\">\n",
       "  <thead>\n",
       "    <tr style=\"text-align: right;\">\n",
       "      <th></th>\n",
       "      <th>Date</th>\n",
       "      <th>HomeTeam</th>\n",
       "      <th>AwayTeam</th>\n",
       "      <th>FTHG</th>\n",
       "      <th>FTAG</th>\n",
       "      <th>FTR</th>\n",
       "      <th>HTHG</th>\n",
       "      <th>HTAG</th>\n",
       "      <th>HTR</th>\n",
       "      <th>Referee</th>\n",
       "      <th>...</th>\n",
       "      <th>average_awayteamshotsontarget</th>\n",
       "      <th>average_homecorners</th>\n",
       "      <th>average_awaycorners</th>\n",
       "      <th>average_homereds</th>\n",
       "      <th>average_awayreds</th>\n",
       "      <th>avg_half_timegoals_homevsawayratio</th>\n",
       "      <th>avg_full_timegoals_homevsawayratio</th>\n",
       "      <th>avg_full_timeshotsontarget_homevsawayratio</th>\n",
       "      <th>avg_corners_homevsawayratio</th>\n",
       "      <th>avg_reds_homevsawayratio</th>\n",
       "    </tr>\n",
       "  </thead>\n",
       "  <tbody>\n",
       "    <tr>\n",
       "      <td>0</td>\n",
       "      <td>2015-08-08</td>\n",
       "      <td>Bournemouth</td>\n",
       "      <td>Aston Villa</td>\n",
       "      <td>0</td>\n",
       "      <td>1</td>\n",
       "      <td>A</td>\n",
       "      <td>0</td>\n",
       "      <td>0</td>\n",
       "      <td>D</td>\n",
       "      <td>M Clattenburg</td>\n",
       "      <td>...</td>\n",
       "      <td>3.370370</td>\n",
       "      <td>5.698795</td>\n",
       "      <td>4.037037</td>\n",
       "      <td>0.048193</td>\n",
       "      <td>0.111111</td>\n",
       "      <td>1.915663</td>\n",
       "      <td>1.600482</td>\n",
       "      <td>1.319079</td>\n",
       "      <td>1.411628</td>\n",
       "      <td>0.433735</td>\n",
       "    </tr>\n",
       "    <tr>\n",
       "      <td>1</td>\n",
       "      <td>2015-08-08</td>\n",
       "      <td>Chelsea</td>\n",
       "      <td>Swansea</td>\n",
       "      <td>2</td>\n",
       "      <td>2</td>\n",
       "      <td>D</td>\n",
       "      <td>2</td>\n",
       "      <td>1</td>\n",
       "      <td>H</td>\n",
       "      <td>M Oliver</td>\n",
       "      <td>...</td>\n",
       "      <td>3.017544</td>\n",
       "      <td>6.880952</td>\n",
       "      <td>3.824561</td>\n",
       "      <td>0.071429</td>\n",
       "      <td>0.017544</td>\n",
       "      <td>2.510714</td>\n",
       "      <td>2.221989</td>\n",
       "      <td>2.027824</td>\n",
       "      <td>1.799148</td>\n",
       "      <td>4.071429</td>\n",
       "    </tr>\n",
       "    <tr>\n",
       "      <td>2</td>\n",
       "      <td>2015-08-08</td>\n",
       "      <td>Everton</td>\n",
       "      <td>Watford</td>\n",
       "      <td>2</td>\n",
       "      <td>2</td>\n",
       "      <td>D</td>\n",
       "      <td>0</td>\n",
       "      <td>1</td>\n",
       "      <td>A</td>\n",
       "      <td>M Jones</td>\n",
       "      <td>...</td>\n",
       "      <td>3.345238</td>\n",
       "      <td>5.963855</td>\n",
       "      <td>4.333333</td>\n",
       "      <td>0.036145</td>\n",
       "      <td>0.095238</td>\n",
       "      <td>1.518072</td>\n",
       "      <td>1.743649</td>\n",
       "      <td>1.404622</td>\n",
       "      <td>1.376274</td>\n",
       "      <td>0.379518</td>\n",
       "    </tr>\n",
       "    <tr>\n",
       "      <td>3</td>\n",
       "      <td>2015-08-08</td>\n",
       "      <td>Leicester</td>\n",
       "      <td>Sunderland</td>\n",
       "      <td>4</td>\n",
       "      <td>2</td>\n",
       "      <td>H</td>\n",
       "      <td>3</td>\n",
       "      <td>0</td>\n",
       "      <td>H</td>\n",
       "      <td>L Mason</td>\n",
       "      <td>...</td>\n",
       "      <td>3.315789</td>\n",
       "      <td>5.702381</td>\n",
       "      <td>3.552632</td>\n",
       "      <td>0.059524</td>\n",
       "      <td>0.078947</td>\n",
       "      <td>1.744898</td>\n",
       "      <td>1.583333</td>\n",
       "      <td>1.385865</td>\n",
       "      <td>1.605115</td>\n",
       "      <td>0.753968</td>\n",
       "    </tr>\n",
       "    <tr>\n",
       "      <td>4</td>\n",
       "      <td>2015-08-08</td>\n",
       "      <td>Man United</td>\n",
       "      <td>Tottenham</td>\n",
       "      <td>1</td>\n",
       "      <td>0</td>\n",
       "      <td>H</td>\n",
       "      <td>1</td>\n",
       "      <td>0</td>\n",
       "      <td>H</td>\n",
       "      <td>J Moss</td>\n",
       "      <td>...</td>\n",
       "      <td>5.130952</td>\n",
       "      <td>6.333333</td>\n",
       "      <td>5.488095</td>\n",
       "      <td>0.023810</td>\n",
       "      <td>0.071429</td>\n",
       "      <td>0.970588</td>\n",
       "      <td>0.920530</td>\n",
       "      <td>1.055684</td>\n",
       "      <td>1.154013</td>\n",
       "      <td>0.333333</td>\n",
       "    </tr>\n",
       "    <tr>\n",
       "      <td>...</td>\n",
       "      <td>...</td>\n",
       "      <td>...</td>\n",
       "      <td>...</td>\n",
       "      <td>...</td>\n",
       "      <td>...</td>\n",
       "      <td>...</td>\n",
       "      <td>...</td>\n",
       "      <td>...</td>\n",
       "      <td>...</td>\n",
       "      <td>...</td>\n",
       "      <td>...</td>\n",
       "      <td>...</td>\n",
       "      <td>...</td>\n",
       "      <td>...</td>\n",
       "      <td>...</td>\n",
       "      <td>...</td>\n",
       "      <td>...</td>\n",
       "      <td>...</td>\n",
       "      <td>...</td>\n",
       "      <td>...</td>\n",
       "      <td>...</td>\n",
       "    </tr>\n",
       "    <tr>\n",
       "      <td>1665</td>\n",
       "      <td>2019-12-04</td>\n",
       "      <td>Liverpool</td>\n",
       "      <td>Everton</td>\n",
       "      <td>5</td>\n",
       "      <td>2</td>\n",
       "      <td>H</td>\n",
       "      <td>4</td>\n",
       "      <td>2</td>\n",
       "      <td>H</td>\n",
       "      <td>M Dean</td>\n",
       "      <td>...</td>\n",
       "      <td>4.000000</td>\n",
       "      <td>6.869048</td>\n",
       "      <td>4.559524</td>\n",
       "      <td>0.035714</td>\n",
       "      <td>0.154762</td>\n",
       "      <td>2.204545</td>\n",
       "      <td>2.195652</td>\n",
       "      <td>1.651786</td>\n",
       "      <td>1.506527</td>\n",
       "      <td>0.230769</td>\n",
       "    </tr>\n",
       "    <tr>\n",
       "      <td>1666</td>\n",
       "      <td>2019-12-04</td>\n",
       "      <td>Chelsea</td>\n",
       "      <td>Aston Villa</td>\n",
       "      <td>2</td>\n",
       "      <td>1</td>\n",
       "      <td>H</td>\n",
       "      <td>1</td>\n",
       "      <td>1</td>\n",
       "      <td>D</td>\n",
       "      <td>C Kavanagh</td>\n",
       "      <td>...</td>\n",
       "      <td>3.370370</td>\n",
       "      <td>6.880952</td>\n",
       "      <td>4.037037</td>\n",
       "      <td>0.071429</td>\n",
       "      <td>0.111111</td>\n",
       "      <td>2.642857</td>\n",
       "      <td>2.147143</td>\n",
       "      <td>1.815542</td>\n",
       "      <td>1.704456</td>\n",
       "      <td>0.642857</td>\n",
       "    </tr>\n",
       "    <tr>\n",
       "      <td>1667</td>\n",
       "      <td>2019-12-04</td>\n",
       "      <td>Leicester</td>\n",
       "      <td>Watford</td>\n",
       "      <td>2</td>\n",
       "      <td>0</td>\n",
       "      <td>H</td>\n",
       "      <td>0</td>\n",
       "      <td>0</td>\n",
       "      <td>D</td>\n",
       "      <td>C Pawson</td>\n",
       "      <td>...</td>\n",
       "      <td>3.345238</td>\n",
       "      <td>5.702381</td>\n",
       "      <td>4.333333</td>\n",
       "      <td>0.059524</td>\n",
       "      <td>0.095238</td>\n",
       "      <td>1.350000</td>\n",
       "      <td>1.602410</td>\n",
       "      <td>1.373665</td>\n",
       "      <td>1.315934</td>\n",
       "      <td>0.625000</td>\n",
       "    </tr>\n",
       "    <tr>\n",
       "      <td>1668</td>\n",
       "      <td>2019-12-05</td>\n",
       "      <td>Sheffield United</td>\n",
       "      <td>Newcastle</td>\n",
       "      <td>0</td>\n",
       "      <td>2</td>\n",
       "      <td>A</td>\n",
       "      <td>0</td>\n",
       "      <td>1</td>\n",
       "      <td>A</td>\n",
       "      <td>S Attwell</td>\n",
       "      <td>...</td>\n",
       "      <td>3.492308</td>\n",
       "      <td>7.625000</td>\n",
       "      <td>3.938462</td>\n",
       "      <td>0.125000</td>\n",
       "      <td>0.076923</td>\n",
       "      <td>1.400862</td>\n",
       "      <td>1.305804</td>\n",
       "      <td>1.216960</td>\n",
       "      <td>1.936035</td>\n",
       "      <td>1.625000</td>\n",
       "    </tr>\n",
       "    <tr>\n",
       "      <td>1669</td>\n",
       "      <td>2019-12-05</td>\n",
       "      <td>Arsenal</td>\n",
       "      <td>Brighton</td>\n",
       "      <td>1</td>\n",
       "      <td>2</td>\n",
       "      <td>A</td>\n",
       "      <td>0</td>\n",
       "      <td>1</td>\n",
       "      <td>A</td>\n",
       "      <td>G Scott</td>\n",
       "      <td>...</td>\n",
       "      <td>2.869565</td>\n",
       "      <td>7.202381</td>\n",
       "      <td>3.652174</td>\n",
       "      <td>0.071429</td>\n",
       "      <td>0.086957</td>\n",
       "      <td>2.312169</td>\n",
       "      <td>2.899160</td>\n",
       "      <td>2.144841</td>\n",
       "      <td>1.972080</td>\n",
       "      <td>0.821429</td>\n",
       "    </tr>\n",
       "  </tbody>\n",
       "</table>\n",
       "<p>1670 rows × 43 columns</p>\n",
       "</div>"
      ],
      "text/plain": [
       "           Date          HomeTeam     AwayTeam  FTHG  FTAG FTR  HTHG  HTAG  \\\n",
       "0    2015-08-08       Bournemouth  Aston Villa     0     1   A     0     0   \n",
       "1    2015-08-08           Chelsea      Swansea     2     2   D     2     1   \n",
       "2    2015-08-08           Everton      Watford     2     2   D     0     1   \n",
       "3    2015-08-08         Leicester   Sunderland     4     2   H     3     0   \n",
       "4    2015-08-08        Man United    Tottenham     1     0   H     1     0   \n",
       "...         ...               ...          ...   ...   ...  ..   ...   ...   \n",
       "1665 2019-12-04         Liverpool      Everton     5     2   H     4     2   \n",
       "1666 2019-12-04           Chelsea  Aston Villa     2     1   H     1     1   \n",
       "1667 2019-12-04         Leicester      Watford     2     0   H     0     0   \n",
       "1668 2019-12-05  Sheffield United    Newcastle     0     2   A     0     1   \n",
       "1669 2019-12-05           Arsenal     Brighton     1     2   A     0     1   \n",
       "\n",
       "     HTR        Referee  ...  average_awayteamshotsontarget  \\\n",
       "0      D  M Clattenburg  ...                       3.370370   \n",
       "1      H       M Oliver  ...                       3.017544   \n",
       "2      A        M Jones  ...                       3.345238   \n",
       "3      H        L Mason  ...                       3.315789   \n",
       "4      H         J Moss  ...                       5.130952   \n",
       "...   ..            ...  ...                            ...   \n",
       "1665   H         M Dean  ...                       4.000000   \n",
       "1666   D     C Kavanagh  ...                       3.370370   \n",
       "1667   D       C Pawson  ...                       3.345238   \n",
       "1668   A      S Attwell  ...                       3.492308   \n",
       "1669   A        G Scott  ...                       2.869565   \n",
       "\n",
       "      average_homecorners  average_awaycorners  average_homereds  \\\n",
       "0                5.698795             4.037037          0.048193   \n",
       "1                6.880952             3.824561          0.071429   \n",
       "2                5.963855             4.333333          0.036145   \n",
       "3                5.702381             3.552632          0.059524   \n",
       "4                6.333333             5.488095          0.023810   \n",
       "...                   ...                  ...               ...   \n",
       "1665             6.869048             4.559524          0.035714   \n",
       "1666             6.880952             4.037037          0.071429   \n",
       "1667             5.702381             4.333333          0.059524   \n",
       "1668             7.625000             3.938462          0.125000   \n",
       "1669             7.202381             3.652174          0.071429   \n",
       "\n",
       "      average_awayreds  avg_half_timegoals_homevsawayratio  \\\n",
       "0             0.111111                            1.915663   \n",
       "1             0.017544                            2.510714   \n",
       "2             0.095238                            1.518072   \n",
       "3             0.078947                            1.744898   \n",
       "4             0.071429                            0.970588   \n",
       "...                ...                                 ...   \n",
       "1665          0.154762                            2.204545   \n",
       "1666          0.111111                            2.642857   \n",
       "1667          0.095238                            1.350000   \n",
       "1668          0.076923                            1.400862   \n",
       "1669          0.086957                            2.312169   \n",
       "\n",
       "      avg_full_timegoals_homevsawayratio  \\\n",
       "0                               1.600482   \n",
       "1                               2.221989   \n",
       "2                               1.743649   \n",
       "3                               1.583333   \n",
       "4                               0.920530   \n",
       "...                                  ...   \n",
       "1665                            2.195652   \n",
       "1666                            2.147143   \n",
       "1667                            1.602410   \n",
       "1668                            1.305804   \n",
       "1669                            2.899160   \n",
       "\n",
       "      avg_full_timeshotsontarget_homevsawayratio  avg_corners_homevsawayratio  \\\n",
       "0                                       1.319079                     1.411628   \n",
       "1                                       2.027824                     1.799148   \n",
       "2                                       1.404622                     1.376274   \n",
       "3                                       1.385865                     1.605115   \n",
       "4                                       1.055684                     1.154013   \n",
       "...                                          ...                          ...   \n",
       "1665                                    1.651786                     1.506527   \n",
       "1666                                    1.815542                     1.704456   \n",
       "1667                                    1.373665                     1.315934   \n",
       "1668                                    1.216960                     1.936035   \n",
       "1669                                    2.144841                     1.972080   \n",
       "\n",
       "      avg_reds_homevsawayratio  \n",
       "0                     0.433735  \n",
       "1                     4.071429  \n",
       "2                     0.379518  \n",
       "3                     0.753968  \n",
       "4                     0.333333  \n",
       "...                        ...  \n",
       "1665                  0.230769  \n",
       "1666                  0.642857  \n",
       "1667                  0.625000  \n",
       "1668                  1.625000  \n",
       "1669                  0.821429  \n",
       "\n",
       "[1670 rows x 43 columns]"
      ]
     },
     "execution_count": 284,
     "metadata": {},
     "output_type": "execute_result"
    }
   ],
   "source": [
    "df_final.reset_index()"
   ]
  },
  {
   "cell_type": "code",
   "execution_count": 285,
   "metadata": {},
   "outputs": [],
   "source": [
    "df_final['hometeampreviousyearleagueposition'] = 0"
   ]
  },
  {
   "cell_type": "code",
   "execution_count": 286,
   "metadata": {},
   "outputs": [],
   "source": [
    "league1415 = pd.read_csv('14:15league-table.csv')\n",
    "league1516 = pd.read_csv('15:16league-table.csv')\n",
    "league1617 = pd.read_csv('16:17league-table.csv')\n",
    "league1718 = pd.read_csv('17:18league-table.csv')\n",
    "league1819 = pd.read_csv('18:19league-table.csv')"
   ]
  },
  {
   "cell_type": "code",
   "execution_count": 287,
   "metadata": {},
   "outputs": [],
   "source": [
    "list_of_leagues = [league1415,\n",
    "league1516,\n",
    "league1617,\n",
    "league1718,\n",
    "league1819]"
   ]
  },
  {
   "cell_type": "code",
   "execution_count": 288,
   "metadata": {},
   "outputs": [],
   "source": [
    "def convert_to_dict(standings):\n",
    "    league = standings[['Position', 'Team']]\n",
    "    league = dict(zip(leage.Team, leage.Position))\n",
    "    return league"
   ]
  },
  {
   "cell_type": "code",
   "execution_count": 289,
   "metadata": {},
   "outputs": [
    {
     "data": {
      "text/plain": [
       "{'Liverpool': 1,\n",
       " 'Manchester City': 2,\n",
       " 'Leicester City': 3,\n",
       " 'Chelsea': 4,\n",
       " 'Manchester United': 5,\n",
       " 'Wolverhampton Wanderers': 6,\n",
       " 'Sheffield United': 7,\n",
       " 'Tottenham Hotspur': 8,\n",
       " 'Arsenal': 9,\n",
       " 'Burnley': 10,\n",
       " 'Crystal Palace': 11,\n",
       " 'Everton': 12,\n",
       " 'Newcastle United': 13,\n",
       " 'Southampton': 14,\n",
       " 'Brighton & Hove Albion': 15,\n",
       " 'West Ham United': 16,\n",
       " 'Watford': 17,\n",
       " 'AFC Bournemouth': 18,\n",
       " 'Aston Villa': 19,\n",
       " 'Norwich City': 20}"
      ]
     },
     "execution_count": 289,
     "metadata": {},
     "output_type": "execute_result"
    }
   ],
   "source": [
    "convert_to_dict(league1415)"
   ]
  },
  {
   "cell_type": "code",
   "execution_count": 209,
   "metadata": {},
   "outputs": [],
   "source": [
    "\n",
    "for league in list_of_leages:\n",
    "    league = leage[['Position', 'Team']]\n",
    "    league = dict(zip(leage.Team, leage.Position))"
   ]
  },
  {
   "cell_type": "code",
   "execution_count": 313,
   "metadata": {},
   "outputs": [],
   "source": [
    "df_final = df_final.reset_index()"
   ]
  },
  {
   "cell_type": "code",
   "execution_count": 303,
   "metadata": {},
   "outputs": [],
   "source": [
    "df_final = df_final.sort_values(by='Date')"
   ]
  },
  {
   "cell_type": "code",
   "execution_count": 317,
   "metadata": {},
   "outputs": [],
   "source": [
    "df_final.loc[(df_final['Date'] >= '2015-08-08') & (df_final['Date'] <= '2016-05-17'),\n",
    "             'hometeampreviousyearleagueposition'] = df_final['HomeTeam'].map(convert_to_dict(league1415))\n",
    "df_final.loc[(df_final['Date'] >= '2016-08-12') & (df_final['Date'] <= '2017-05-22'),\n",
    "             'hometeampreviousyearleagueposition'] = df_final['HomeTeam'].map(convert_to_dict(league1516))\n",
    "df_final.loc[(df_final['Date'] >= '2017-08-11') & (df_final['Date'] <= '2018-05-13'),\n",
    "             'hometeampreviousyearleagueposition'] = df_final['HomeTeam'].map(convert_to_dict(league1617))\n",
    "df_final.loc[(df_final['Date'] >= '2018-08-10') & (df_final['Date'] <= '2019-05-12'),\n",
    "             'hometeampreviousyearleagueposition'] = df_final['HomeTeam'].map(convert_to_dict(league1718))\n",
    "df_final.loc[(df_final['Date'] >= '2019-08-09') & (df_final['Date'] <= '2019-12-12'),\n",
    "             'hometeampreviousyearleagueposition'] = df_final['HomeTeam'].map(convert_to_dict(league1819))"
   ]
  },
  {
   "cell_type": "code",
   "execution_count": 322,
   "metadata": {},
   "outputs": [],
   "source": [
    "df_final.loc[(df_final['Date'] >= '2015-08-08') & (df_final['Date'] <= '2016-05-17'),\n",
    "             'awayteampreviousyearleagueposition'] = df_final['AwayTeam'].map(convert_to_dict(league1415))\n",
    "df_final.loc[(df_final['Date'] >= '2016-08-12') & (df_final['Date'] <= '2017-05-22'),\n",
    "             'awayteampreviousyearleagueposition'] = df_final['AwayTeam'].map(convert_to_dict(league1516))\n",
    "df_final.loc[(df_final['Date'] >= '2017-08-11') & (df_final['Date'] <= '2018-05-13'),\n",
    "             'awayteampreviousyearleagueposition'] = df_final['AwayTeam'].map(convert_to_dict(league1617))\n",
    "df_final.loc[(df_final['Date'] >= '2018-08-10') & (df_final['Date'] <= '2019-05-12'),\n",
    "             'awayteampreviousyearleagueposition'] = df_final['AwayTeam'].map(convert_to_dict(league1718))\n",
    "df_final.loc[(df_final['Date'] >= '2019-08-09') & (df_final['Date'] <= '2019-12-12'),\n",
    "             'awayteampreviousyearleagueposition'] = df_final['AwayTeam'].map(convert_to_dict(league1819))"
   ]
  },
  {
   "cell_type": "code",
   "execution_count": 327,
   "metadata": {},
   "outputs": [],
   "source": [
    "df_final.hometeampreviousyearleagueposition.fillna(22, inplace = True)\n",
    "df_final.awayteampreviousyearleagueposition.fillna(22, inplace = True)\n",
    "df_final.dropna(inplace = True)"
   ]
  },
  {
   "cell_type": "code",
   "execution_count": 335,
   "metadata": {},
   "outputs": [],
   "source": [
    "df_final['homevsaway_standingsratio'] = df_final['hometeampreviousyearleagueposition']/df_final['awayteampreviousyearleagueposition']"
   ]
  },
  {
   "cell_type": "code",
   "execution_count": 336,
   "metadata": {},
   "outputs": [
    {
     "data": {
      "text/plain": [
       "Index(['Date', 'HomeTeam', 'AwayTeam', 'FTHG', 'FTAG', 'FTR', 'HTHG', 'HTAG',\n",
       "       'HTR', 'Referee', 'HS', 'AS', 'HST', 'AST', 'HF', 'AF', 'HC', 'AC',\n",
       "       'HY', 'AY', 'HR', 'AR', 'PSH', 'PSD', 'PSA', 'Team', 'Opponent',\n",
       "       'Date1', 'average_halftimehomegoals', 'average_halftimeawaygoals',\n",
       "       'average_fulltimehomegoals', 'average_fulltimeawaygoals',\n",
       "       'average_hometeamshotsontarget', 'average_awayteamshotsontarget',\n",
       "       'average_homecorners', 'average_awaycorners', 'average_homereds',\n",
       "       'average_awayreds', 'avg_half_timegoals_homevsawayratio',\n",
       "       'avg_full_timegoals_homevsawayratio',\n",
       "       'avg_full_timeshotsontarget_homevsawayratio',\n",
       "       'avg_corners_homevsawayratio', 'avg_reds_homevsawayratio',\n",
       "       'hometeampreviousyearleagueposition',\n",
       "       'awayteampreviousyearleagueposition', 'homevsaway_standingsratio'],\n",
       "      dtype='object')"
      ]
     },
     "execution_count": 336,
     "metadata": {},
     "output_type": "execute_result"
    }
   ],
   "source": [
    "df_final.columns"
   ]
  },
  {
   "cell_type": "code",
   "execution_count": 337,
   "metadata": {},
   "outputs": [],
   "source": [
    "df_odds = df_final[['PSH', 'PSD', 'PSA']]"
   ]
  },
  {
   "cell_type": "code",
   "execution_count": 340,
   "metadata": {},
   "outputs": [],
   "source": [
    "df_ftr = df_final[['FTR']]"
   ]
  },
  {
   "cell_type": "code",
   "execution_count": 347,
   "metadata": {},
   "outputs": [],
   "source": [
    "df_dates = df_final[['Date']]"
   ]
  },
  {
   "cell_type": "code",
   "execution_count": null,
   "metadata": {},
   "outputs": [],
   "source": [
    "df_teams = [['HomeTeam', 'AwayTeam']]"
   ]
  },
  {
   "cell_type": "code",
   "execution_count": 352,
   "metadata": {},
   "outputs": [],
   "source": [
    "df_final = df_final[['average_halftimehomegoals', 'average_halftimeawaygoals',\n",
    "       'average_fulltimehomegoals', 'average_fulltimeawaygoals',\n",
    "       'average_hometeamshotsontarget', 'average_awayteamshotsontarget',\n",
    "       'average_homecorners', 'average_awaycorners', 'average_homereds',\n",
    "       'average_awayreds', 'avg_half_timegoals_homevsawayratio',\n",
    "       'avg_full_timegoals_homevsawayratio',\n",
    "       'avg_full_timeshotsontarget_homevsawayratio',\n",
    "       'avg_corners_homevsawayratio', 'avg_reds_homevsawayratio',\n",
    "       'hometeampreviousyearleagueposition',\n",
    "       'awayteampreviousyearleagueposition', 'homevsaway_standingsratio']]"
   ]
  },
  {
   "cell_type": "code",
   "execution_count": 353,
   "metadata": {},
   "outputs": [
    {
     "data": {
      "text/plain": [
       "1669"
      ]
     },
     "execution_count": 353,
     "metadata": {},
     "output_type": "execute_result"
    }
   ],
   "source": [
    "len(df_final)"
   ]
  },
  {
   "cell_type": "code",
   "execution_count": 354,
   "metadata": {},
   "outputs": [],
   "source": [
    "x_train = df_final[:1289]\n",
    "x_test = df_final[1289:]\n",
    "y_train = df_ftr[:1289]\n",
    "y_test = df_ftr[1289:]"
   ]
  },
  {
   "cell_type": "code",
   "execution_count": 355,
   "metadata": {},
   "outputs": [
    {
     "data": {
      "text/plain": [
       "DecisionTreeClassifier(class_weight=None, criterion='gini', max_depth=None,\n",
       "                       max_features=None, max_leaf_nodes=None,\n",
       "                       min_impurity_decrease=0.0, min_impurity_split=None,\n",
       "                       min_samples_leaf=1, min_samples_split=2,\n",
       "                       min_weight_fraction_leaf=0.0, presort=False,\n",
       "                       random_state=None, splitter='best')"
      ]
     },
     "execution_count": 355,
     "metadata": {},
     "output_type": "execute_result"
    }
   ],
   "source": [
    "tree = DecisionTreeClassifier()\n",
    "\n",
    "tree.fit(x_train,y_train)"
   ]
  },
  {
   "cell_type": "code",
   "execution_count": 356,
   "metadata": {},
   "outputs": [
    {
     "data": {
      "text/plain": [
       "0.7331264546159814"
      ]
     },
     "execution_count": 356,
     "metadata": {},
     "output_type": "execute_result"
    }
   ],
   "source": [
    "tree.score(x_train, y_train)\n"
   ]
  },
  {
   "cell_type": "code",
   "execution_count": 383,
   "metadata": {},
   "outputs": [
    {
     "name": "stderr",
     "output_type": "stream",
     "text": [
      "/Users/carterbouley/anaconda3/envs/learn-env/lib/python3.6/site-packages/ipykernel_launcher.py:1: SettingWithCopyWarning: \n",
      "A value is trying to be set on a copy of a slice from a DataFrame\n",
      "\n",
      "See the caveats in the documentation: http://pandas.pydata.org/pandas-docs/stable/user_guide/indexing.html#returning-a-view-versus-a-copy\n",
      "  \"\"\"Entry point for launching an IPython kernel.\n"
     ]
    }
   ],
   "source": [
    "x_test.loc[(x_test == np.inf).any(axis=1), 'avg_reds_homevsawayratio'] = 15"
   ]
  },
  {
   "cell_type": "code",
   "execution_count": 384,
   "metadata": {},
   "outputs": [],
   "source": [
    "df1 = x_test[(x_test == np.inf).any(axis=1)]"
   ]
  },
  {
   "cell_type": "code",
   "execution_count": 385,
   "metadata": {},
   "outputs": [
    {
     "data": {
      "text/html": [
       "<div>\n",
       "<style scoped>\n",
       "    .dataframe tbody tr th:only-of-type {\n",
       "        vertical-align: middle;\n",
       "    }\n",
       "\n",
       "    .dataframe tbody tr th {\n",
       "        vertical-align: top;\n",
       "    }\n",
       "\n",
       "    .dataframe thead th {\n",
       "        text-align: right;\n",
       "    }\n",
       "</style>\n",
       "<table border=\"1\" class=\"dataframe\">\n",
       "  <thead>\n",
       "    <tr style=\"text-align: right;\">\n",
       "      <th></th>\n",
       "      <th>average_halftimehomegoals</th>\n",
       "      <th>average_halftimeawaygoals</th>\n",
       "      <th>average_fulltimehomegoals</th>\n",
       "      <th>average_fulltimeawaygoals</th>\n",
       "      <th>average_hometeamshotsontarget</th>\n",
       "      <th>average_awayteamshotsontarget</th>\n",
       "      <th>average_homecorners</th>\n",
       "      <th>average_awaycorners</th>\n",
       "      <th>average_homereds</th>\n",
       "      <th>average_awayreds</th>\n",
       "      <th>avg_half_timegoals_homevsawayratio</th>\n",
       "      <th>avg_full_timegoals_homevsawayratio</th>\n",
       "      <th>avg_full_timeshotsontarget_homevsawayratio</th>\n",
       "      <th>avg_corners_homevsawayratio</th>\n",
       "      <th>avg_reds_homevsawayratio</th>\n",
       "      <th>hometeampreviousyearleagueposition</th>\n",
       "      <th>awayteampreviousyearleagueposition</th>\n",
       "      <th>homevsaway_standingsratio</th>\n",
       "    </tr>\n",
       "  </thead>\n",
       "  <tbody>\n",
       "  </tbody>\n",
       "</table>\n",
       "</div>"
      ],
      "text/plain": [
       "Empty DataFrame\n",
       "Columns: [average_halftimehomegoals, average_halftimeawaygoals, average_fulltimehomegoals, average_fulltimeawaygoals, average_hometeamshotsontarget, average_awayteamshotsontarget, average_homecorners, average_awaycorners, average_homereds, average_awayreds, avg_half_timegoals_homevsawayratio, avg_full_timegoals_homevsawayratio, avg_full_timeshotsontarget_homevsawayratio, avg_corners_homevsawayratio, avg_reds_homevsawayratio, hometeampreviousyearleagueposition, awayteampreviousyearleagueposition, homevsaway_standingsratio]\n",
       "Index: []"
      ]
     },
     "execution_count": 385,
     "metadata": {},
     "output_type": "execute_result"
    }
   ],
   "source": [
    "df1"
   ]
  },
  {
   "cell_type": "code",
   "execution_count": 386,
   "metadata": {},
   "outputs": [
    {
     "data": {
      "text/plain": [
       "<matplotlib.axes._subplots.AxesSubplot at 0x1a1a05ac50>"
      ]
     },
     "execution_count": 386,
     "metadata": {},
     "output_type": "execute_result"
    },
    {
     "data": {
      "image/png": "[encoded data removed]",
      "text/plain": [
       "<Figure size 432x288 with 1 Axes>"
      ]
     },
     "metadata": {
      "needs_background": "light"
     },
     "output_type": "display_data"
    }
   ],
   "source": [
    "x_test.avg_reds_homevsawayratio.plot()"
   ]
  },
  {
   "cell_type": "code",
   "execution_count": 390,
   "metadata": {},
   "outputs": [],
   "source": [
    "preds = tree.predict_proba(x_test)"
   ]
  },
  {
   "cell_type": "code",
   "execution_count": 392,
   "metadata": {},
   "outputs": [
    {
     "data": {
      "text/html": [
       "<div>\n",
       "<style scoped>\n",
       "    .dataframe tbody tr th:only-of-type {\n",
       "        vertical-align: middle;\n",
       "    }\n",
       "\n",
       "    .dataframe tbody tr th {\n",
       "        vertical-align: top;\n",
       "    }\n",
       "\n",
       "    .dataframe thead th {\n",
       "        text-align: right;\n",
       "    }\n",
       "</style>\n",
       "<table border=\"1\" class=\"dataframe\">\n",
       "  <thead>\n",
       "    <tr style=\"text-align: right;\">\n",
       "      <th></th>\n",
       "      <th>FTR</th>\n",
       "    </tr>\n",
       "  </thead>\n",
       "  <tbody>\n",
       "    <tr>\n",
       "      <td>1289</td>\n",
       "      <td>A</td>\n",
       "    </tr>\n",
       "    <tr>\n",
       "      <td>1290</td>\n",
       "      <td>A</td>\n",
       "    </tr>\n",
       "    <tr>\n",
       "      <td>1291</td>\n",
       "      <td>H</td>\n",
       "    </tr>\n",
       "    <tr>\n",
       "      <td>1292</td>\n",
       "      <td>A</td>\n",
       "    </tr>\n",
       "    <tr>\n",
       "      <td>1293</td>\n",
       "      <td>H</td>\n",
       "    </tr>\n",
       "    <tr>\n",
       "      <td>...</td>\n",
       "      <td>...</td>\n",
       "    </tr>\n",
       "    <tr>\n",
       "      <td>1665</td>\n",
       "      <td>H</td>\n",
       "    </tr>\n",
       "    <tr>\n",
       "      <td>1666</td>\n",
       "      <td>H</td>\n",
       "    </tr>\n",
       "    <tr>\n",
       "      <td>1667</td>\n",
       "      <td>H</td>\n",
       "    </tr>\n",
       "    <tr>\n",
       "      <td>1668</td>\n",
       "      <td>A</td>\n",
       "    </tr>\n",
       "    <tr>\n",
       "      <td>1669</td>\n",
       "      <td>A</td>\n",
       "    </tr>\n",
       "  </tbody>\n",
       "</table>\n",
       "<p>380 rows × 1 columns</p>\n",
       "</div>"
      ],
      "text/plain": [
       "     FTR\n",
       "1289   A\n",
       "1290   A\n",
       "1291   H\n",
       "1292   A\n",
       "1293   H\n",
       "...   ..\n",
       "1665   H\n",
       "1666   H\n",
       "1667   H\n",
       "1668   A\n",
       "1669   A\n",
       "\n",
       "[380 rows x 1 columns]"
      ]
     },
     "execution_count": 392,
     "metadata": {},
     "output_type": "execute_result"
    }
   ],
   "source": [
    "y_test"
   ]
  },
  {
   "cell_type": "code",
   "execution_count": 391,
   "metadata": {},
   "outputs": [
    {
     "data": {
      "text/plain": [
       "array([[0.5       , 0.        , 0.5       ],\n",
       "       [0.66666667, 0.        , 0.33333333],\n",
       "       [0.        , 0.66666667, 0.33333333],\n",
       "       ...,\n",
       "       [0.        , 0.        , 1.        ],\n",
       "       [0.5       , 0.        , 0.5       ],\n",
       "       [0.        , 0.        , 1.        ]])"
      ]
     },
     "execution_count": 391,
     "metadata": {},
     "output_type": "execute_result"
    }
   ],
   "source": [
    "preds"
   ]
  },
  {
   "cell_type": "code",
   "execution_count": null,
   "metadata": {},
   "outputs": [],
   "source": []
  },
  {
   "cell_type": "code",
   "execution_count": 388,
   "metadata": {},
   "outputs": [
    {
     "data": {
      "text/plain": [
       "0.45263157894736844"
      ]
     },
     "execution_count": 388,
     "metadata": {},
     "output_type": "execute_result"
    }
   ],
   "source": [
    "accuracy_score(y_test, preds)"
   ]
  },
  {
   "cell_type": "code",
   "execution_count": 389,
   "metadata": {},
   "outputs": [
    {
     "data": {
      "text/plain": [
       "array(['A', 'D', 'H'], dtype=object)"
      ]
     },
     "execution_count": 389,
     "metadata": {},
     "output_type": "execute_result"
    }
   ],
   "source": [
    "tree.classes_\n"
   ]
  },
  {
   "cell_type": "code",
   "execution_count": null,
   "metadata": {},
   "outputs": [],
   "source": []
  }
 ],
 "metadata": {
  "kernelspec": {
   "display_name": "learn-env",
   "language": "python",
   "name": "learn-env"
  },
  "language_info": {
   "codemirror_mode": {
    "name": "ipython",
    "version": 3
   },
   "file_extension": ".py",
   "mimetype": "text/x-python",
   "name": "python",
   "nbconvert_exporter": "python",
   "pygments_lexer": "ipython3",
   "version": "3.6.9"
  }
 },
 "nbformat": 4,
 "nbformat_minor": 2
}
